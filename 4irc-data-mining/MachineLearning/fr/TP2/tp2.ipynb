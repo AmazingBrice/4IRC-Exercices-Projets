{
  "nbformat": 4,
  "nbformat_minor": 5,
  "metadata": {
    "kernelspec": {
      "display_name": "Python 3",
      "language": "python",
      "name": "python3"
    },
    "language_info": {
      "codemirror_mode": {
        "name": "ipython",
        "version": 3
      },
      "file_extension": ".py",
      "mimetype": "text/x-python",
      "name": "python",
      "nbconvert_exporter": "python",
      "pygments_lexer": "ipython3",
      "version": "3.8.5"
    },
    "colab": {
      "name": "tp2.ipynb",
      "provenance": [],
      "toc_visible": true,
      "include_colab_link": true
    }
  },
  "cells": [
    {
      "cell_type": "markdown",
      "metadata": {
        "id": "view-in-github",
        "colab_type": "text"
      },
      "source": [
        "<a href=\"https://colab.research.google.com/github/AmazingBrice/4irc-cours/blob/master/4irc-data-mining/MachineLearning/fr/TP2/tp2.ipynb\" target=\"_parent\"><img src=\"https://colab.research.google.com/assets/colab-badge.svg\" alt=\"Open In Colab\"/></a>"
      ]
    },
    {
      "cell_type": "markdown",
      "metadata": {
        "id": "a5kYkGdrrfz2"
      },
      "source": [
        "### Objectifs\n",
        "1.  Tracer des graphiques en utilisant\n",
        "    [matplotlib](https://matplotlib.org/api/pyplot_api.html)\n",
        "2.  Lecture et tracé d'histogrammes d'images.\n",
        "3.  Travailler avec les algorithmes de [regroupement](http://scikit-learn.org/stable/modules/clustering.html)\n",
        "    et [classification](http://scikit-learn.org/stable/modules/svm.html)"
      ],
      "id": "a5kYkGdrrfz2"
    },
    {
      "cell_type": "markdown",
      "metadata": {
        "id": "Xt381GZOrfz_"
      },
      "source": [
        "#### Exercise 2.1 \\[★\\]\n",
        "[matplotlib](https://matplotlib.org/api/pyplot_api.html) peut être utilisé pour tracer des graphiques. Voici un code très simple avec seulement valeurs x. Après avoir importé la bibliothèque *matplotlib*, nous initialisons les valeurs x et les traçons.\n",
        "\n"
      ],
      "id": "Xt381GZOrfz_"
    },
    {
      "cell_type": "code",
      "metadata": {
        "id": "u1gUfszhrf0A"
      },
      "source": [
        "               \n",
        "import matplotlib.pyplot as plot\n",
        "x = [1, 2, 3, 4, 5, 6, 7, 8, 9, 10]\n",
        "plot.plot(x)\n",
        "plot.show()\n",
        "               \n",
        "              \n",
        "\n"
      ],
      "id": "u1gUfszhrf0A",
      "execution_count": null,
      "outputs": []
    },
    {
      "cell_type": "markdown",
      "metadata": {
        "id": "IFIQxalQrf0A"
      },
      "source": [
        "![](attachment:../../images/plot.png)\n",
        "\n"
      ],
      "id": "IFIQxalQrf0A"
    },
    {
      "cell_type": "markdown",
      "metadata": {
        "id": "T40ybxYSrf0B"
      },
      "source": [
        "Changeons maintenant la couleur, le style et la largeur de la ligne."
      ],
      "id": "T40ybxYSrf0B"
    },
    {
      "cell_type": "code",
      "metadata": {
        "id": "wrb4MW3Urf0B"
      },
      "source": [
        "import matplotlib.pyplot as plot\n",
        "x = [1, 2, 3, 4, 5, 6, 7, 8, 9, 10]\n",
        "plot.plot(x, linewidth=3, drawstyle=\"steps\", color=\"#00363a\")\n",
        "plot.show()"
      ],
      "id": "wrb4MW3Urf0B",
      "execution_count": null,
      "outputs": []
    },
    {
      "cell_type": "markdown",
      "metadata": {
        "id": "q1uMO13Krf0B"
      },
      "source": [
        "Nous allons maintenant initialiser les valeurs y et tracer le graphique."
      ],
      "id": "q1uMO13Krf0B"
    },
    {
      "cell_type": "code",
      "metadata": {
        "id": "46A1LDk2rf0C"
      },
      "source": [
        "import matplotlib.pyplot as plot\n",
        "x = [1, 2, 3, 4, 5, 6, 7, 8, 9, 10]\n",
        "y = [0, 1, 0, 0, 1, 0, 1, 1, 1, 0]\n",
        "plot.plot(x, y, linewidth=3, drawstyle=\"steps\", color=\"#00363a\")\n",
        "plot.show()\n",
        "               "
      ],
      "id": "46A1LDk2rf0C",
      "execution_count": null,
      "outputs": []
    },
    {
      "cell_type": "markdown",
      "metadata": {
        "id": "hR6U5C5Xrf0C"
      },
      "source": [
        "![](attachment:../../images/stepploty.png)\n",
        "\n"
      ],
      "id": "hR6U5C5Xrf0C"
    },
    {
      "cell_type": "markdown",
      "metadata": {
        "id": "N9mIoQRorf0C"
      },
      "source": [
        "Dans la [première session pratique](../TP1/tp1.ipynb), nous avons vu comment analyser les fichiers JSON. En continuant avec le même fichier [JSON](../../data/pl.json), nous allons maintenant tracer les résultats\n",
        "du nombre de langages de programmation publiés par an. Vérifiez la sortie."
      ],
      "id": "N9mIoQRorf0C"
    },
    {
      "cell_type": "code",
      "metadata": {
        "id": "AOR8AOvJrf0D"
      },
      "source": [
        "from pandas import json_normalize\n",
        "import pandas as pd\n",
        "import json\n",
        "import matplotlib.pyplot as plot\n",
        "data = json.load(open('sample_data/pl.json'))\n",
        "dataframe = json_normalize(data)\n",
        "grouped = dataframe.groupby('year').count()\n",
        "plot.plot(grouped)\n",
        "plot.show()"
      ],
      "id": "AOR8AOvJrf0D",
      "execution_count": null,
      "outputs": []
    },
    {
      "cell_type": "markdown",
      "metadata": {
        "id": "WXcZsy4orf0D"
      },
      "source": [
        "Le programme suivant ajoutera le titre et les étiquettes à l'axe des x et à l'axe des y."
      ],
      "id": "WXcZsy4orf0D"
    },
    {
      "cell_type": "code",
      "metadata": {
        "id": "7wR4d--trf0D"
      },
      "source": [
        "from pandas import json_normalize\n",
        "import pandas as pd\n",
        "import json\n",
        "import matplotlib.pyplot as plot\n",
        "data = json.load(open('sample_data/pl.json'))\n",
        "dataframe = json_normalize(data)\n",
        "grouped = dataframe.groupby('year').count()\n",
        "plot.plot(grouped)\n",
        "plot.title(\"Programming languages per year\")\n",
        "plot.xlabel('year',  fontsize=16)\n",
        "plot.ylabel('count',  fontsize=16)\n",
        "plot.show()"
      ],
      "id": "7wR4d--trf0D",
      "execution_count": null,
      "outputs": []
    },
    {
      "cell_type": "markdown",
      "metadata": {
        "id": "molrda-trf0E"
      },
      "source": [
        "Il existe encore une autre façon de tracer les 'dataframes', en utilisant\n",
        "[pandas.DataFrame.plot](https://pandas.pydata.org/pandas-docs/stable/generated/pandas.DataFrame.plot.html).\n",
        "\n"
      ],
      "id": "molrda-trf0E"
    },
    {
      "cell_type": "code",
      "metadata": {
        "id": "eCA-d7l8rf0E"
      },
      "source": [
        "from pandas import json_normalize\n",
        "import pandas as pd\n",
        "import json\n",
        "import matplotlib.pyplot as plot\n",
        "data = json.load(open('sample_data/pl.json'))\n",
        "dataframe = json_normalize(data)\n",
        "grouped = dataframe.groupby('year').count()\n",
        "grouped = grouped.rename(\n",
        "  columns={'languageLabel':'count'}).reset_index()\n",
        "grouped.plot(x=0, kind='bar', title=\"Programming languages per year\")"
      ],
      "id": "eCA-d7l8rf0E",
      "execution_count": null,
      "outputs": []
    },
    {
      "cell_type": "markdown",
      "metadata": {
        "id": "hSx5sVy5rf0E"
      },
      "source": [
        "![](attachment:../../images/dataframeplot.png)\n",
        "Maintenant, nous voulons créer plusieurs sous-images. Une méthode simple est donnée ci-dessous.\n",
        "Rappelons que lors de la [première session pratique](../TP1/tp1.ipynb), nous avons regroupé par\n",
        "sur plusieurs colonnes. Des sous-parcelles peuvent être utilisées pour visualiser ces données.\n",
        "\n"
      ],
      "id": "hSx5sVy5rf0E"
    },
    {
      "cell_type": "code",
      "metadata": {
        "id": "hL8b4hY2rf0F"
      },
      "source": [
        "from pandas.io.json import json_normalize\n",
        "import pandas as pd\n",
        "import json\n",
        "import math\n",
        "import matplotlib.pyplot as plot\n",
        "jsondata = json.load(open('sample_data/plparadigm.json'))\n",
        "array = []\n",
        "for data in jsondata:\n",
        "    array.append([data['year'], data['languageLabel'], data['paradigmLabel']])\n",
        "\n",
        "dataframe = pd.DataFrame(array, columns=['year', 'languageLabel', 'paradigmLabel'])\n",
        "\n",
        "dataframe = dataframe.astype(dtype= {\"year\" : \"int64\",\n",
        "      \"languageLabel\" : \"<U200\",\n",
        "      \"paradigmLabel\" : \"<U200\"})\n",
        "\n",
        "print(\"\")\n",
        "\n",
        "language_per_paradigm = dataframe.groupby(\"paradigmLabel\")[\"languageLabel\"].count() # all time number of languages per paradigm\n",
        "\n",
        "\n",
        "grouped = dataframe.groupby(['paradigmLabel', 'year']).count()\n",
        "grouped = grouped.rename(columns={'languageLabel':'count'})\n",
        "grouped = grouped.groupby(['paradigmLabel'])\n",
        "\n",
        "\n",
        "#Initialization of subplots\n",
        "nr = math.ceil(grouped.ngroups/2)\n",
        "fig, axes = plot.subplots(nrows=nr, ncols=2, figsize=(20,25))\n",
        "\n",
        "\n",
        "#Creation of subplots\n",
        "for i, group in enumerate(grouped.groups.keys()):\n",
        "    g = grouped.get_group(group).reset_index()\n",
        "    g.plot(x='year', y='count', kind='bar',\n",
        "    title=group, ax=axes[math.floor(i/2),i%2])\n",
        "\n",
        "language_per_paradigm.plot(x='paradigm', y='language count', kind='bar', title=group, ax=axes[math.floor(i/2),i%2]) # plot of the retrieved data\n",
        "\n",
        "plot.show()\n"
      ],
      "id": "hL8b4hY2rf0F",
      "execution_count": null,
      "outputs": []
    },
    {
      "cell_type": "markdown",
      "metadata": {
        "id": "2dcb_oyDrf0F"
      },
      "source": [
        "![](attachment:../../images/subplots.png)\n",
        "Modifiez le code ci-dessus, afin que nous puissions obtenir des informations visuelles sur le nombre de langages de différents paradigmes de programmation publiés au cours de chaque année disponible, c'est-à-dire que pour chaque année, nous voulons voir le nombre de langages de programmation appartenant à chaque paradigme de langage de programmation.\n",
        "\n"
      ],
      "id": "2dcb_oyDrf0F"
    },
    {
      "cell_type": "markdown",
      "metadata": {
        "id": "xnvlwFEXrf0G"
      },
      "source": [
        "#### Exercice 2.2 \\[★\\]\n",
        "Dans cet exercice, nous allons travailler sur les images. Téléchargez une image (par ex,\n",
        "[image.bmp](../../images/picture.bmp) et [flower.jpg](../../images/flower.jpg)) dans votre version actuelle\n",
        "et l'ouvrir de la manière suivante. Nous allons d'abord essayer d'obtenir quelques métadonnées de l'image."
      ],
      "id": "xnvlwFEXrf0G"
    },
    {
      "cell_type": "code",
      "metadata": {
        "id": "E1byb2Xorf0G"
      },
      "source": [
        "import os,sys\n",
        "from PIL import Image\n",
        "imgfile = Image.open(\"sample_data/images/flower.bmp\")\n",
        "print(imgfile.size, imgfile.format)"
      ],
      "id": "E1byb2Xorf0G",
      "execution_count": null,
      "outputs": []
    },
    {
      "cell_type": "markdown",
      "metadata": {
        "id": "TVb8LLp2rf0G"
      },
      "source": [
        "Nous utilison le module 'Image' de Python PIL\n",
        "([Documentation](http://www.effbot.org/imagingbook/image.htm)). Nous allons essayez maintenant d'obtenir des données de 100 pixels à partir d'une image."
      ],
      "id": "TVb8LLp2rf0G"
    },
    {
      "cell_type": "code",
      "metadata": {
        "id": "3RoeqruArf0G"
      },
      "source": [
        "import os,sys\n",
        "from PIL import Image\n",
        "imgfile = Image.open(\"sample_data/images/flower.jpg\")\n",
        "data = imgfile.getdata()\n",
        "for i in range(10):\n",
        "    for j in range(10):\n",
        "        print(i,j, data.getpixel((i,j)))"
      ],
      "id": "3RoeqruArf0G",
      "execution_count": null,
      "outputs": []
    },
    {
      "cell_type": "markdown",
      "metadata": {
        "id": "f7gSsvWcrf0H"
      },
      "source": [
        "Vous pouvez remarquer la position et les valeurs des pixels (un tuple de 3 valeurs). Essayons d'obtenir des métadonnées supplémentaires sur les images, c'est-à-dire le mode de l'image (par exemple, RGB)), le nombre de bandes, le nombre de bits pour chaque bande, la largeur et la hauteur de l'image (en pixels).\n"
      ],
      "id": "f7gSsvWcrf0H"
    },
    {
      "cell_type": "code",
      "metadata": {
        "id": "k7nGK3lerf0H"
      },
      "source": [
        "import os,sys\n",
        "from PIL import Image\n",
        "imgfile = Image.open(\"sample_data/images/flower.jpg\")\n",
        "print(imgfile.mode, imgfile.getbands(), imgfile.bits,\n",
        "  imgfile.width, imgfile.height)\n",
        "              \n",
        "             \n",
        "\n"
      ],
      "id": "k7nGK3lerf0H",
      "execution_count": null,
      "outputs": []
    },
    {
      "cell_type": "markdown",
      "metadata": {
        "id": "kssoBqgJrf0H"
      },
      "source": [
        "Obtenons maintenant un histogramme des couleurs. Lorsque vous exécutez le code suivant, vous obtenez un tableau unique de valeurs, la fréquence de chaque bande (R, G, B etc.) concaténée ensemble. Dans le code suivant, nous supposerons que nous travaillons avec une image de 3 bandes (mode RGB) et que chaque bande est représentée par 8 bits. Nous allons tracer le [histogramme](http://www.effbot.org/imagingbook/image.htm#tag-Image.Image.histogram) de différentes couleurs.\n",
        "\n"
      ],
      "id": "kssoBqgJrf0H"
    },
    {
      "cell_type": "code",
      "metadata": {
        "id": "oyMmaVJErf0I"
      },
      "source": [
        "from PIL import Image\n",
        "import matplotlib.pyplot as plot\n",
        "imgfile = Image.open(\"sample_data/images/flower.jpg\")\n",
        "histogram = imgfile.histogram()\n",
        "# we have three bands (for this image)\n",
        "red = histogram[0:255]\n",
        "green = histogram[256:511]\n",
        "blue = histogram[512:767]\n",
        "fig, (axis1, axis2, axis3) = plot.subplots(nrows=3, ncols=1)\n",
        "axis1.plot(red, color='red')\n",
        "axis2.plot(green, color='green')\n",
        "axis3.plot(blue, color='blue')\n",
        "plot.show()\n",
        "               \n",
        "              \n",
        "\n"
      ],
      "id": "oyMmaVJErf0I",
      "execution_count": null,
      "outputs": []
    },
    {
      "cell_type": "markdown",
      "metadata": {
        "id": "9ux7Em2krf0I"
      },
      "source": [
        "![](attachment:../../images/histogramsubplots.png)\n",
        "Mais si vous souhaitez les voir tous dans une seule image.\n",
        "\n"
      ],
      "id": "9ux7Em2krf0I"
    },
    {
      "cell_type": "code",
      "metadata": {
        "id": "q7XVk2KJrf0J"
      },
      "source": [
        "from PIL import Image\n",
        "import matplotlib.pyplot as plot\n",
        "imgfile = Image.open(\"sample_data/images/flower.jpg\")\n",
        "histogram = imgfile.histogram()\n",
        "red = histogram[0:255]\n",
        "green = histogram[256:511]\n",
        "blue = histogram[512:767]\n",
        "x=range(255)\n",
        "y = []\n",
        "for i in x:\n",
        "    y.append((red[i],green[i],blue[i]))\n",
        "plot.plot(x,y)\n",
        "plot.show()"
      ],
      "id": "q7XVk2KJrf0J",
      "execution_count": null,
      "outputs": []
    },
    {
      "cell_type": "markdown",
      "metadata": {
        "id": "vlR4lPC2rf0J"
      },
      "source": [
        "![](attachment:../../images/histogramplot.png)\n",
        "Mais nous ne voulons pas perdre les couleurs de la bande.\n",
        "\n"
      ],
      "id": "vlR4lPC2rf0J"
    },
    {
      "cell_type": "code",
      "metadata": {
        "id": "3MyC2_Ktrf0J"
      },
      "source": [
        "from PIL import Image\n",
        "import matplotlib.pyplot as plot\n",
        "imgfile = Image.open(\"sample_data/images/flower.jpg\")\n",
        "histogram = imgfile.histogram()\n",
        "red = histogram[0:255]\n",
        "green = histogram[256:511]\n",
        "blue = histogram[512:767]\n",
        "x=range(255)\n",
        "y = []\n",
        "for i in x:\n",
        "    y.append((red[i],green[i],blue[i]))\n",
        "figure, axes = plot.subplots()\n",
        "axes.set_prop_cycle('color', ['red', 'green', 'blue'])\n",
        "plot.plot(x,y)\n",
        "plot.show()"
      ],
      "id": "3MyC2_Ktrf0J",
      "execution_count": null,
      "outputs": []
    },
    {
      "cell_type": "markdown",
      "metadata": {
        "id": "NVJdDpj6rf0K"
      },
      "source": [
        "![](attachment:../../images/histogramplotcolors.png)\n",
        "Votre prochaine question consiste à obtenir les 20 premières intensités dans chaque bande et à créer un seul tracé de ces premières intensités. Écrivez un programme python qui peut réaliser cela."
      ],
      "id": "NVJdDpj6rf0K"
    },
    {
      "cell_type": "code",
      "metadata": {
        "id": "R4_HUc0YMLfE"
      },
      "source": [
        "from PIL import Image\r\n",
        "import matplotlib.pyplot as plot\r\n",
        "imgfile = Image.open(\"sample_data/images/flower.jpg\")\r\n",
        "\r\n",
        "histogram = imgfile.histogram()\r\n",
        "red = histogram[0:255]\r\n",
        "green = histogram[256:511]\r\n",
        "blue = histogram[512:767]\r\n",
        "\r\n",
        "x=range(20)\r\n",
        "y = []\r\n",
        "for i in x:\r\n",
        "    y.append((red[i],green[i],blue[i]))\r\n",
        "figure, axes = plot.subplots()\r\n",
        "axes.set_prop_cycle('color', ['red', 'green', 'blue'])\r\n",
        "plot.plot(x,y)\r\n",
        "plot.show()\r\n",
        "\r\n",
        "## L'énoncé n'est pas clair, est ce ce qui est demandé ?"
      ],
      "id": "R4_HUc0YMLfE",
      "execution_count": null,
      "outputs": []
    },
    {
      "cell_type": "markdown",
      "metadata": {
        "id": "uCmKlQKfrf0K"
      },
      "source": [
        "#### Exercice 2.3 \\[★★\\]\n",
        "Dans cet exercice, nous examinerons  [Algorithme de regroupement KMeans](http://scikit-learn.org/stable/modules/generated/sklearn.cluster.KMeans.html).\n",
        "En continuant avec les images, nous allons maintenant trouver 4 couleurs prédominantes dans une image.\n"
      ],
      "id": "uCmKlQKfrf0K"
    },
    {
      "cell_type": "code",
      "metadata": {
        "colab": {
          "base_uri": "https://localhost:8080/",
          "height": 357
        },
        "id": "cUZ2rlzorf0K",
        "outputId": "013a7b82-be17-4391-c698-1ac659e9be96"
      },
      "source": [
        "from PIL import Image\n",
        "import numpy\n",
        "import math\n",
        "import matplotlib.pyplot as plot\n",
        "from sklearn.cluster import KMeans\n",
        "# file fetching\n",
        "imgfile = Image.open(\"sample_data/images/flower.jpg\")\n",
        "# retrieving data from the image file\n",
        "numarray = numpy.array(imgfile.getdata(), numpy.uint8)\n",
        "\n",
        "## defining the number of displayed clusters\n",
        "\n",
        "\"\"\" Remove to add user input\n",
        "clusters_number = input(\"Enter number of clusters : \")\n",
        "clusters_number = int(clusters_number)\n",
        "\"\"\"\n",
        "clusters_number = 100\n",
        "\n",
        "\n",
        "# call the K mean function who display the predominant colors by clustering the dataset of pixels colors\n",
        "clusters = KMeans(n_clusters = clusters_number)\n",
        "clusters.fit(numarray)\n",
        "\n",
        "# create an index to display the previously clustered colors\n",
        "npbins = numpy.arange(0, clusters_number + 1)\n",
        "\n",
        "#Initialization of subplots\n",
        "fig, (ax1,ax2) = plot.subplots(1,2,figsize=(10,5))\n",
        "\n",
        "\n",
        "# data formatting\n",
        "histogram = numpy.histogram(clusters.labels_, bins=npbins)\n",
        "labels = numpy.unique(clusters.labels_)\n",
        "sorted_histogram = numpy.sort(histogram[0])[::-1] ## Q2 sorting histogram data\n",
        "barlist = ax1.bar(labels, sorted_histogram )\n",
        "\n",
        "\n",
        "\n",
        "# Define the color of each bar by retrieving the color of the central point of the corresponding cluster.\n",
        "color_dict = {}\n",
        "for i in range(clusters_number):\n",
        "    color = '#%02x%02x%02x' % (\n",
        "    math.ceil(clusters.cluster_centers_[i][0]), \n",
        "        math.ceil(clusters.cluster_centers_[i][1]),\n",
        "    math.ceil(clusters.cluster_centers_[i][2]))\n",
        "    barlist[i].set_color(color)\n",
        "    color_dict[i] = color\n",
        "\n",
        "print(color_dict)\n",
        "\n",
        "pielist = ax2.pie( sorted_histogram, colors=[color_dict[key] for key in labels] )\n",
        "\n",
        "plot.show()"
      ],
      "id": "cUZ2rlzorf0K",
      "execution_count": 45,
      "outputs": [
        {
          "output_type": "stream",
          "text": [
            "{0: '#060605', 1: '#ecb915', 2: '#324e35', 3: '#1d1e1f', 4: '#d87306', 5: '#5e7667', 6: '#ed9404', 7: '#f2c206', 8: '#12180f', 9: '#2d442e', 10: '#7e5b0c', 11: '#5b574c', 12: '#edac05', 13: '#2e2e2e', 14: '#f7cc0b', 15: '#d29905', 16: '#4f7059', 17: '#213122', 18: '#111111', 19: '#503407', 20: '#d3ae3c', 21: '#e8b305', 22: '#291713', 23: '#e47e05', 24: '#f1b405', 25: '#0d0e0b', 26: '#a08024', 27: '#1a1913', 28: '#3c583d', 29: '#2b2a22', 30: '#fcc808', 31: '#172216', 32: '#283b30', 33: '#64645d', 34: '#524141', 35: '#7f8275', 36: '#191919', 37: '#c56409', 38: '#b4810b', 39: '#fdb70a', 40: '#36503f', 41: '#e7a305', 42: '#090a07', 43: '#f5ab05', 44: '#2c4236', 45: '#524b23', 46: '#fcd00e', 47: '#f8c912', 48: '#c99f1f', 49: '#af9954', 50: '#ecba06', 51: '#1d2c1d', 52: '#243528', 53: '#f9b806', 54: '#3b423d', 55: '#e2ac05', 56: '#496b50', 57: '#eebe28', 58: '#391e1c', 59: '#847543', 60: '#4f5f56', 61: '#3d3a1b', 62: '#f5c708', 63: '#714862', 64: '#c68e06', 65: '#698072', 66: '#dcae1e', 67: '#daa505', 68: '#26272b', 69: '#1d100b', 70: '#30493b', 71: '#10120c', 72: '#f09c05', 73: '#69450a', 74: '#343534', 75: '#4b2829', 76: '#a14e0a', 77: '#151515', 78: '#6d5c24', 79: '#362407', 80: '#f1c30c', 81: '#547360', 82: '#f2bc06', 83: '#f3a305', 84: '#876c1e', 85: '#fcbf06', 86: '#141d13', 87: '#44504a', 88: '#283d27', 89: '#232422', 90: '#f8b106', 91: '#e18705', 92: '#1e201a', 93: '#ea8b04', 94: '#de9a05', 95: '#9a6f0c', 96: '#1a2819', 97: '#b69124', 98: '#456447', 99: '#726f6d'}\n"
          ],
          "name": "stdout"
        },
        {
          "output_type": "display_data",
          "data": {
            "image/png": "[encoded data removed]",
            "text/plain": [
              "<Figure size 720x360 with 2 Axes>"
            ]
          },
          "metadata": {
            "tags": [],
            "needs_background": "light"
          }
        }
      ]
    },
    {
      "cell_type": "markdown",
      "metadata": {
        "id": "i3_MbEKhnUBt"
      },
      "source": [
        "## Remarques : \r\n",
        "---\r\n",
        "1 - **On observe que plus le nombre de clusters augmente, plus les leurs valeurs tendent a s'equirépartir. Cela s'explique par l'augmentation de la granularité qui nous rapproche du caractère continu de la couleur.**\r\n",
        "\r\n",
        "2 - **Le K-means est un algorithme très rapide mais il peut parfois échouer sur des minima locaux. Pour s'assurer une bonne précision dans des cas complexes, on peut lancer plusieurs instances de l'algorithme et comparer les résultats ( moyenne des résultats, suppression des valeurs aberrantes ... )**"
      ],
      "id": "i3_MbEKhnUBt"
    },
    {
      "cell_type": "markdown",
      "metadata": {
        "id": "Sfsm-RZBrf0K"
      },
      "source": [
        "![](attachment:../../images/barchart.png)\n",
        "Pour votre prochaine question, votre objectif est de comprendre le code ci-dessus et\n",
        "réaliser ce qui suit :\n",
        "1.  Supposer que le nombre de grappes est donné par l'utilisateur, généraliser\n",
        "    le code ci-dessus.\n",
        "2.  En cas de diagramme à barres, assurez-vous que les barres sont disposées dans le\n",
        "    ordre décroissant de la fréquence des couleurs.\n",
        "3.  Ajoutez également le support pour le graphique circulaire en plus du graphique en barres. Assurez-vous que\n",
        "    que nous utilisons les couleurs de l'image comme les couleurs de la tranche. \n",
        "4.  Avez-vous des observations intéressantes ?\n",
        "![](attachment:../../images/piechart.png)\n",
        "\n"
      ],
      "id": "Sfsm-RZBrf0K"
    },
    {
      "cell_type": "markdown",
      "metadata": {
        "id": "J0ZgHSTLrf0L"
      },
      "source": [
        "#### Exercise 2.4 \\[★★\\]\n",
        "Nous allons essayer d'obtenir plus de clusters et de vérifier le temps pris par chacun de ces algorithmes.\n",
        "Commençons par quelques exercices très simples pour expérimenter l'algorithme KMeans. Considérez les données suivantes et visualisez-les sur un nuage de points à l'aide d'un diagramme de dispersion."
      ],
      "id": "J0ZgHSTLrf0L"
    },
    {
      "cell_type": "code",
      "metadata": {
        "id": "HEHYsuJfrf0L"
      },
      "source": [
        "import numpy as np\n",
        "import matplotlib.pyplot as plot\n",
        "\n",
        "numarray = np.array([[1, 1], [1, 2], [1, 3], [1, 4], [1, 5], \n",
        " [1, 6], [1, 7], [1, 8],[1, 9], [1, 10], \n",
        " [10, 1], [10, 2], [10, 3], [10, 4], [10, 5], \n",
        " [10, 6], [10, 7], [10, 8],[10, 9], [10, 10]])\n",
        "\n",
        "plot.scatter(numarray[:, 0], numarray[:, 1])\n",
        "plot.show()\n",
        "\n"
      ],
      "id": "HEHYsuJfrf0L",
      "execution_count": null,
      "outputs": []
    },
    {
      "cell_type": "markdown",
      "metadata": {
        "id": "IX7M-cEHrf0M"
      },
      "source": [
        "Visuellement, il est assez évident qu'il y a deux groupes. Mais utilisons l'algorithme KMeans pour obtenir les 2 clusters. Nous allons d'abord voir les étiquettes de nos données regroupées."
      ],
      "id": "IX7M-cEHrf0M"
    },
    {
      "cell_type": "code",
      "metadata": {
        "id": "MyetahiBrf0M"
      },
      "source": [
        "import numpy as np\n",
        "import matplotlib.pyplot as plot\n",
        "from sklearn.cluster import KMeans\n",
        "\n",
        "numarray = np.array([[1, 1], [1, 2], [1, 3], [1, 4], [1, 5], \n",
        " [1, 6], [1, 7], [1, 8],[1, 9], [1, 10], \n",
        " [10, 1], [10, 2], [10, 3], [10, 4], [10, 5], \n",
        " [10, 6], [10, 7], [10, 8],[10, 9], [10, 10]])\n",
        "\n",
        "clusters = KMeans(n_clusters = 2)\n",
        "clusters.fit(numarray)\n",
        "print(clusters.labels_)"
      ],
      "id": "MyetahiBrf0M",
      "execution_count": null,
      "outputs": []
    },
    {
      "cell_type": "markdown",
      "metadata": {
        "id": "-2uNHlOzrf0M"
      },
      "source": [
        "Maintenant, nous allons visualiser les groupes à l'aide d'un nuage de points. Nous utiliserons\n",
        "deux couleurs pour les distinguer visuellement."
      ],
      "id": "-2uNHlOzrf0M"
    },
    {
      "cell_type": "code",
      "metadata": {
        "id": "fbNP18Wwrf0N"
      },
      "source": [
        "import numpy as np\n",
        "import matplotlib.pyplot as plot\n",
        "from sklearn.cluster import KMeans\n",
        "\n",
        "numarray = np.array([[1, 1], [1, 2], [1, 3], [1, 4], [1, 5], \n",
        " [1, 6], [1, 7], [1, 8],[1, 9], [1, 10], \n",
        " [10, 1], [10, 2], [10, 3], [10, 4], [10, 5], \n",
        " [10, 6], [10, 7], [10, 8],[10, 9], [10, 10]])\n",
        "    \n",
        "clusters = KMeans(n_clusters = 2)\n",
        "clusters.fit(numarray)\n",
        "colors = np.array([\"#ff0000\", \"#00ff00\"])\n",
        "        \n",
        "plot.scatter(numarray[:, 0], numarray[:, 1], c=colors[clusters.labels_])\n",
        "plot.show()\n",
        "\n"
      ],
      "id": "fbNP18Wwrf0N",
      "execution_count": null,
      "outputs": []
    },
    {
      "cell_type": "markdown",
      "metadata": {
        "id": "y2nhgU1qrf0N"
      },
      "source": [
        "Et si nous essayions d'obtenir 4 clusters ? Essayez d'exécuter le code suivant, plusieurs fois. Des observations ? Essayez de changer la valeur de *n_init* avec des valeurs plus élevées."
      ],
      "id": "y2nhgU1qrf0N"
    },
    {
      "cell_type": "code",
      "metadata": {
        "id": "hHq1trIsrf0N"
      },
      "source": [
        "import numpy as np\n",
        "import matplotlib.pyplot as plot\n",
        "from sklearn.cluster import KMeans\n",
        "\n",
        "numarray = np.array([[1, 1], [1, 2], [1, 3], [1, 4], [1, 5], \n",
        " [1, 6], [1, 7], [1, 8],[1, 9], [1, 10], \n",
        " [10, 1], [10, 2], [10, 3], [10, 4], [10, 5], \n",
        " [10, 6], [10, 7], [10, 8],[10, 9], [10, 10]])\n",
        "    \n",
        "clusters = KMeans(n_clusters = 4, n_init=2)\n",
        "clusters.fit(numarray)\n",
        "colors = np.array([\"#ff0000\", \"#00ff00\", \"#0000ff\", \"#ffff00\"])\n",
        "        \n",
        "plot.scatter(numarray[:, 0], numarray[:, 1], c=colors[clusters.labels_])\n",
        "plot.show()"
      ],
      "id": "hHq1trIsrf0N",
      "execution_count": null,
      "outputs": []
    },
    {
      "cell_type": "markdown",
      "metadata": {
        "id": "0OjGNVHdrf0O"
      },
      "source": [
        "Nous allons maintenant essayer d'obtenir des clusters avec des données réelles (référence : [citypopulation.json](../../data/citypopulation.json), Source : Wikidata). Il contient des informations concernant différentes villes du monde : nom de la ville, année de sa fondation et sa population en l'année 2010. Dans le code suivant, nous voulons regrouper les données sur la population et d'observer s'il y a une corrélation entre l'âge et la les statistiques de la population (2010). Dans le code suivant, il y a un ligne commentée. Vous pouvez le décommenter pour essayer avec une population différente les chiffres. Des observations ? Pourquoi avons-nous utilisé LabelEncoder ? Quelle est sa but ?"
      ],
      "id": "0OjGNVHdrf0O"
    },
    {
      "cell_type": "code",
      "metadata": {
        "id": "Y5rZXz8qrf0O"
      },
      "source": [
        "from pandas import json_normalize\n",
        "from sklearn.preprocessing import LabelEncoder\n",
        "import pandas as pd\n",
        "import json\n",
        "data = json.load(open('../../data/citypopulation.json'))\n",
        "dataframe = json_normalize(data)\n",
        "le = LabelEncoder()\n",
        "dataframe['cityLabel'] = le.fit_transform(dataframe['cityLabel'])\n",
        "dataframe = dataframe.astype(dtype= {\"year\":\"<i4\",\n",
        "\"cityLabel\":\"<U200\", \"population\":\"i\"})\n",
        "dataframe = dataframe.loc[dataframe['year'] > 1500]\n",
        "#dataframe = dataframe.loc[dataframe['population'] < 700000]\n",
        "yearPopulation = dataframe[['year', 'population']]\n",
        "clusters = KMeans(n_clusters = 2, n_init=1000)\n",
        "clusters.fit(yearPopulation.values)\n",
        "colors = np.array([\"#ff0000\", \"#00ff00\", \"#0000ff\", \"#ffff00\"])\n",
        "   \n",
        "plot.rcParams['figure.figsize'] = [10, 10]\n",
        "plot.scatter(yearPopulation['year'], yearPopulation['population'],\n",
        "      c=colors[clusters.labels_])\n",
        "plot.show()"
      ],
      "id": "Y5rZXz8qrf0O",
      "execution_count": null,
      "outputs": []
    },
    {
      "cell_type": "markdown",
      "metadata": {
        "id": "6pJJVTrzrf0O"
      },
      "source": [
        "Maintenant, continuons à travailler avec [flower.jpg](../../images/flower.jpg). Recommençons avec **KMeans** et essayons d'obtenir des groupes de taille comprise entre 2 et 11."
      ],
      "id": "6pJJVTrzrf0O"
    },
    {
      "cell_type": "code",
      "metadata": {
        "id": "s9VrqAq3rf0O"
      },
      "source": [
        "from PIL import Image\n",
        "import numpy\n",
        "import math\n",
        "import matplotlib.pyplot as plot\n",
        "from sklearn.cluster import KMeans\n",
        "imgfile = Image.open(\"../../images/flower.jpg\")\n",
        "numarray = numpy.array(imgfile.getdata(), numpy.uint8)\n",
        "X = []\n",
        "Y = []\n",
        "fig, axes = plot.subplots(nrows=5, ncols=2, figsize=(20,25))\n",
        "xaxis = 0\n",
        "yaxis = 0\n",
        "for x in range(2, 12):\n",
        "    cluster_count = x \n",
        "    \n",
        "    clusters = KMeans(n_clusters = cluster_count)\n",
        "    clusters.fit(numarray)\n",
        "    \n",
        "    npbins = numpy.arange(0, cluster_count + 1)\n",
        "    histogram = numpy.histogram(clusters.labels_, bins=npbins)\n",
        "    labels = numpy.unique(clusters.labels_)\n",
        "    barlist = axes[xaxis, yaxis].bar(labels, histogram[0])\n",
        "    if(yaxis == 0):\n",
        "        yaxis = 1\n",
        "    else:\n",
        "        xaxis = xaxis + 1\n",
        "        yaxis = 0\n",
        "    for i in range(cluster_count):\n",
        "        barlist[i].set_color('#%02x%02x%02x' % (\n",
        "        math.ceil(clusters.cluster_centers_[i][0]),\n",
        "            math.ceil(clusters.cluster_centers_[i][1]), \n",
        "        math.ceil(clusters.cluster_centers_[i][2])))\n",
        "plot.show()"
      ],
      "id": "s9VrqAq3rf0O",
      "execution_count": null,
      "outputs": []
    },
    {
      "cell_type": "markdown",
      "metadata": {
        "id": "WZEJp20trf0P"
      },
      "source": [
        "Votre prochain objectif est de tester le code ci-dessus pour les tailles de grappes entre 2 et 21, ce qui vous donnera le chiffre indiqué ci-dessous.\n",
        "\n",
        "**Note:** L'image suivante a été générée après 6 minutes. \n",
        "\n",
        "En option, vous pouvez ajouter des déclarations *print* pour tester si votre code fonctionne bien.\n",
        "\n",
        "![](attachment:../../images/kmeans.png)\n",
        "Now we modify the above algorithm to use **MiniBatchKMeans** clustering\n",
        "algorithm (refer\n",
        "[here](http://scikit-learn.org/stable/modules/clustering.html#mini-batch-kmeans)).\n",
        "Observez les changements.\n",
        "\n"
      ],
      "id": "WZEJp20trf0P"
    },
    {
      "cell_type": "code",
      "metadata": {
        "id": "wUoFudWdrf0P"
      },
      "source": [
        "from PIL import Image\n",
        "import numpy\n",
        "import math\n",
        "import matplotlib.pyplot as plot\n",
        "from sklearn.cluster import MiniBatchKMeans\n",
        "imgfile = Image.open(\"../../images/flower.jpg\")\n",
        "numarray = numpy.array(imgfile.getdata(), numpy.uint8)\n",
        "X = []\n",
        "Y = []\n",
        "fig, axes = plot.subplots(nrows=5, ncols=2, figsize=(20,25))\n",
        "xaxis = 0\n",
        "yaxis = 0\n",
        "for x in range(2, 12):\n",
        "    cluster_count = x \n",
        "    \n",
        "    clusters = MiniBatchKMeans(n_clusters = cluster_count)\n",
        "    clusters.fit(numarray)\n",
        "    \n",
        "    npbins = numpy.arange(0, cluster_count + 1)\n",
        "    histogram = numpy.histogram(clusters.labels_, bins=npbins)\n",
        "    labels = numpy.unique(clusters.labels_)\n",
        "    barlist = axes[xaxis, yaxis].bar(labels, histogram[0])\n",
        "    if(yaxis == 0):\n",
        "        yaxis = 1\n",
        "    else:\n",
        "        xaxis = xaxis + 1\n",
        "        yaxis = 0\n",
        "    for i in range(cluster_count):\n",
        "        barlist[i].set_color('#%02x%02x%02x' % (\n",
        "        math.ceil(clusters.cluster_centers_[i][0]),\n",
        "            math.ceil(clusters.cluster_centers_[i][1]), \n",
        "        math.ceil(clusters.cluster_centers_[i][2])))\n",
        "plot.show()"
      ],
      "id": "wUoFudWdrf0P",
      "execution_count": null,
      "outputs": []
    },
    {
      "cell_type": "markdown",
      "metadata": {
        "id": "WblYoJjsrf0P"
      },
      "source": [
        "What did you observe? Your next goal is to test the above code for cluster sizes between 2 and 21 which will give you the figure given below.\n",
        "\n",
        "What are your conclusions?\n",
        "\n",
        "![](attachment:../../images/minibatchkmeans.png)\n",
        "Afin de comparer les deux algorithmes, nous considérons le temps pris par chacun de ces algorithmes. Nous allons répéter l'expérience ci-dessus, mais cette fois nous allons tracer le temps nécessaire pour obtenir des grappes de tailles différentes.\n",
        "\n",
        "Nous commençons par **KMeans**.\n"
      ],
      "id": "WblYoJjsrf0P"
    },
    {
      "cell_type": "code",
      "metadata": {
        "id": "5FiS1ekWrf0Q"
      },
      "source": [
        "from PIL import Image\n",
        "import numpy\n",
        "import math\n",
        "import time\n",
        "import matplotlib.pyplot as plot\n",
        "from sklearn.cluster import KMeans\n",
        "imgfile = Image.open(\"../../images/flower.jpg\")\n",
        "numarray = numpy.array(imgfile.getdata(), numpy.uint8)\n",
        "X = []\n",
        "Y = []\n",
        "for x in range(1, 20):\n",
        "    cluster_count = x \n",
        "    \n",
        "    start_time = time.time()\n",
        "    clusters = KMeans(n_clusters = cluster_count)\n",
        "    clusters.fit(numarray)\n",
        "    end_time = time.time()\n",
        "    total_time = end_time - start_time\n",
        "    print(\"Total time: \", x, \":\", total_time)\n",
        "    X.append(x)\n",
        "    Y.append(total_time)\n",
        "plot.bar(X, Y)\n",
        "plot.show()"
      ],
      "id": "5FiS1ekWrf0Q",
      "execution_count": null,
      "outputs": []
    },
    {
      "cell_type": "markdown",
      "metadata": {
        "id": "U7wDMzMYrf0Q"
      },
      "source": [
        "Vous pouvez obtenir un graphique similaire à celui qui suit.\n",
        "![](attachment:../../images/kmeanstime.png)\n",
        "\n",
        "Nous utilisons maintenant **MiniBatchKMeans**."
      ],
      "id": "U7wDMzMYrf0Q"
    },
    {
      "cell_type": "code",
      "metadata": {
        "id": "2ijXu-0arf0Q"
      },
      "source": [
        "from PIL import Image\n",
        "import numpy\n",
        "import math\n",
        "import time\n",
        "import matplotlib.pyplot as plot\n",
        "from sklearn.cluster import MiniBatchKMeans\n",
        "imgfile = Image.open(\"../../images/flower.jpg\")\n",
        "numarray = numpy.array(imgfile.getdata(), numpy.uint8)\n",
        "X = []\n",
        "Y = []\n",
        "for x in range(1, 20):\n",
        "    cluster_count = x \n",
        "    \n",
        "    start_time = time.time()\n",
        "    clusters = MiniBatchKMeans(n_clusters = cluster_count)\n",
        "    clusters.fit(numarray)\n",
        "    end_time = time.time()\n",
        "    total_time = end_time - start_time\n",
        "    print(\"Total time: \", x, \":\", total_time)\n",
        "    X.append(x)\n",
        "    Y.append(total_time)\n",
        "plot.bar(X, Y)\n",
        "plot.show()"
      ],
      "id": "2ijXu-0arf0Q",
      "execution_count": null,
      "outputs": []
    },
    {
      "cell_type": "markdown",
      "metadata": {
        "id": "Oq22xR-wrf0Q"
      },
      "source": [
        "Vous pouvez obtenir un graphique similaire à celui qui suit.\n",
        "\n",
        "![](attachment:../../images/minibatchkmeanstime.png)\n",
        "\n",
        "Testez maintenant le code ci-dessus en utilisant l'algorithme **MiniBatchKMeans** avec des tailles de grappes entre 2 et 50. Quelles sont vos observations ?\n",
        "\n",
        "Enfin, nous voulons voir si nous obtenons les mêmes centres de grappes à partir des deux algorithmes. Lancez le programme suivant pour voir les centres de grappes produits par les deux algorithmes. Nous utilisons deux couleurs différentes (rouge et noir) pour distinguer les centres de grappes des deux algorithmes.\n"
      ],
      "id": "Oq22xR-wrf0Q"
    },
    {
      "cell_type": "code",
      "metadata": {
        "id": "62bVHmXirf0R"
      },
      "source": [
        "from PIL import Image\n",
        "import numpy\n",
        "import math\n",
        "import matplotlib.pyplot as plot\n",
        "from sklearn.cluster import KMeans\n",
        "from sklearn.cluster import MiniBatchKMeans\n",
        "\n",
        "imgfile = Image.open(\"../../images/flower.jpg\")\n",
        "numarray = numpy.array(imgfile.getdata(), numpy.uint8)\n",
        "\n",
        "cluster_count = 10\n",
        "\n",
        "clusters = KMeans(n_clusters = cluster_count)\n",
        "clusters.fit(numarray)\n",
        "\n",
        "mclusters = MiniBatchKMeans(n_clusters = cluster_count)\n",
        "mclusters.fit(numarray)\n",
        "\n",
        "fig, axes = plot.subplots(nrows=3, ncols=1, figsize=(20,25))\n",
        "#Scatter plot for RG (RGB)\n",
        "axes[0].scatter(numarray[:,0],numarray[:,1])\n",
        "axes[0].scatter(clusters.cluster_centers_[:,0],\n",
        "            clusters.cluster_centers_[:,1], c='red')\n",
        "axes[0].scatter(mclusters.cluster_centers_[:,0],\n",
        "            mclusters.cluster_centers_[:,1], c='black')\n",
        "\n",
        "#Scatter plot of RB (RGB)\n",
        "axes[1].scatter(numarray[:,0],numarray[:,2])\n",
        "axes[1].scatter(clusters.cluster_centers_[:,0],\n",
        "            clusters.cluster_centers_[:,2], c='red')\n",
        "axes[1].scatter(mclusters.cluster_centers_[:,0],\n",
        "            mclusters.cluster_centers_[:,2], c='black')\n",
        "\n",
        "#Scatter plot of GB (RGB)\n",
        "axes[2].scatter(numarray[:,1],numarray[:,2])\n",
        "axes[2].scatter(clusters.cluster_centers_[:,1],\n",
        "            clusters.cluster_centers_[:,2], c='red')\n",
        "axes[2].scatter(mclusters.cluster_centers_[:,1],\n",
        "            mclusters.cluster_centers_[:,2], c='black')\n"
      ],
      "id": "62bVHmXirf0R",
      "execution_count": null,
      "outputs": []
    },
    {
      "cell_type": "markdown",
      "metadata": {
        "id": "hA9YbZv4rf0R"
      },
      "source": [
        "![](attachment:../../images/scatterplots.png)\n",
        "\n",
        "Nous aimerions voir comment les valeurs des pixels individuels ont été regroupées. Exécutez le programme suivant quelques fois.\n"
      ],
      "id": "hA9YbZv4rf0R"
    },
    {
      "cell_type": "code",
      "metadata": {
        "id": "GVV9jVZurf0R"
      },
      "source": [
        "from PIL import Image\n",
        "import numpy\n",
        "import math\n",
        "import time\n",
        "import matplotlib.pyplot as plot\n",
        "from sklearn.cluster import KMeans\n",
        "from sklearn.cluster import MiniBatchKMeans\n",
        "\n",
        "imgfile = Image.open(\"../../images/flower.jpg\")\n",
        "numarray = numpy.array(imgfile.getdata(), numpy.uint8)\n",
        "\n",
        "cluster_count = 10\n",
        "\n",
        "mclusters = MiniBatchKMeans(n_clusters = cluster_count)\n",
        "mclusters.fit(numarray)\n",
        "\n",
        "npbins = numpy.arange(0, cluster_count + 1)\n",
        "histogram = numpy.histogram(mclusters.labels_, bins=npbins)\n",
        "labels = numpy.unique(mclusters.labels_)\n",
        "\n",
        "fig, axes = plot.subplots(nrows=3, ncols=2, figsize=(20,25))\n",
        "\n",
        "#Scatter plot for RG (RGB)\n",
        "colors = []\n",
        "for i in range(len(numarray)):\n",
        "    j = mclusters.labels_[i]\n",
        "    colors.append('#%02x%02x%02x' % (\n",
        "       math.ceil(mclusters.cluster_centers_[j][0]),\n",
        "           math.ceil(mclusters.cluster_centers_[j][1]), 0))\n",
        "                  \n",
        "axes[0,0].scatter(numarray[:,0],numarray[:,1], c=colors)\n",
        "axes[0,0].scatter(mclusters.cluster_centers_[:,0],\n",
        "              mclusters.cluster_centers_[:,1], marker=\"+\", c='red')\n",
        "\n",
        "#Scatter plot for RB (RGB)\n",
        "colors = []\n",
        "for i in range(len(numarray)):\n",
        "    j = mclusters.labels_[i]\n",
        "    colors.append('#%02x%02x%02x' % (\n",
        "       math.ceil(mclusters.cluster_centers_[j][0]),\n",
        "           0, math.ceil(mclusters.cluster_centers_[j][2])))\n",
        "                  \n",
        "axes[1,0].scatter(numarray[:,0],numarray[:,2], c=colors)\n",
        "axes[1,0].scatter(mclusters.cluster_centers_[:,0],\n",
        "           mclusters.cluster_centers_[:,2], marker=\"+\", c='white')\n",
        "\n",
        "#Scatter plot for GB (RGB)\n",
        "colors = []\n",
        "for i in range(len(numarray)):\n",
        "    j = mclusters.labels_[i]\n",
        "    colors.append('#%02x%02x%02x' % (0, \n",
        "       math.ceil(mclusters.cluster_centers_[j][1]),\n",
        "            math.ceil(mclusters.cluster_centers_[j][2])))\n",
        "                  \n",
        "axes[2,0].scatter(numarray[:,1],numarray[:,2], c=colors)\n",
        "axes[2,0].scatter(mclusters.cluster_centers_[:,1],\n",
        "      mclusters.cluster_centers_[:,2], marker=\"+\", c='yellow')\n",
        "\n",
        "clusters = KMeans(n_clusters = cluster_count)\n",
        "clusters.fit(numarray)\n",
        "\n",
        "npbins = numpy.arange(0, cluster_count + 1)\n",
        "histogram = numpy.histogram(clusters.labels_, bins=npbins)\n",
        "labels = numpy.unique(clusters.labels_)\n",
        "\n",
        "#Scatter plot for RG (RGB)\n",
        "colors = []\n",
        "for i in range(len(numarray)):\n",
        "    j = clusters.labels_[i]\n",
        "    colors.append('#%02x%02x%02x' % (\n",
        "       math.ceil(clusters.cluster_centers_[j][0]),\n",
        "           math.ceil(clusters.cluster_centers_[j][1]), 0))\n",
        "                  \n",
        "axes[0,1].scatter(numarray[:,0],numarray[:,1], c=colors)\n",
        "axes[0,1].scatter(clusters.cluster_centers_[:,0],\n",
        "              clusters.cluster_centers_[:,1], marker=\"+\", c='red')\n",
        "\n",
        "#Scatter plot for RB (RGB)\n",
        "colors = []\n",
        "for i in range(len(numarray)):\n",
        "    j = clusters.labels_[i]\n",
        "    colors.append('#%02x%02x%02x' % (\n",
        "       math.ceil(clusters.cluster_centers_[j][0]),\n",
        "           0, math.ceil(clusters.cluster_centers_[j][2])))\n",
        "                  \n",
        "axes[1,1].scatter(numarray[:,0],numarray[:,2], c=colors)\n",
        "axes[1,1].scatter(clusters.cluster_centers_[:,0],\n",
        "     clusters.cluster_centers_[:,2], marker=\"+\", c='white')\n",
        "\n",
        "#Scatter plot for GB (RGB)\n",
        "colors = []\n",
        "for i in range(len(numarray)):\n",
        "    j = clusters.labels_[i]\n",
        "    colors.append('#%02x%02x%02x' % (0, \n",
        "      math.ceil(clusters.cluster_centers_[j][1]),\n",
        "            math.ceil(clusters.cluster_centers_[j][2])))\n",
        "                  \n",
        "axes[2,1].scatter(numarray[:,1],numarray[:,2], c=colors)\n",
        "axes[2,1].scatter(clusters.cluster_centers_[:,1],\n",
        "      clusters.cluster_centers_[:,2], marker=\"+\", c='yellow')\n",
        "plot.show()\n"
      ],
      "id": "GVV9jVZurf0R",
      "execution_count": null,
      "outputs": []
    },
    {
      "cell_type": "markdown",
      "metadata": {
        "id": "FGJPzuQBrf0S"
      },
      "source": [
        "![](attachment:../../images/kmeansminibatchcomparison.png)\n",
        "\n",
        "Quelles sont vos conclusions ?\n",
        "\n"
      ],
      "id": "FGJPzuQBrf0S"
    }
  ]
}