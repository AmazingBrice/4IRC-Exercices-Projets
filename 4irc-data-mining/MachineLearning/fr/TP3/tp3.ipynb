{
  "nbformat": 4,
  "nbformat_minor": 5,
  "metadata": {
    "kernelspec": {
      "display_name": "Python 3",
      "language": "python",
      "name": "python3"
    },
    "language_info": {
      "codemirror_mode": {
        "name": "ipython",
        "version": 3
      },
      "file_extension": ".py",
      "mimetype": "text/x-python",
      "name": "python",
      "nbconvert_exporter": "python",
      "pygments_lexer": "ipython3",
      "version": "3.8.5"
    },
    "colab": {
      "name": "tp3.ipynb",
      "provenance": [],
      "toc_visible": true,
      "include_colab_link": true
    }
  },
  "cells": [
    {
      "cell_type": "markdown",
      "metadata": {
        "id": "view-in-github",
        "colab_type": "text"
      },
      "source": [
        "<a href=\"https://colab.research.google.com/github/AmazingBrice/4irc-cours/blob/master/4irc-data-mining/MachineLearning/fr/TP3/tp3.ipynb\" target=\"_parent\"><img src=\"https://colab.research.google.com/assets/colab-badge.svg\" alt=\"Open In Colab\"/></a>"
      ]
    },
    {
      "cell_type": "markdown",
      "metadata": {
        "id": "NW2gu9i_1CMx"
      },
      "source": [
        "### Objectifs\n",
        "\n",
        "1.  Continuer à travailler avec les [regroupements](http://scikit-learn.org/stable/modules/clustering.html) et les [classifications](http://scikit-learn.org/stable/modules/svm.html) algorithmes\n",
        "2.  Travaux sur les [modèles de régression linéaire](http://scikit-learn.org/stable/modules/linear_model.html)\n",
        "3.  Commencer à travailler sur les [modèles de réseaux de neurones](http://scikit-learn.org/stable/modules/neural_networks_supervised.html) y compris les perceptrons à une ou plusieurs couches.\n",
        "4.  Travaux sur les [arbres de décision](https://en.wikipedia.org/wiki/Decision_tree) et les [forêts aléatoires](https://en.wikipedia.org/wiki/Random_forest).\n",
        "5.  Continuer à travailler sur le [système de recommandation](https://en.wikipedia.org/wiki/Recommender_system)\n"
      ],
      "id": "NW2gu9i_1CMx"
    },
    {
      "cell_type": "markdown",
      "metadata": {
        "id": "3bmJZPbb1CM4"
      },
      "source": [
        "#### Exercice 3.1 \\[★\\]\n",
        "\n",
        "Nous allons maintenant travailler avec la **régression linéaire** (voir [ici](http://scikit-learn.org/stable/modules/linear_model.html#ordinary-least-squares)).\n",
        "\n",
        "Voyons quelques programmes simples. Dans les données suivantes, où nous avons quelques exemples de données pour l'équation : *y = x*. Nous allons d'abord entraîner notre modèle de régression linéaire avec un très petit sous-ensemble et tester s'il est capable de prédire les valeurs *y-* pour de nouvelles valeurs *x-*."
      ],
      "id": "3bmJZPbb1CM4"
    },
    {
      "cell_type": "code",
      "metadata": {
        "id": "XiBL_HGS1CM5",
        "outputId": "ad6dd895-4638-4708-c80c-2b0b20ec1c19",
        "colab": {
          "base_uri": "https://localhost:8080/"
        }
      },
      "source": [
        "import numpy as np\n",
        "import matplotlib.pyplot as plot\n",
        "from sklearn.linear_model import LinearRegression\n",
        "numarray = np.array([[0,0], [1,1], [2,2], [3,3], [4,4], [5,5]])\n",
        "\n",
        "lr = LinearRegression()\n",
        "lr.fit(numarray[:, 0].reshape(-1, 1), numarray[:, 1].reshape(-1, 1))\n",
        "\n",
        "#printing coefficients\n",
        "print(lr.intercept_, lr.coef_)\n",
        "\n",
        "x_predict = np.array([6, 7, 8, 9, 10])\n",
        "\n",
        "y_predict = lr.predict(x_predict.reshape(-1, 1))\n",
        "print(y_predict)"
      ],
      "id": "XiBL_HGS1CM5",
      "execution_count": 1,
      "outputs": [
        {
          "output_type": "stream",
          "text": [
            "[4.4408921e-16] [[1.]]\n",
            "[[ 6.]\n",
            " [ 7.]\n",
            " [ 8.]\n",
            " [ 9.]\n",
            " [10.]]\n"
          ],
          "name": "stdout"
        }
      ]
    },
    {
      "cell_type": "markdown",
      "metadata": {
        "id": "-i28Lzhy1CM6"
      },
      "source": [
        "Ensuite, nous avons quelques exemples de données pour l'équation : *y = x + 1*. Nous allons entraîner notre modèle de régression linéaire à tester s'il est capable de prédire les valeurs *y-* pour les nouvelles valeurs *x-*."
      ],
      "id": "-i28Lzhy1CM6"
    },
    {
      "cell_type": "code",
      "metadata": {
        "id": "4PT17k9K1CM6",
        "outputId": "7e90188e-0ded-4f35-f9ce-81af503793b6",
        "colab": {
          "base_uri": "https://localhost:8080/"
        }
      },
      "source": [
        "import numpy as np\n",
        "import matplotlib.pyplot as plot\n",
        "from sklearn.linear_model import LinearRegression\n",
        "\n",
        "numarray = np.array([[0,1], [1,2], [2,3], [3,4], [4,5], [5,6]])\n",
        "\n",
        "lr = LinearRegression()\n",
        "lr.fit(numarray[:, 0].reshape(-1, 1), numarray[:, 1].reshape(-1, 1))\n",
        "\n",
        "#printing coefficients\n",
        "print(lr.intercept_, lr.coef_)\n",
        "\n",
        "x_predict = np.array([6, 7, 8, 9, 10]) # test datas\n",
        "\n",
        "y_predict = lr.predict(x_predict.reshape(-1, 1)) # predicted data\n",
        "print(y_predict)"
      ],
      "id": "4PT17k9K1CM6",
      "execution_count": 2,
      "outputs": [
        {
          "output_type": "stream",
          "text": [
            "[1.] [[1.]]\n",
            "[[ 7.]\n",
            " [ 8.]\n",
            " [ 9.]\n",
            " [10.]\n",
            " [11.]]\n"
          ],
          "name": "stdout"
        }
      ]
    },
    {
      "cell_type": "markdown",
      "metadata": {
        "id": "v2Gm47i71CM7"
      },
      "source": [
        "Mais, et si nous essayions le modèle de régression linéaire pour l'équation : *y = x<sup>2</sup>*. Qu'avez-vous observé avec le code suivant ? A-t-il prédit les valeurs *y-* correctement ?"
      ],
      "id": "v2Gm47i71CM7"
    },
    {
      "cell_type": "markdown",
      "metadata": {
        "id": "__Q36bER6F7Z"
      },
      "source": [
        "**Les valeurs sont très différentes. En effet on modèlise un polynome de degré 2 avec une fonction affine.**"
      ],
      "id": "__Q36bER6F7Z"
    },
    {
      "cell_type": "code",
      "metadata": {
        "id": "1BUoCAPE1CM7",
        "outputId": "71c6b214-bdd3-4252-d845-19ebba40450e",
        "colab": {
          "base_uri": "https://localhost:8080/"
        }
      },
      "source": [
        "import numpy as np\n",
        "import matplotlib.pyplot as plot\n",
        "from sklearn.linear_model import LinearRegression\n",
        "\n",
        "numarray = np.array([[0,0], [1,1], [2,4], [3,9], [4,16], [5,25]])\n",
        "\n",
        "lr = LinearRegression()\n",
        "lr.fit(numarray[:, 0].reshape(-1, 1), numarray[:, 1].reshape(-1, 1))\n",
        "\n",
        "#printing coefficients\n",
        "print(lr.intercept_, lr.coef_)\n",
        "\n",
        "x_predict = np.array([6, 7, 8, 9, 10])\n",
        "\n",
        "\n",
        "y_predict = lr.predict(x_predict.reshape(-1, 1))\n",
        "y_real = x_predict**2 #real values\n",
        "\n",
        "diff = []\n",
        "\n",
        "for i in range(len(y_predict)):\n",
        "  diff.append(abs(y_predict[i][0] - y_real[i]))\n",
        "\n",
        "print(\"values differences : \", diff )"
      ],
      "id": "1BUoCAPE1CM7",
      "execution_count": 19,
      "outputs": [
        {
          "output_type": "stream",
          "text": [
            "[-3.33333333] [[5.]]\n",
            "real values :  [ 36  49  64  81 100]\n",
            "predicted values :  [[26.66666667]\n",
            " [31.66666667]\n",
            " [36.66666667]\n",
            " [41.66666667]\n",
            " [46.66666667]]\n",
            "values differences :  [9.333333333333336, 17.333333333333336, 27.333333333333336, 39.333333333333336, 53.333333333333336]\n"
          ],
          "name": "stdout"
        }
      ]
    },
    {
      "cell_type": "markdown",
      "metadata": {
        "id": "w8Apc84B1CM8"
      },
      "source": [
        "Maintenant, répétons l'expérience ci-dessus en utilisant des caractéristiques polynomiales. Essayez de changer la valeur de *degree* dans le code donné ci-dessous.\n",
        "\n"
      ],
      "id": "w8Apc84B1CM8"
    },
    {
      "cell_type": "markdown",
      "metadata": {
        "id": "5u86BoXo6mTD"
      },
      "source": [
        "**Ici la modèlisation est parfaitement égale aux valeurs réelles**"
      ],
      "id": "5u86BoXo6mTD"
    },
    {
      "cell_type": "code",
      "metadata": {
        "id": "uQbR0UMm1CM8",
        "outputId": "a05480f7-0b9c-4b01-edd3-3ba11911e932",
        "colab": {
          "base_uri": "https://localhost:8080/"
        }
      },
      "source": [
        "import numpy as np\n",
        "import matplotlib.pyplot as plot\n",
        "from sklearn.linear_model import LinearRegression\n",
        "from sklearn.preprocessing import PolynomialFeatures\n",
        "\n",
        "numarray = np.array([[0,0], [1,1], [2,4], [3,9], [4,16], [5,25]])\n",
        "\n",
        "#using polynomial features\n",
        "pf = PolynomialFeatures(degree=2)\n",
        "x_poly = pf.fit_transform(numarray[:, 0].reshape(-1, 1))\n",
        "lr = LinearRegression()\n",
        "lr.fit(x_poly, numarray[:, 1].reshape(-1, 1))\n",
        "\n",
        "#printing coefficients\n",
        "print(lr.intercept_, lr.coef_)\n",
        "\n",
        "x_predict = np.array([6, 7, 8, 9, 10])\n",
        "\n",
        "y_predict = lr.predict(pf.fit_transform(x_predict.reshape(-1, 1)))\n",
        "y_real = x_predict**2 #real values\n",
        "\n",
        "diff = []\n",
        "\n",
        "for i in range(len(y_predict)):\n",
        "  diff.append(abs(y_predict[i][0] - y_real[i]))\n",
        "\n",
        "print(\"values differences : \", diff )\n"
      ],
      "id": "uQbR0UMm1CM8",
      "execution_count": 20,
      "outputs": [
        {
          "output_type": "stream",
          "text": [
            "[1.77635684e-15] [[ 0.00000000e+00 -1.55431223e-15  1.00000000e+00]]\n",
            "values differences :  [0.0, 0.0, 0.0, 0.0, 0.0]\n"
          ],
          "name": "stdout"
        }
      ]
    },
    {
      "cell_type": "markdown",
      "metadata": {
        "id": "5v44QWWS1CM8"
      },
      "source": [
        "Essayons maintenant avec une équation polynomiale du troisième ordre (équation cubique)."
      ],
      "id": "5v44QWWS1CM8"
    },
    {
      "cell_type": "markdown",
      "metadata": {
        "id": "o-MdGLGl7Wtn"
      },
      "source": [
        "**Les différences sont proches de 0 et s'explique par les imprécision de calcul de python qui code les nombres flottants sur 16 bit**"
      ],
      "id": "o-MdGLGl7Wtn"
    },
    {
      "cell_type": "code",
      "metadata": {
        "id": "U4qHfbK61CM9",
        "outputId": "84ea7daa-b140-4438-afc5-752b78c4a2a6",
        "colab": {
          "base_uri": "https://localhost:8080/"
        }
      },
      "source": [
        "import numpy as np\n",
        "import matplotlib.pyplot as plot\n",
        "from sklearn.linear_model import LinearRegression\n",
        "from sklearn.preprocessing import PolynomialFeatures\n",
        "\n",
        "numarray = np.array([[0,0], [1,1], [2,8], [3,27], [4,64], [5,125]])\n",
        "\n",
        "#using polynomial features\n",
        "pf = PolynomialFeatures(degree=3)\n",
        "x_poly = pf.fit_transform(numarray[:, 0].reshape(-1, 1))\n",
        "lr = LinearRegression()\n",
        "lr.fit(x_poly, numarray[:, 1].reshape(-1, 1))\n",
        "\n",
        "#printing coefficients\n",
        "print(lr.intercept_, lr.coef_)\n",
        "\n",
        "x_predict = np.array([6, 7, 8, 9, 10])\n",
        "\n",
        "y_predict = lr.predict(pf.fit_transform(x_predict.reshape(-1, 1)))\n",
        "y_real = x_predict**3 #real values\n",
        "\n",
        "diff = []\n",
        "for i in range(len(y_predict)):\n",
        "  diff.append(abs(y_predict[i][0] - y_real[i]))\n",
        "\n",
        "print(\"values differences : \", diff )"
      ],
      "id": "U4qHfbK61CM9",
      "execution_count": 25,
      "outputs": [
        {
          "output_type": "stream",
          "text": [
            "[2.13162821e-14] [[ 0.00000000e+00 -2.44249065e-15  2.63677968e-15  1.00000000e+00]]\n",
            "values differences :  [1.4210854715202004e-13, 2.2737367544323206e-13, 3.410605131648481e-13, 4.547473508864641e-13, 7.958078640513122e-13]\n"
          ],
          "name": "stdout"
        }
      ]
    },
    {
      "cell_type": "markdown",
      "metadata": {
        "id": "9cyb7IZ_1CM9"
      },
      "source": [
        "Nous utiliserons le fichier [population.csv](../../data/population.csv)\n",
        "Nous allons d'abord tracer cette population pluriannuelle."
      ],
      "id": "9cyb7IZ_1CM9"
    },
    {
      "cell_type": "code",
      "metadata": {
        "id": "ZXX5-pXT1CM9",
        "outputId": "84d6a129-6216-4bed-da71-34cbd54039e3",
        "colab": {
          "base_uri": "https://localhost:8080/",
          "height": 307
        }
      },
      "source": [
        "import numpy as np\n",
        "import matplotlib.pyplot as plot\n",
        "import pandas as pd\n",
        "dataset = np.loadtxt(\"sample_data/population.csv\",\n",
        "    dtype={'names': ('year', 'population'), 'formats': ('i4', 'i')},\n",
        "        skiprows=1, delimiter=\",\", encoding=\"UTF-8\")\n",
        "\n",
        "df = pd.DataFrame(dataset)\n",
        "df.plot(x='year', y='population', kind='scatter')"
      ],
      "id": "ZXX5-pXT1CM9",
      "execution_count": 26,
      "outputs": [
        {
          "output_type": "execute_result",
          "data": {
            "text/plain": [
              "<matplotlib.axes._subplots.AxesSubplot at 0x7f3bcd04e250>"
            ]
          },
          "metadata": {
            "tags": []
          },
          "execution_count": 26
        },
        {
          "output_type": "display_data",
          "data": {
            "image/png": "[encoded data removed]",
            "text/plain": [
              "<Figure size 432x288 with 1 Axes>"
            ]
          },
          "metadata": {
            "tags": [],
            "needs_background": "light"
          }
        }
      ]
    },
    {
      "cell_type": "markdown",
      "metadata": {
        "id": "a9-nLM5Q1CM-"
      },
      "source": [
        "![](attachment:../../images/populationscatterplot.png)\n",
        "\n",
        "Nous nous concentrerons sur les données à partir de 1960 (pourquoi ?). Notre objectif est d'utiliser\n",
        "des techniques de régression pour prédire la population. Mais nous ne savons pas comment vérifier. Donc, avec les données disponibles, nous créons deux catégories : les données de formation et les données de test.\n",
        "\n",
        "Nous continuons maintenant avec les données de population (de TP1 et TP2), que nous divisons en deux : les données d'entraînement et les données de test. Nous allons tracer les valeurs réelles de la population et les valeurs prédites.\n"
      ],
      "id": "a9-nLM5Q1CM-"
    },
    {
      "cell_type": "markdown",
      "metadata": {
        "id": "uZT4MUXb_ei2"
      },
      "source": [
        "**On écarte les données d'avant 1960 pour eviter d'ajouter du bruit sur notre modèle. Les données sont incomplètes sur la periode**"
      ],
      "id": "uZT4MUXb_ei2"
    },
    {
      "cell_type": "code",
      "metadata": {
        "id": "MKu4npMp1CM-",
        "outputId": "b321d9fc-5673-44a6-ebb5-b590c45a7b11",
        "colab": {
          "base_uri": "https://localhost:8080/",
          "height": 293
        }
      },
      "source": [
        "import numpy as np\n",
        "import matplotlib.pyplot as plot\n",
        "import pandas as pd\n",
        "from sklearn.linear_model import LinearRegression\n",
        "dataset = np.loadtxt(\"sample_data/population.csv\",\n",
        "    dtype={'names': ('year', 'population'), 'formats': ('i4', 'i')},\n",
        "        skiprows=1, delimiter=\",\", encoding=\"UTF-8\")\n",
        "\n",
        "#df = pd.DataFrame(dataset[0:]) # all datas\n",
        "df = pd.DataFrame(dataset[4:]) # datas after 1960\n",
        "\n",
        "#training data\n",
        "x_train = df['year'][:40].values.reshape(-1, 1)\n",
        "y_train = df['population'][:40].values.reshape(-1, 1)\n",
        "\n",
        "#training\n",
        "lr = LinearRegression()\n",
        "lr.fit(x_train, y_train)\n",
        "\n",
        "#printing coefficients\n",
        "print(lr.intercept_, lr.coef_)\n",
        "\n",
        "#prediction\n",
        "x_predict = x_train = df['year'][41:].values.reshape(-1, 1)\n",
        "y_actual = df['population'][41:].values.reshape(-1, 1) \n",
        "y_predict = lr.predict(x_predict)\n",
        "\n",
        "plot.scatter(x_predict, y_actual)\n",
        "plot.plot(x_predict, y_predict, color='red', linewidth=2)\n",
        "plot.show()"
      ],
      "id": "MKu4npMp1CM-",
      "execution_count": 34,
      "outputs": [
        {
          "output_type": "stream",
          "text": [
            "[-5.86674085e+08] [[324065.22138837]]\n"
          ],
          "name": "stdout"
        },
        {
          "output_type": "display_data",
          "data": {
            "image/png": "[encoded data removed]",
            "text/plain": [
              "<Figure size 432x288 with 1 Axes>"
            ]
          },
          "metadata": {
            "tags": [],
            "needs_background": "light"
          }
        }
      ]
    },
    {
      "cell_type": "markdown",
      "metadata": {
        "id": "TClPLs3LBVGp"
      },
      "source": [
        "**En utilisant les données avant 1960, les données de test sont très différentes du modèle généré.**"
      ],
      "id": "TClPLs3LBVGp"
    },
    {
      "cell_type": "markdown",
      "metadata": {
        "id": "q7v8ilkGIUGR"
      },
      "source": [
        "![](attachment:../../images/populationlinearregression.png)\n",
        "\n",
        "Testez maintenant le programme ci-dessus en incluant les données antérieures à 1960. Qu'avez-vous remarqué ? Vous avez peut-être le graphique suivant.\n"
      ],
      "id": "q7v8ilkGIUGR"
    },
    {
      "cell_type": "markdown",
      "metadata": {
        "id": "5sS0rcRcC9M1"
      },
      "source": [
        "Sur la fenetre 2002 : 2016 la régression linéaire semble plus proche des points "
      ],
      "id": "5sS0rcRcC9M1"
    },
    {
      "cell_type": "markdown",
      "metadata": {
        "id": "YEGlk7eb1CM_"
      },
      "source": [
        "![](attachment:../../images/allpopulationlinearregression.png)\n",
        "\n",
        "Quelles sont vos observations ? Le programme ci-dessus, qui utilise la régression linéaire, convient donc parfaitement à un sous-ensemble de données. Essayons maintenant avec des **caractéristiques polynomiales** (PolynomialFeatures) de degré 2 (voir [Polynomial Regression: Extending linear models](http://scikit-learn.org/stable/modules/linear_model.html#polynomial-regression-extending-linear-models-with-basis-functions)).\n",
        "\n"
      ],
      "id": "YEGlk7eb1CM_"
    },
    {
      "cell_type": "code",
      "metadata": {
        "id": "PZMH-QOu1CNA",
        "outputId": "f18c1c25-875c-4b0f-969b-d23a2eedf401",
        "colab": {
          "base_uri": "https://localhost:8080/",
          "height": 293
        }
      },
      "source": [
        "import numpy as np\n",
        "import matplotlib.pyplot as plot\n",
        "import pandas as pd\n",
        "from sklearn.linear_model import LinearRegression\n",
        "from sklearn.preprocessing import PolynomialFeatures\n",
        "dataset = np.loadtxt(\"sample_data/population.csv\",\n",
        "   dtype={'names': ('year', 'population'), \n",
        "              'formats': ('i4', 'i')},\n",
        "       skiprows=1, delimiter=\",\", encoding=\"UTF-8\")\n",
        "\n",
        "df = pd.DataFrame(dataset[4:])\n",
        "\n",
        "#training data\n",
        "\n",
        "x_train = df['year'][:50].values.reshape(-1, 1)\n",
        "y_train = df['population'][:50].values.reshape(-1, 1)\n",
        "\n",
        "pf = PolynomialFeatures(degree=2)\n",
        "x_poly = pf.fit_transform(x_train)\n",
        "\n",
        "#training\n",
        "lr = LinearRegression()\n",
        "lr.fit(x_poly, y_train)\n",
        "\n",
        "#printing coefficients\n",
        "print(lr.intercept_, lr.coef_)\n",
        "\n",
        "#prediction\n",
        "x_predict = x_train = df['year'][41:].values.reshape(-1, 1)\n",
        "y_actual = df['population'][41:].values.reshape(-1, 1) \n",
        "y_predict = lr.predict(pf.fit_transform(x_predict))\n",
        "\n",
        "plot.scatter(x_predict, y_actual)\n",
        "plot.plot(x_predict, y_predict, color='red', linewidth=2)\n",
        "plot.show()"
      ],
      "id": "PZMH-QOu1CNA",
      "execution_count": 30,
      "outputs": [
        {
          "output_type": "stream",
          "text": [
            "[-4.30491266e+09] [[ 0.00000000e+00  4.06776344e+06 -9.42279929e+02]]\n"
          ],
          "name": "stdout"
        },
        {
          "output_type": "display_data",
          "data": {
            "image/png": "[encoded data removed]",
            "text/plain": [
              "<Figure size 432x288 with 1 Axes>"
            ]
          },
          "metadata": {
            "tags": [],
            "needs_background": "light"
          }
        }
      ]
    },
    {
      "cell_type": "markdown",
      "metadata": {
        "id": "enF_QE_x1CNA"
      },
      "source": [
        "![](attachment:../../images/populationpolynomialregression.png)\n",
        "\n",
        "Avant de passer à la conclusion, examinons l'ensemble des données et voyons."
      ],
      "id": "enF_QE_x1CNA"
    },
    {
      "cell_type": "code",
      "metadata": {
        "id": "_ZoouQW21CNB",
        "outputId": "896e2507-df2c-4fa0-8955-ae7832f93cb0",
        "colab": {
          "base_uri": "https://localhost:8080/",
          "height": 293
        }
      },
      "source": [
        "import numpy as np\n",
        "import matplotlib.pyplot as plot\n",
        "import pandas as pd\n",
        "from sklearn.linear_model import LinearRegression\n",
        "from sklearn.preprocessing import PolynomialFeatures\n",
        "dataset = np.loadtxt(\"sample_data/population.csv\",\n",
        "      dtype={'names': ('year', 'population'), 'formats': ('i4', 'i')},\n",
        "          skiprows=1, delimiter=\",\", encoding=\"UTF-8\")\n",
        "\n",
        "df = pd.DataFrame(dataset)\n",
        "\n",
        "#training data\n",
        "\n",
        "x_train = df['year'][:40].values.reshape(-1, 1)\n",
        "y_train = df['population'][:40].values.reshape(-1, 1)\n",
        "\n",
        "pf = PolynomialFeatures(degree=2)\n",
        "x_poly = pf.fit_transform(x_train)\n",
        "\n",
        "#training\n",
        "lr = LinearRegression()\n",
        "lr.fit(x_poly, y_train)\n",
        "\n",
        "#printing coefficients\n",
        "print(lr.intercept_, lr.coef_)\n",
        "\n",
        "#prediction\n",
        "x_predict = x_train = df['year'][41:].values.reshape(-1, 1)\n",
        "\n",
        "# Let's add some more years\n",
        "x_predict = np.append(range(1900, 1959), x_predict)\n",
        "x_predict = x_predict.reshape(-1, 1)\n",
        "\n",
        "y_actual = df['population'][41:].values.reshape(-1, 1) \n",
        "y_predict = lr.predict(pf.fit_transform(x_predict))\n",
        "\n",
        "plot.scatter(df['year'], df['population'])\n",
        "plot.plot(x_predict, y_predict, color='red', linewidth=2)\n",
        "plot.show()\n",
        "              \n",
        "             \n",
        "\n"
      ],
      "id": "_ZoouQW21CNB",
      "execution_count": 40,
      "outputs": [
        {
          "output_type": "stream",
          "text": [
            "[7.53637479e+09] [[ 0.00000000e+00 -7.89980194e+06  2.08142727e+03]]\n"
          ],
          "name": "stdout"
        },
        {
          "output_type": "display_data",
          "data": {
            "image/png": "[encoded data removed]",
            "text/plain": [
              "<Figure size 432x288 with 1 Axes>"
            ]
          },
          "metadata": {
            "tags": [],
            "needs_background": "light"
          }
        }
      ]
    },
    {
      "cell_type": "markdown",
      "metadata": {
        "id": "O8FEEhZ11CNB"
      },
      "source": [
        "![](attachment:../../images/allpopulationpolynomialregression.png)\n",
        "\n",
        "Qu'en pensez-vous ? Pouvons-nous utiliser ce programme pour prévoir les données manquantes (surtout en l'absence d'autres sources d'information externes) ? Essayez le programme ci-dessus à différents degrés.\n",
        "\n"
      ],
      "id": "O8FEEhZ11CNB"
    },
    {
      "cell_type": "markdown",
      "metadata": {
        "id": "hFzWNOuJJkI7"
      },
      "source": [
        "---\r\n",
        "**Réponse** : En utilisant les caractéristiques polynomiales, la fenêtre 2002: 2016 semble moins précise mais on est capable de modèliser l'ensemble des données depuis 1960 de manière plus acceptable.\r\n",
        "\r\n",
        "En testant différent degrés, le modèle reste mauvais au niveau macroscopique.\r\n",
        "On remarque que la courbe autour des années 1960 n'est pas prise en compte tout comme le 21 sciècle.\r\n",
        "**Le modèle est pénalisé par un overfitting avec le bruit données. Les nouvelles données crée par le model devront être remises en cause**\r\n",
        "\r\n",
        "Il serait judicieux de modéliser ces données avec des polynômes de différents degrés ou une équation exponentielle.\r\n"
      ],
      "id": "hFzWNOuJJkI7"
    },
    {
      "cell_type": "markdown",
      "metadata": {
        "id": "YqtJHVlL1CNC"
      },
      "source": [
        "#### Exercice 3.2 \\[★★\\]\n",
        "\n",
        "Les classificateurs sont utiles pour classer notre ensemble de données dans une ou plusieurs classes. Mais contrairement aux algorithmes de regroupement, c'est l'utilisateur qui doit classer les données dans un algorithme de classification. Dans les exercices suivants, nous voyons différents classificateurs, en commençant par le perceptron. Regardez les données d'entrée (*numarray*) et les étiquettes associées (*resultat*). Ici, nous allons étiqueter l'ensemble des données et voir si notre modèle (Perceptron) a bien fonctionné.\n",
        "\n"
      ],
      "id": "YqtJHVlL1CNC"
    },
    {
      "cell_type": "code",
      "metadata": {
        "id": "vosNltoC1CND",
        "outputId": "91f8cde9-c70a-41e0-e60c-13991334e898",
        "colab": {
          "base_uri": "https://localhost:8080/"
        }
      },
      "source": [
        "import numpy as np\n",
        "import matplotlib.pyplot as plot\n",
        "from sklearn.linear_model import Perceptron\n",
        "\n",
        "numarray = np.array([[0,0,0,0], [0,0,0,1], [0,0,1,0], [0,0,1,1],\n",
        "          [0,1,0,0], [0,1,0,1], [0,1,1,0], [0,1,1,1],\n",
        "          [1,0,0,0], [1,0,0,1], [1,0,1,0], [1,0,1,1],\n",
        "          [1,1,0,0], [1,1,0,1], [1,1,1,0], [1,1,1,1]])\n",
        "result = np.array([0, 0, 0, 0,\n",
        "          0, 0, 0, 0,\n",
        "          1, 1, 1, 1,\n",
        "          1, 1, 1, 1])\n",
        "\n",
        "perceptron = Perceptron(max_iter=1000)\n",
        "perceptron.fit(numarray, result)\n",
        "\n",
        "x_predict = np.array([[0,1,0,1], [1,0,1,1] ])\n",
        "\n",
        "y_predict = perceptron.predict(x_predict)\n",
        "print(y_predict)"
      ],
      "id": "vosNltoC1CND",
      "execution_count": 41,
      "outputs": [
        {
          "output_type": "stream",
          "text": [
            "[0 1]\n"
          ],
          "name": "stdout"
        }
      ]
    },
    {
      "cell_type": "markdown",
      "metadata": {
        "id": "JLcE6zPU1CND"
      },
      "source": [
        "Nous allons maintenant supprimer certaines données étiquetées/classées et voir les résultats prévus.\n"
      ],
      "id": "JLcE6zPU1CND"
    },
    {
      "cell_type": "code",
      "metadata": {
        "id": "H-QJyTRQ1CND",
        "outputId": "3dfba706-b6c5-4b5a-ff3a-1cf4616d6348",
        "colab": {
          "base_uri": "https://localhost:8080/"
        }
      },
      "source": [
        "    import numpy as np\n",
        "    import matplotlib.pyplot as plot\n",
        "    from sklearn.linear_model import Perceptron\n",
        "\n",
        "    numarray = np.array([[0,0,0,0], [0,0,0,1], \n",
        "          [0,1,0,0], [0,1,1,1],\n",
        "          [1,0,0,1], [1,0,1,0], \n",
        "          [1,1,1,0], [1,1,1,1]])\n",
        "    result = np.array([0, 0, \n",
        "          0, 0, \n",
        "          1, 1,\n",
        "          1, 1])\n",
        "\n",
        "    perceptron = Perceptron(max_iter=1000)\n",
        "    perceptron.fit(numarray, result)\n",
        "\n",
        "    x_predict = np.array([[0,1,0,1], [1,0,1,1], [1,1,0,0], [0,1,0,1]])\n",
        "\n",
        "    y_predict = perceptron.predict(x_predict)\n",
        "    print(y_predict)\n",
        "\n"
      ],
      "id": "H-QJyTRQ1CND",
      "execution_count": 1,
      "outputs": [
        {
          "output_type": "stream",
          "text": [
            "[0 1 1 0]\n"
          ],
          "name": "stdout"
        }
      ]
    },
    {
      "cell_type": "markdown",
      "metadata": {
        "id": "FVElwhDZ1CND"
      },
      "source": [
        "Maintenant, nous allons essayer un autre classificateur : MLPClassifier\n",
        "\n"
      ],
      "id": "FVElwhDZ1CND"
    },
    {
      "cell_type": "code",
      "metadata": {
        "id": "RzJtdsZd1CNE",
        "outputId": "2380662b-78a7-4df5-d256-8acdc539e0ce",
        "colab": {
          "base_uri": "https://localhost:8080/"
        }
      },
      "source": [
        "import numpy as np\n",
        "import matplotlib.pyplot as plot\n",
        "from sklearn.neural_network import MLPClassifier\n",
        "\n",
        "numarray = np.array([[0,0,0,0], [0,0,0,1], \n",
        "          [0,1,0,0], [0,1,1,1],\n",
        "          [1,0,0,1], [1,0,1,0], \n",
        "          [1,1,1,0], [1,1,1,1]])\n",
        "\n",
        "result = np.array([0, 0, \n",
        "        0, 0, \n",
        "        1, 1,\n",
        "        1, 1])\n",
        "\n",
        "mlpclassifier = MLPClassifier(alpha=2, max_iter=1000)\n",
        "mlpclassifier.fit(numarray, result)\n",
        "\n",
        "x_predict = np.array([[0,1,0,1], [1,0,1,1], [1,1,0,0], [0,1,0,1]])\n",
        "\n",
        "y_predict = mlpclassifier.predict(x_predict)\n",
        "print(y_predict)"
      ],
      "id": "RzJtdsZd1CNE",
      "execution_count": 2,
      "outputs": [
        {
          "output_type": "stream",
          "text": [
            "[0 1 1 0]\n"
          ],
          "name": "stdout"
        }
      ]
    },
    {
      "cell_type": "markdown",
      "metadata": {
        "id": "WmIrjAOk1CNE"
      },
      "source": [
        "Maintenant, nous allons essayer un autre classificateur utilisant des machines à vecteurs de support.\n"
      ],
      "id": "WmIrjAOk1CNE"
    },
    {
      "cell_type": "code",
      "metadata": {
        "id": "-d3sygvr1CNE",
        "outputId": "379a4973-68aa-4320-a637-53c18d45aa7f",
        "colab": {
          "base_uri": "https://localhost:8080/"
        }
      },
      "source": [
        "import numpy as np\n",
        "import matplotlib.pyplot as plot\n",
        "from sklearn import datasets, svm, metrics\n",
        "\n",
        "numarray = numarray = np.array([[0,0,0,0], [0,0,0,1], \n",
        "          [0,1,0,0], [0,1,1,1],\n",
        "          [1,0,0,1], [1,0,1,0], \n",
        "          [1,1,1,0], [1,1,1,1]])\n",
        "\n",
        "result = np.array([0, 0, \n",
        "        0, 0, \n",
        "        1, 1,\n",
        "        1, 1]) \n",
        "\n",
        "svcclassifier = svm.SVC(gamma=0.001, C=100.)\n",
        "svcclassifier.fit(numarray, result)\n",
        "\n",
        "x_predict = np.array([[0,1,0,1], [1,0,1,1], [1,1,0,0], [0,1,0,1]])\n",
        "\n",
        "y_predict = svcclassifier.predict(x_predict)\n",
        "print(y_predict)\n",
        "\n"
      ],
      "id": "-d3sygvr1CNE",
      "execution_count": 3,
      "outputs": [
        {
          "output_type": "stream",
          "text": [
            "[0 1 1 0]\n"
          ],
          "name": "stdout"
        }
      ]
    },
    {
      "cell_type": "markdown",
      "metadata": {
        "id": "YmTZvOxk1CNE"
      },
      "source": [
        "Nous allons maintenant utiliser scikit-learn et les classificateurs vus plus haut pour reconnaître l'écriture manuscrite. Scikit-learn dispose de nombreux ensembles de données. Nous utiliserons un de ces ensembles de données appelé \"digits dataset\", qui consiste en des images d'écriture manuscrite étiquetées de chiffres. Le programme suivant affichera les étiquettes."
      ],
      "id": "YmTZvOxk1CNE"
    },
    {
      "cell_type": "code",
      "metadata": {
        "id": "fjtxUemy1CNF",
        "outputId": "7df9ee02-b7d9-446c-b48c-65a2b7fe4451",
        "colab": {
          "base_uri": "https://localhost:8080/"
        }
      },
      "source": [
        "from sklearn import datasets\n",
        "import numpy as np\n",
        "  \n",
        "digits = datasets.load_digits()\n",
        "\n",
        "print(np.unique(digits.target))"
      ],
      "id": "fjtxUemy1CNF",
      "execution_count": 5,
      "outputs": [
        {
          "output_type": "stream",
          "text": [
            "[0 1 2 3 4 5 6 7 8 9]\n"
          ],
          "name": "stdout"
        }
      ]
    },
    {
      "cell_type": "markdown",
      "metadata": {
        "id": "vI4CRjam1CNF"
      },
      "source": [
        "Nous allons maintenant voir le nombre total d'images et le contenu d'une image test."
      ],
      "id": "vI4CRjam1CNF"
    },
    {
      "cell_type": "code",
      "metadata": {
        "id": "GXfJhUyg1CNF",
        "outputId": "32887581-34b7-4894-abb8-e0bb6333f2c9",
        "colab": {
          "base_uri": "https://localhost:8080/",
          "height": 435
        }
      },
      "source": [
        "from sklearn import datasets\n",
        "import numpy as np\n",
        "import matplotlib.pyplot as plot\n",
        "  \n",
        "digits = datasets.load_digits()\n",
        "  \n",
        "print(\"Number of images: \", digits.images.size)\n",
        "print(\"Input data: \", digits.images[0])\n",
        "print(\"Label:\", digits.target[0])\n",
        "  \n",
        "plot.imshow(digits.images[0], cmap=plot.cm.gray_r)\n",
        "plot.show()"
      ],
      "id": "GXfJhUyg1CNF",
      "execution_count": 6,
      "outputs": [
        {
          "output_type": "stream",
          "text": [
            "Number of images:  115008\n",
            "Input data:  [[ 0.  0.  5. 13.  9.  1.  0.  0.]\n",
            " [ 0.  0. 13. 15. 10. 15.  5.  0.]\n",
            " [ 0.  3. 15.  2.  0. 11.  8.  0.]\n",
            " [ 0.  4. 12.  0.  0.  8.  8.  0.]\n",
            " [ 0.  5.  8.  0.  0.  9.  8.  0.]\n",
            " [ 0.  4. 11.  0.  1. 12.  7.  0.]\n",
            " [ 0.  2. 14.  5. 10. 12.  0.  0.]\n",
            " [ 0.  0.  6. 13. 10.  0.  0.  0.]]\n",
            "Label: 0\n"
          ],
          "name": "stdout"
        },
        {
          "output_type": "display_data",
          "data": {
            "image/png": "[encoded data removed]",
            "text/plain": [
              "<Figure size 432x288 with 1 Axes>"
            ]
          },
          "metadata": {
            "tags": [],
            "needs_background": "light"
          }
        }
      ]
    },
    {
      "cell_type": "markdown",
      "metadata": {
        "id": "GHJVWust1CNF"
      },
      "source": [
        "Nous allons maintenant utiliser un classificateur de vecteurs de support pour former les données. Nous allons diviser nos données en deux : les données d'entraînement et les données de test. N'oubliez pas que nous disposons déjà d'étiquettes pour l'ensemble des données."
      ],
      "id": "GHJVWust1CNF"
    },
    {
      "cell_type": "code",
      "metadata": {
        "id": "Rgs0VNE41CNF",
        "outputId": "4327314a-3dfe-4629-99a3-52742f60f0b0",
        "colab": {
          "base_uri": "https://localhost:8080/",
          "height": 282
        }
      },
      "source": [
        "from sklearn import datasets, svm\n",
        "import numpy as np\n",
        "import matplotlib.pyplot as plot\n",
        "  \n",
        "digits = datasets.load_digits()\n",
        "  \n",
        "training_images = digits.images[:int(digits.images.shape[0]/2)]\n",
        "training_images = training_images.reshape(\n",
        "                 (training_images.shape[0], -1))\n",
        "  \n",
        "training_target = digits.target[0:int(digits.target.shape[0]/2)]\n",
        "  \n",
        "classifier = svm.SVC(gamma=0.001, C=100.)\n",
        "\n",
        "#training\n",
        "classifier.fit(training_images, training_target)\n",
        "  \n",
        "#prediction\n",
        "predict_image = digits.images[int(digits.images.shape[0]/2)+2]\n",
        "print(\"Predicted value: \",\n",
        "      classifier.predict(predict_image.reshape(1,-1)))\n",
        "  \n",
        "plot.imshow(predict_image, cmap=plot.cm.gray_r)\n",
        "plot.show()"
      ],
      "id": "Rgs0VNE41CNF",
      "execution_count": 17,
      "outputs": [
        {
          "output_type": "stream",
          "text": [
            "Predicted value:  [4]\n"
          ],
          "name": "stdout"
        },
        {
          "output_type": "display_data",
          "data": {
            "image/png": "[encoded data removed]",
            "text/plain": [
              "<Figure size 432x288 with 1 Axes>"
            ]
          },
          "metadata": {
            "tags": [],
            "needs_background": "light"
          }
        }
      ]
    },
    {
      "cell_type": "markdown",
      "metadata": {
        "id": "_PRgGlJO1CNG"
      },
      "source": [
        "![](attachment:../../images/scikitlearnfour.png)\n",
        "\n",
        "Essayons maintenant de prédire les étiquettes restantes et utilisons le rapport de classification pour obtenir la précision de la prédiction."
      ],
      "id": "_PRgGlJO1CNG"
    },
    {
      "cell_type": "code",
      "metadata": {
        "id": "Vqttxi4i1CNG",
        "outputId": "dae0cb44-1ae2-4cc8-8b26-213c9f9e89bd",
        "colab": {
          "base_uri": "https://localhost:8080/",
          "height": 589
        }
      },
      "source": [
        "from sklearn import datasets, svm, metrics\n",
        "import numpy as np\n",
        "import matplotlib.pyplot as plot\n",
        "  \n",
        "digits = datasets.load_digits()\n",
        "  \n",
        "training_images = digits.images[:int(digits.images.shape[0]/2)]\n",
        "training_images = training_images.reshape(\n",
        "                 (training_images.shape[0], -1))\n",
        "  \n",
        "training_target = digits.target[0:int(digits.target.shape[0]/2)]\n",
        "  \n",
        "classifier = svm.SVC(gamma=0.001, C=100.)\n",
        "#training\n",
        "classifier.fit(training_images, training_target)\n",
        "  \n",
        "#prediction\n",
        "predict_images = digits.images[int(digits.images.shape[0]/2)+1:]\n",
        "actual_labels = digits.target[int(digits.target.shape[0]/2)+1:]\n",
        "predicted_labels = classifier.predict(\n",
        "        predict_images.reshape((predict_images.shape[0], -1)))\n",
        "  \n",
        "#classification report\n",
        "report = metrics.classification_report(actual_labels,predicted_labels)\n",
        "\n",
        "print(report)\n",
        "\n",
        "\n",
        "# plot\n",
        "labels = []\n",
        "y_precision = []\n",
        "y_recall = []\n",
        "y_f1 = []\n",
        "lines = report.split('\\n')\n",
        "for line in lines[2 : (len(lines) - 2)]:\n",
        "        t = line.strip().split()\n",
        "        if t == []: break # allow removing sum datas\n",
        "        if len(t) < 2: continue\n",
        "        labels.append(t[0])\n",
        "        v = [float(x) for x in t[1: len(t) - 1]]\n",
        "        y_precision.append(v[0])\n",
        "        y_recall.append(v[1])\n",
        "        y_f1.append(v[2])\n",
        "\n",
        "\n",
        "#print(y_precision)\n",
        "#print(y_recall)\n",
        "#print(y_f1)\n",
        "\n",
        "precision_plot = plot.plot(labels, y_precision, color='red', linewidth=2)\n",
        "recall_plot = plot.plot(labels, y_recall, color='blue', linewidth=2)\n",
        "f1_plot = plot.plot(labels, y_f1, color='black', linewidth=2)\n",
        "\n",
        "plot.legend([precision_plot[0], recall_plot[0], f1_plot[0]],   # plot items\n",
        "        ['sine curve', 'cosine curve', 'sine curve 2', 'cosine curve 2'])\n",
        "\n",
        "plot.title(\"Report of linear perceptron\")\n",
        "plot.xlabel('Number predicted',  fontsize=16)\n",
        "plot.ylabel('Rate',  fontsize=16)\n",
        "\n",
        "\n",
        "\n",
        "plot.show()"
      ],
      "id": "Vqttxi4i1CNG",
      "execution_count": 9,
      "outputs": [
        {
          "output_type": "stream",
          "text": [
            "              precision    recall  f1-score   support\n",
            "\n",
            "           0       1.00      0.99      0.99        88\n",
            "           1       0.99      0.96      0.97        91\n",
            "           2       0.99      0.99      0.99        86\n",
            "           3       0.98      0.90      0.94        91\n",
            "           4       0.99      0.96      0.97        92\n",
            "           5       0.95      0.96      0.95        91\n",
            "           6       0.99      0.99      0.99        91\n",
            "           7       0.98      0.99      0.98        89\n",
            "           8       0.94      1.00      0.97        87\n",
            "           9       0.92      0.98      0.95        92\n",
            "\n",
            "    accuracy                           0.97       898\n",
            "   macro avg       0.97      0.97      0.97       898\n",
            "weighted avg       0.97      0.97      0.97       898\n",
            "\n"
          ],
          "name": "stdout"
        },
        {
          "output_type": "display_data",
          "data": {
            "image/png": "[encoded data removed]",
            "text/plain": [
              "<Figure size 432x288 with 1 Axes>"
            ]
          },
          "metadata": {
            "tags": [],
            "needs_background": "light"
          }
        }
      ]
    },
    {
      "cell_type": "markdown",
      "metadata": {
        "id": "jl7C0c2D1CNG"
      },
      "source": [
        "Il existe d'autres classificateurs. Nous allons maintenant travailler avec Perceptron (voir [ici](http://scikit-learn.org/stable/modules/linear_model.html#perceptron)) et voir ses performances."
      ],
      "id": "jl7C0c2D1CNG"
    },
    {
      "cell_type": "code",
      "metadata": {
        "id": "o8OGoBMU1CNG",
        "outputId": "3b0eb532-cd3b-4214-de35-a414fe2058ee",
        "colab": {
          "base_uri": "https://localhost:8080/",
          "height": 589
        }
      },
      "source": [
        "from sklearn import datasets, metrics\n",
        "from sklearn.linear_model import Perceptron\n",
        "import numpy as np\n",
        "import matplotlib.pyplot as plot\n",
        "  \n",
        "digits = datasets.load_digits()\n",
        "  \n",
        "training_images = digits.images[:int(digits.images.shape[0]/2)]\n",
        "training_images = training_images.reshape(\n",
        "        (training_images.shape[0], -1))\n",
        "  \n",
        "training_target = digits.target[0:int(digits.target.shape[0]/2)]\n",
        "  \n",
        "classifier = Perceptron(max_iter=1000)\n",
        "#training\n",
        "classifier.fit(training_images, training_target)\n",
        "  \n",
        "#prediction\n",
        "predict_images = digits.images[int(digits.images.shape[0]/2)+1:]\n",
        "actual_labels = digits.target[int(digits.target.shape[0]/2)+1:]\n",
        "predicted_labels = classifier.predict(\n",
        "        predict_images.reshape((predict_images.shape[0], -1)))\n",
        "\n",
        "\n",
        "#classification report\n",
        "report = metrics.classification_report(actual_labels,predicted_labels)\n",
        "\n",
        "print(report)\n",
        "\n",
        "\n",
        "# plot\n",
        "labels = []\n",
        "y_precision = []\n",
        "y_recall = []\n",
        "y_f1 = []\n",
        "lines = report.split('\\n')\n",
        "for line in lines[2 : (len(lines) - 2)]:\n",
        "        t = line.strip().split()\n",
        "        if t == []: break # allow removing sum datas\n",
        "        if len(t) < 2: continue\n",
        "        labels.append(t[0])\n",
        "        v = [float(x) for x in t[1: len(t) - 1]]\n",
        "        y_precision.append(v[0])\n",
        "        y_recall.append(v[1])\n",
        "        y_f1.append(v[2])\n",
        "\n",
        "\n",
        "#print(y_precision)\n",
        "#print(y_recall)\n",
        "#print(y_f1)\n",
        "\n",
        "precision_plot = plot.plot(labels, y_precision, color='red', linewidth=2)\n",
        "recall_plot = plot.plot(labels, y_recall, color='blue', linewidth=2)\n",
        "f1_plot = plot.plot(labels, y_f1, color='black', linewidth=2)\n",
        "\n",
        "plot.legend([precision_plot[0], recall_plot[0], f1_plot[0]],   # plot items\n",
        "        ['sine curve', 'cosine curve', 'sine curve 2', 'cosine curve 2'])\n",
        "\n",
        "plot.title(\"Report of linear perceptron\")\n",
        "plot.xlabel('Number predicted',  fontsize=16)\n",
        "plot.ylabel('Rate',  fontsize=16)\n",
        "\n",
        "\n",
        "\n",
        "plot.show()\n",
        "\n",
        "\n"
      ],
      "id": "o8OGoBMU1CNG",
      "execution_count": 8,
      "outputs": [
        {
          "output_type": "stream",
          "text": [
            "              precision    recall  f1-score   support\n",
            "\n",
            "           0       0.91      0.98      0.94        88\n",
            "           1       0.79      0.91      0.85        91\n",
            "           2       0.98      0.97      0.97        86\n",
            "           3       0.95      0.84      0.89        91\n",
            "           4       0.95      0.90      0.93        92\n",
            "           5       0.83      0.92      0.87        91\n",
            "           6       0.97      0.99      0.98        91\n",
            "           7       0.98      0.92      0.95        89\n",
            "           8       0.94      0.74      0.83        87\n",
            "           9       0.83      0.90      0.86        92\n",
            "\n",
            "    accuracy                           0.91       898\n",
            "   macro avg       0.91      0.91      0.91       898\n",
            "weighted avg       0.91      0.91      0.91       898\n",
            "\n"
          ],
          "name": "stdout"
        },
        {
          "output_type": "display_data",
          "data": {
            "image/png": "[encoded data removed]",
            "text/plain": [
              "<Figure size 432x288 with 1 Axes>"
            ]
          },
          "metadata": {
            "tags": [],
            "needs_background": "light"
          }
        }
      ]
    },
    {
      "cell_type": "markdown",
      "metadata": {
        "id": "QWH4spZd1CNG"
      },
      "source": [
        "Enfin, nous terminerons le test avec le Perceptron multicouche (voir\n",
        "[ici](http://scikit-learn.org/stable/modules/neural_networks_supervised.html#multi-layer-perceptron))."
      ],
      "id": "QWH4spZd1CNG"
    },
    {
      "cell_type": "code",
      "metadata": {
        "id": "OPlYyAOF1CNH",
        "outputId": "7d88f7a6-9016-4f23-96a6-db65b0b8e8a3",
        "colab": {
          "base_uri": "https://localhost:8080/",
          "height": 589
        }
      },
      "source": [
        "from sklearn import datasets, metrics\n",
        "from sklearn.neural_network import MLPClassifier\n",
        "import numpy as np\n",
        "import matplotlib.pyplot as plot\n",
        "  \n",
        "digits = datasets.load_digits()\n",
        "  \n",
        "training_images = digits.images[:int(digits.images.shape[0]/2)]\n",
        "training_images = training_images.reshape((training_images.shape[0], -1))\n",
        "  \n",
        "training_target = digits.target[0:int(digits.target.shape[0]/2)]\n",
        "  \n",
        "classifier = MLPClassifier(alpha=2, max_iter=8000)\n",
        "#training\n",
        "classifier.fit(training_images, training_target)\n",
        "  \n",
        "#prediction\n",
        "predict_images = digits.images[int(digits.images.shape[0]/2)+1:]\n",
        "actual_labels = digits.target[int(digits.target.shape[0]/2)+1:]\n",
        "predicted_labels = classifier.predict(\n",
        "         predict_images.reshape((predict_images.shape[0], -1)))\n",
        "\n",
        "#classification report\n",
        "report = metrics.classification_report(actual_labels,predicted_labels)\n",
        "\n",
        "print(report)\n",
        "\n",
        "\n",
        "# plot\n",
        "labels = []\n",
        "y_precision = []\n",
        "y_recall = []\n",
        "y_f1 = []\n",
        "lines = report.split('\\n')\n",
        "for line in lines[2 : (len(lines) - 2)]:\n",
        "        t = line.strip().split()\n",
        "        if t == []: break # allow removing sum datas\n",
        "        if len(t) < 2: continue\n",
        "        labels.append(t[0])\n",
        "        v = [float(x) for x in t[1: len(t) - 1]]\n",
        "        y_precision.append(v[0])\n",
        "        y_recall.append(v[1])\n",
        "        y_f1.append(v[2])\n",
        "\n",
        "\n",
        "#print(y_precision)\n",
        "#print(y_recall)\n",
        "#print(y_f1)\n",
        "\n",
        "precision_plot = plot.plot(labels, y_precision, color='red', linewidth=2)\n",
        "recall_plot = plot.plot(labels, y_recall, color='blue', linewidth=2)\n",
        "f1_plot = plot.plot(labels, y_f1, color='black', linewidth=2)\n",
        "\n",
        "plot.legend([precision_plot[0], recall_plot[0], f1_plot[0]],   # plot items\n",
        "        ['sine curve', 'cosine curve', 'sine curve 2', 'cosine curve 2'])\n",
        "\n",
        "plot.title(\"Report of linear perceptron\")\n",
        "plot.xlabel('Number predicted',  fontsize=16)\n",
        "plot.ylabel('Rate',  fontsize=16)\n",
        "\n",
        "\n",
        "\n",
        "plot.show()"
      ],
      "id": "OPlYyAOF1CNH",
      "execution_count": 10,
      "outputs": [
        {
          "output_type": "stream",
          "text": [
            "              precision    recall  f1-score   support\n",
            "\n",
            "           0       1.00      0.98      0.99        88\n",
            "           1       0.95      0.91      0.93        91\n",
            "           2       1.00      1.00      1.00        86\n",
            "           3       0.99      0.85      0.91        91\n",
            "           4       0.99      0.93      0.96        92\n",
            "           5       0.92      0.96      0.94        91\n",
            "           6       0.96      0.99      0.97        91\n",
            "           7       0.98      0.97      0.97        89\n",
            "           8       0.92      0.93      0.93        87\n",
            "           9       0.82      0.97      0.89        92\n",
            "\n",
            "    accuracy                           0.95       898\n",
            "   macro avg       0.95      0.95      0.95       898\n",
            "weighted avg       0.95      0.95      0.95       898\n",
            "\n"
          ],
          "name": "stdout"
        },
        {
          "output_type": "display_data",
          "data": {
            "image/png": "[encoded data removed]",
            "text/plain": [
              "<Figure size 432x288 with 1 Axes>"
            ]
          },
          "metadata": {
            "tags": [],
            "needs_background": "light"
          }
        }
      ]
    },
    {
      "cell_type": "markdown",
      "metadata": {
        "id": "KJpgifSp1CNH"
      },
      "source": [
        "Avez-vous essayé de modifier le nombre de couches cachées ?\n",
        "\n",
        "**Le temps de calcul augmente mais la précision reste inchangé**\n",
        "\n",
        "Quelles sont vos observations après avoir essayé les différents classificateurs ?\n",
        "\n",
        "**Le taux de prédiction est fondamentalement très bon. Le temps de calcule du MLP est assez long**\n",
        "\n",
        "Votre prochaine question est de tracer les mesures de confusion pour les trois classificateurs ci-dessus."
      ],
      "id": "KJpgifSp1CNH"
    },
    {
      "cell_type": "markdown",
      "metadata": {
        "id": "PmZJUw6l1CNH"
      },
      "source": [
        "#### Exercice 3.3 \\[★★\\]\n",
        "\n",
        "Nous allons d'abord construire un classificateur d'arbres de décision en utilisant un exemple très simple. Comme les classificateurs que nous avons vus auparavant, nous essaierons d'abord de faire correspondre nos données et ensuite de prédire une classe pour une valeur jamais vue auparavant.\n",
        "\n"
      ],
      "id": "PmZJUw6l1CNH"
    },
    {
      "cell_type": "code",
      "metadata": {
        "id": "x7uincWY1CNH"
      },
      "source": [
        "from sklearn import tree\n",
        "data = [[0, 0], \n",
        "            [1, 1],\n",
        "            [1, 0]]\n",
        "\n",
        "result = [1, 0, 1]\n",
        "dtc = tree.DecisionTreeClassifier()\n",
        "dtc = dtc.fit(data, result)\n",
        "dtc.predict([[1, 1]])"
      ],
      "id": "x7uincWY1CNH",
      "execution_count": null,
      "outputs": []
    },
    {
      "cell_type": "markdown",
      "metadata": {
        "id": "LAlCWw701CNH"
      },
      "source": [
        "Notre prochain objectif est de visualiser l'arbre de décision. Regardez le code suivant et voyez comment nous avons donné des noms aux deux colonnes des données ci-dessus. Nous avons également donné des noms aux entrées de données *résultat*, en les appelant *classe1* et *classe2*."
      ],
      "id": "LAlCWw701CNH"
    },
    {
      "cell_type": "markdown",
      "metadata": {
        "id": "bjob8xm21CNI"
      },
      "source": [
        "For the next code, you may need to install graphviz and pydotplus"
      ],
      "id": "bjob8xm21CNI"
    },
    {
      "cell_type": "code",
      "metadata": {
        "id": "flaMektD1CNI"
      },
      "source": [
        "! pip3 install graphviz pydotplus"
      ],
      "id": "flaMektD1CNI",
      "execution_count": null,
      "outputs": []
    },
    {
      "cell_type": "markdown",
      "metadata": {
        "id": "BtaJbZ-61CNI"
      },
      "source": [
        "Vous pouvez avoir besoin de lancer `sudo apt install graphviz` dans le terminal pour installer l'exécutable graphviz."
      ],
      "id": "BtaJbZ-61CNI"
    },
    {
      "cell_type": "code",
      "metadata": {
        "id": "6Zwl4HJC1CNI"
      },
      "source": [
        "from sklearn import tree\n",
        "import graphviz\n",
        "import pydotplus\n",
        "from IPython.display import Image, display\n",
        "\n",
        "data = [[0, 0], \n",
        "            [1, 1],\n",
        "            [1, 0]]\n",
        "result = [1, 0, 1]\n",
        "dtc = tree.DecisionTreeClassifier()\n",
        "dtc = dtc.fit(data, result)\n",
        "\n",
        "dot_data = tree.export_graphviz(dtc, out_file=None,\n",
        "                     feature_names=['column1', 'column2'],\n",
        "                     filled=True, rounded=True, \n",
        "                     class_names = ['class1', 'class2']\n",
        "                     ) \n",
        "graph = graphviz.Source(dot_data)\n",
        "pydot_graph = pydotplus.graph_from_dot_data(dot_data)\n",
        "img = Image(pydot_graph.create_png())\n",
        "display(img)"
      ],
      "id": "6Zwl4HJC1CNI",
      "execution_count": null,
      "outputs": []
    },
    {
      "cell_type": "markdown",
      "metadata": {
        "id": "FY7RHzL41CNJ"
      },
      "source": [
        "Prenons maintenant un exemple réaliste. Dans le code suivant, nous considérons 13 photos marquées par un utilisateur comme \"Favorite\" et \"NotFavorite\". Pour chaque photo : nous avons quatre informations : la couleur, le tag, la taille (taille moyenne, vignette, etc.) et le mode dans lequel la photo a été prise (portrait ou paysage). Nous allons construire un classificateur d'arbre de décision avec ces données. Nous prévoyons ensuite si notre utilisateur aimera une photographie de nature dont la couleur prédominante est le rouge, dont la taille est celle d'une vignette et qui a été prise en mode portrait.\n",
        "\n",
        "Dans le code suivant, nous affichons deux valeurs. Nous prédisons si l'utilisateur va préférer la photographie ou non. Nous affichons également l'importance de chacune des caractéristiques : couleur, tag, taille et mode.\n"
      ],
      "id": "FY7RHzL41CNJ"
    },
    {
      "cell_type": "code",
      "metadata": {
        "id": "GmU6WUqV1CNJ"
      },
      "source": [
        "from sklearn import tree\n",
        "import pandas as pd\n",
        "from sklearn.preprocessing import LabelEncoder\n",
        "\n",
        "data = [\n",
        "            ['green', 'nature', 'thumbnail', 'landscape'], \n",
        "            ['blue', 'architecture', 'medium', 'portrait'],\n",
        "            ['blue', 'people', 'medium', 'landscape'],\n",
        "            ['yellow', 'nature', 'medium', 'portrait'],\n",
        "            ['green', 'nature', 'thumbnail', 'landscape'],\n",
        "            ['blue', 'people', 'medium', 'landscape'],\n",
        "            ['blue', 'nature', 'thumbnail', 'portrait'],\n",
        "            ['yellow', 'architecture', 'thumbnail', 'landscape'],\n",
        "            ['blue', 'people', 'medium', 'portrait'],\n",
        "            ['yellow', 'nature', 'medium', 'landscape'],\n",
        "            ['yellow', 'people', 'thumbnail', 'portrait'],\n",
        "            ['blue', 'people', 'medium', 'landscape'],\n",
        "            ['red', 'architecture', 'thumbnail','landscape']]\n",
        "result = [\n",
        "              'Favorite',\n",
        "              'NotFavorite',\n",
        "              'Favorite',\n",
        "              'Favorite',\n",
        "              'Favorite',\n",
        "              'Favorite',\n",
        "              'Favorite',\n",
        "              'NotFavorite',\n",
        "              'NotFavorite',\n",
        "              'Favorite',\n",
        "              'Favorite',\n",
        "              'NotFavorite',\n",
        "              'NotFavorite'\n",
        "              ]\n",
        "\n",
        "\n",
        "#creating dataframes\n",
        "dataframe = pd.DataFrame(data, columns=['color', 'tag', 'size', 'mode'])\n",
        "resultframe = pd.DataFrame(result, columns=['favorite'])\n",
        "\n",
        "#generating numerical labels\n",
        "le1 = LabelEncoder()\n",
        "dataframe['color'] = le1.fit_transform(dataframe['color'])\n",
        "\n",
        "le2 = LabelEncoder()\n",
        "dataframe['tag'] = le2.fit_transform(dataframe['tag'])\n",
        "\n",
        "le3 = LabelEncoder()\n",
        "dataframe['size'] = le3.fit_transform(dataframe['size'])\n",
        "\n",
        "le4 = LabelEncoder()\n",
        "dataframe['mode'] = le4.fit_transform(dataframe['mode'])\n",
        "\n",
        "le5 = LabelEncoder()\n",
        "resultframe['favorite'] = le5.fit_transform(resultframe['favorite'])\n",
        "\n",
        "#Use of decision tree classifiers\n",
        "dtc = tree.DecisionTreeClassifier()\n",
        "dtc = dtc.fit(dataframe, resultframe)\n",
        "\n",
        "#prediction\n",
        "prediction = dtc.predict([\n",
        "        [le1.transform(['red'])[0], le2.transform(['nature'])[0],\n",
        "         le3.transform(['thumbnail'])[0], le4.transform(['portrait'])[0]]])\n",
        "print(le5.inverse_transform(prediction))\n",
        "print(dtc.feature_importances_)"
      ],
      "id": "GmU6WUqV1CNJ",
      "execution_count": null,
      "outputs": []
    },
    {
      "cell_type": "markdown",
      "metadata": {
        "id": "imImBegw1CNJ"
      },
      "source": [
        "Quelles sont vos observations ?\n",
        "\n"
      ],
      "id": "imImBegw1CNJ"
    },
    {
      "cell_type": "markdown",
      "metadata": {
        "id": "W97uBOH01CNJ"
      },
      "source": [
        "Notre prochain objectif est de visualiser l'arbre de décision ci-dessus. Testez le code ci-dessous. Il est similaire au code que nous avons testé auparavant. Regardez les classes et les fonctionnalités."
      ],
      "id": "W97uBOH01CNJ"
    },
    {
      "cell_type": "code",
      "metadata": {
        "id": "fWFAqvL51CNJ"
      },
      "source": [
        " \n",
        "    from sklearn import tree\n",
        "    import pandas as pd\n",
        "    from sklearn.preprocessing import LabelEncoder\n",
        "    import graphviz\n",
        "    import pydotplus\n",
        "    from IPython.display import Image, display\n",
        "\n",
        "    data = [\n",
        "            ['green', 'nature', 'thumbnail', 'landscape'], \n",
        "            ['blue', 'architecture', 'medium', 'portrait'],\n",
        "            ['blue', 'people', 'medium', 'landscape'],\n",
        "            ['yellow', 'nature', 'medium', 'portrait'],\n",
        "            ['green', 'nature', 'thumbnail', 'landscape'],\n",
        "            ['blue', 'people', 'medium', 'landscape'],\n",
        "            ['blue', 'nature', 'thumbnail', 'portrait'],\n",
        "            ['yellow', 'architecture', 'thumbnail', 'landscape'],\n",
        "            ['blue', 'people', 'medium', 'portrait'],\n",
        "            ['yellow', 'nature', 'medium', 'landscape'],\n",
        "            ['yellow', 'people', 'thumbnail', 'portrait'],\n",
        "            ['blue', 'people', 'medium', 'landscape'],\n",
        "            ['red', 'architecture', 'thumbnail','landscape']]\n",
        "    result = [\n",
        "              'Favorite',\n",
        "              'NotFavorite',\n",
        "              'Favorite',\n",
        "              'Favorite',\n",
        "              'Favorite',\n",
        "              'Favorite',\n",
        "              'Favorite',\n",
        "              'NotFavorite',\n",
        "              'NotFavorite',\n",
        "              'Favorite',\n",
        "              'Favorite',\n",
        "              'NotFavorite',\n",
        "              'NotFavorite'\n",
        "              ]\n",
        "\n",
        "\n",
        "    #creating dataframes\n",
        "    dataframe = pd.DataFrame(data, columns=['color', 'tag', 'size', 'mode'])\n",
        "    resultframe = pd.DataFrame(result, columns=['favorite'])\n",
        "\n",
        "    #generating numerical labels\n",
        "    le1 = LabelEncoder()\n",
        "    dataframe['color'] = le1.fit_transform(dataframe['color'])\n",
        "\n",
        "    le2 = LabelEncoder()\n",
        "    dataframe['tag'] = le2.fit_transform(dataframe['tag'])\n",
        "\n",
        "    le3 = LabelEncoder()\n",
        "    dataframe['size'] = le3.fit_transform(dataframe['size'])\n",
        "\n",
        "    le4 = LabelEncoder()\n",
        "    dataframe['mode'] = le4.fit_transform(dataframe['mode'])\n",
        "\n",
        "    le5 = LabelEncoder()\n",
        "    resultframe['favorite'] = le5.fit_transform(resultframe['favorite'])\n",
        "\n",
        "    #Use of decision tree classifiers\n",
        "    dtc = tree.DecisionTreeClassifier()\n",
        "    dtc = dtc.fit(dataframe, resultframe)\n",
        "\n",
        "    dot_data = tree.export_graphviz(dtc, out_file=None,\n",
        "          feature_names=dataframe.columns,\n",
        "          filled=True, rounded=True, \n",
        "          class_names =\n",
        "          le5.inverse_transform(\n",
        "            resultframe.favorite.unique())\n",
        "         ) \n",
        "    graph = graphviz.Source(dot_data) \n",
        "     \n",
        "    pydot_graph = pydotplus.graph_from_dot_data(dot_data)\n",
        "    img = Image(pydot_graph.create_png())\n",
        "    display(img)\n",
        "\n"
      ],
      "id": "fWFAqvL51CNJ",
      "execution_count": null,
      "outputs": []
    },
    {
      "cell_type": "markdown",
      "metadata": {
        "id": "-mvyqQBP1CNK"
      },
      "source": [
        "Et si nous avions la possibilité d'avoir plusieurs arbres de décision ? Prévoyons en utilisant un classificateur forestier aléatoire (qui peut être considéré comme une collection d'arbres décisionnels multiples). Vérifiez la valeur prédite ainsi que l'importance des différentes caractéristiques. Notez que nous demandons de créer 10 estimateurs de ce type en utilisant une profondeur maximale de 2 pour chacun des estimateurs.\n"
      ],
      "id": "-mvyqQBP1CNK"
    },
    {
      "cell_type": "code",
      "metadata": {
        "id": "f4id_4zQ1CNK"
      },
      "source": [
        "from sklearn import tree\n",
        "import pandas as pd\n",
        "from sklearn.ensemble import RandomForestClassifier\n",
        "from sklearn.preprocessing import LabelEncoder\n",
        "import graphviz\n",
        "import pydotplus\n",
        "from IPython.display import Image, display\n",
        "\n",
        "data = [\n",
        "            ['green', 'nature', 'thumbnail', 'landscape'], \n",
        "            ['blue', 'architecture', 'medium', 'portrait'],\n",
        "            ['blue', 'people', 'medium', 'landscape'],\n",
        "            ['yellow', 'nature', 'medium', 'portrait'],\n",
        "            ['green', 'nature', 'thumbnail', 'landscape'],\n",
        "            ['blue', 'people', 'medium', 'landscape'],\n",
        "            ['blue', 'nature', 'thumbnail', 'portrait'],\n",
        "            ['yellow', 'architecture', 'thumbnail', 'landscape'],\n",
        "            ['blue', 'people', 'medium', 'portrait'],\n",
        "            ['yellow', 'nature', 'medium', 'landscape'],\n",
        "            ['yellow', 'people', 'thumbnail', 'portrait'],\n",
        "            ['blue', 'people', 'medium', 'landscape'],\n",
        "            ['red', 'architecture', 'thumbnail','landscape']]\n",
        "result = [\n",
        "              'Favorite',\n",
        "              'NotFavorite',\n",
        "              'Favorite',\n",
        "              'Favorite',\n",
        "              'Favorite',\n",
        "              'Favorite',\n",
        "              'Favorite',\n",
        "              'NotFavorite',\n",
        "              'NotFavorite',\n",
        "              'Favorite',\n",
        "              'Favorite',\n",
        "              'NotFavorite',\n",
        "              'NotFavorite'\n",
        "              ]\n",
        "\n",
        "\n",
        "#creating dataframes\n",
        "dataframe = pd.DataFrame(data, columns=['color', 'tag', 'size', 'mode'])\n",
        "resultframe = pd.DataFrame(result, columns=['favorite'])\n",
        "\n",
        "#generating numerical labels\n",
        "le1 = LabelEncoder()\n",
        "dataframe['color'] = le1.fit_transform(dataframe['color'])\n",
        "\n",
        "le2 = LabelEncoder()\n",
        "dataframe['tag'] = le2.fit_transform(dataframe['tag'])\n",
        "\n",
        "le3 = LabelEncoder()\n",
        "dataframe['size'] = le3.fit_transform(dataframe['size'])\n",
        "\n",
        "le4 = LabelEncoder()\n",
        "dataframe['mode'] = le4.fit_transform(dataframe['mode'])\n",
        "\n",
        "le5 = LabelEncoder()\n",
        "resultframe['favorite'] = le5.fit_transform(resultframe['favorite'])\n",
        "\n",
        "#Use of random forest classifier\n",
        "rfc = RandomForestClassifier(n_estimators=10, max_depth=2,\n",
        "                  random_state=0)\n",
        "rfc = rfc.fit(dataframe, resultframe.values.ravel())\n",
        "\n",
        "#prediction\n",
        "prediction = rfc.predict([\n",
        "        [le1.transform(['red'])[0], le2.transform(['nature'])[0],\n",
        "         le3.transform(['thumbnail'])[0], le4.transform(['portrait'])[0]]])\n",
        "print(le5.inverse_transform(prediction))\n",
        "print(rfc.feature_importances_)"
      ],
      "id": "f4id_4zQ1CNK",
      "execution_count": null,
      "outputs": []
    },
    {
      "cell_type": "markdown",
      "metadata": {
        "id": "3KiHsp8Z1CNK"
      },
      "source": [
        "Enfin, nous visualisons ces estimateurs."
      ],
      "id": "3KiHsp8Z1CNK"
    },
    {
      "cell_type": "code",
      "metadata": {
        "id": "v94X3kJ11CNK"
      },
      "source": [
        "from sklearn import tree\n",
        "import pandas as pd\n",
        "from sklearn.ensemble import RandomForestClassifier\n",
        "from sklearn.preprocessing import LabelEncoder\n",
        "import graphviz\n",
        "import pydotplus\n",
        "from IPython.display import Image, display\n",
        "\n",
        "data = [\n",
        "            ['green', 'nature', 'thumbnail', 'landscape'], \n",
        "            ['blue', 'architecture', 'medium', 'portrait'],\n",
        "            ['blue', 'people', 'medium', 'landscape'],\n",
        "            ['yellow', 'nature', 'medium', 'portrait'],\n",
        "            ['green', 'nature', 'thumbnail', 'landscape'],\n",
        "            ['blue', 'people', 'medium', 'landscape'],\n",
        "            ['blue', 'nature', 'thumbnail', 'portrait'],\n",
        "            ['yellow', 'architecture', 'thumbnail', 'landscape'],\n",
        "            ['blue', 'people', 'medium', 'portrait'],\n",
        "            ['yellow', 'nature', 'medium', 'landscape'],\n",
        "            ['yellow', 'people', 'thumbnail', 'portrait'],\n",
        "            ['blue', 'people', 'medium', 'landscape'],\n",
        "            ['red', 'architecture', 'thumbnail','landscape']]\n",
        "result = [\n",
        "              'Favorite',\n",
        "              'NotFavorite',\n",
        "              'Favorite',\n",
        "              'Favorite',\n",
        "              'Favorite',\n",
        "              'Favorite',\n",
        "              'Favorite',\n",
        "              'NotFavorite',\n",
        "              'NotFavorite',\n",
        "              'Favorite',\n",
        "              'Favorite',\n",
        "              'NotFavorite',\n",
        "              'NotFavorite'\n",
        "              ]\n",
        "\n",
        "\n",
        "#creating dataframes\n",
        "dataframe = pd.DataFrame(data, columns=['color', 'tag', 'size', 'mode'])\n",
        "resultframe = pd.DataFrame(result, columns=['favorite'])\n",
        "\n",
        "#generating numerical labels\n",
        "le1 = LabelEncoder()\n",
        "dataframe['color'] = le1.fit_transform(dataframe['color'])\n",
        "\n",
        "le2 = LabelEncoder()\n",
        "dataframe['tag'] = le2.fit_transform(dataframe['tag'])\n",
        "\n",
        "le3 = LabelEncoder()\n",
        "dataframe['size'] = le3.fit_transform(dataframe['size'])\n",
        "\n",
        "le4 = LabelEncoder()\n",
        "dataframe['mode'] = le4.fit_transform(dataframe['mode'])\n",
        "\n",
        "le5 = LabelEncoder()\n",
        "resultframe['favorite'] = le5.fit_transform(resultframe['favorite'])\n",
        "\n",
        "#Use of decision tree classifiers\n",
        "rfc = RandomForestClassifier(n_estimators=10, max_depth=3,\n",
        "                  random_state=0,)\n",
        "rfc = rfc.fit(dataframe, resultframe.values.ravel())\n",
        "\n",
        "for i in range(10):\n",
        "        dot_data = tree.export_graphviz(rfc.estimators_[i], out_file=None,\n",
        "        feature_names=dataframe.columns,\n",
        "        filled=True, rounded=True,\n",
        "        class_names =\n",
        "         le5.inverse_transform(\n",
        "           resultframe.favorite.unique())\n",
        "        ) \n",
        "        graph = graphviz.Source(dot_data) \n",
        "        pydot_graph = pydotplus.graph_from_dot_data(dot_data)\n",
        "        img = Image(pydot_graph.create_png())\n",
        "        display(img)\n"
      ],
      "id": "v94X3kJ11CNK",
      "execution_count": null,
      "outputs": []
    },
    {
      "cell_type": "markdown",
      "metadata": {
        "id": "NY_iOqes1CNK"
      },
      "source": [
        "#### Exercice 3.4 \\[★★\\]\n",
        "\n"
      ],
      "id": "NY_iOqes1CNK"
    },
    {
      "cell_type": "markdown",
      "metadata": {
        "id": "irzPYh4m1CNL"
      },
      "source": [
        "Nous avons maintenant divisé nos données MNIST (écriture) en deux : les données de formation et les données de test pour la création de modèles de prédiction et nous avons introduit les données de formation complètes dans notre classificateur. Cependant, dans la vie réelle, nous pouvons avoir de nouvelles données à former. Vérifiez le code suivant à l'aide du perceptron et comparez-le avec le code de l'exercice 3.3"
      ],
      "id": "irzPYh4m1CNL"
    },
    {
      "cell_type": "code",
      "metadata": {
        "id": "3imLJEOS1CNL"
      },
      "source": [
        "from sklearn import datasets, metrics\n",
        "from sklearn.linear_model import Perceptron\n",
        "import numpy as np\n",
        "import matplotlib.pyplot as plot\n",
        "   \n",
        "digits = datasets.load_digits()\n",
        "training_size = int(digits.images.shape[0]/2)\n",
        "   \n",
        "training_images = digits.images[0:training_size]\n",
        "training_images = training_images.reshape(\n",
        "        (training_images.shape[0], -1))\n",
        "   \n",
        "training_target = digits.target[0:training_size]\n",
        "   \n",
        "classifier = Perceptron(max_iter=1000)\n",
        "#training\n",
        "for i in range(training_size):\n",
        "    training_data = np.array(training_images[i])\n",
        "    training_data = training_data.reshape(1, -1)\n",
        "    classifier.partial_fit(training_data,\n",
        "     [training_target[i]], classes=np.unique(digits.target))\n",
        "\n",
        "#prediction\n",
        "predict_images = digits.images[training_size+1:]\n",
        "actual_labels = digits.target[training_size+1:]\n",
        "predicted_labels = classifier.predict(\n",
        "predict_images.reshape((predict_images.shape[0], -1)))\n",
        "   \n",
        "#classification report\n",
        "print(metrics.classification_report(actual_labels,\n",
        "        predicted_labels))"
      ],
      "id": "3imLJEOS1CNL",
      "execution_count": null,
      "outputs": []
    },
    {
      "cell_type": "markdown",
      "metadata": {
        "id": "9jTIhC031CNL"
      },
      "source": [
        "Cette approche est appelée [online machine training](https://en.wikipedia.org/wiki/Online_machine_learning) (ou\n",
        "[algorithme d'apprentissage incrémental\n",
        "(fr)](https://fr.wikipedia.org/wiki/Algorithme_d%27apprentissage_incr%C3%A9mental)).\n",
        "Avez-vous obtenu une bonne précision ?\n",
        "\n",
        "Votre prochaine question est de modifier le programme ci-dessus et de tester la formation en ligne avec **MLPClassifier**.\n",
        "\n",
        "Essayez de modifier (réduire et augmenter) la taille des données de la formation. Que sont\n",
        "vos observations ?"
      ],
      "id": "9jTIhC031CNL"
    },
    {
      "cell_type": "markdown",
      "metadata": {
        "id": "iaTz_3Mw1CNL"
      },
      "source": [
        "Cela a-t-il fonctionné ? Essayons maintenant d'obtenir la précision de notre modèle. Est-ce que cela travail pour l'ensemble de nos données de test ?"
      ],
      "id": "iaTz_3Mw1CNL"
    },
    {
      "cell_type": "markdown",
      "metadata": {
        "id": "bFqM1fPN1CNL"
      },
      "source": [
        "Quelle est la précision que vous avez obtenue ? Changez maintenant le nombre de neurones dans chaque couche (actuellement, il est fixé à 50 chacun). Essayez également d'augmenter le nombre de couches cachées. Votre précision s'est-elle améliorée ?\n",
        "\n"
      ],
      "id": "bFqM1fPN1CNL"
    }
  ]
}