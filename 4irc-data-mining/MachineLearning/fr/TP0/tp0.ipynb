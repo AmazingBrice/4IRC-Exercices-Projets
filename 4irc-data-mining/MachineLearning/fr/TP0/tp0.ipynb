{
  "nbformat": 4,
  "nbformat_minor": 5,
  "metadata": {
    "kernelspec": {
      "display_name": "Python 3",
      "language": "python",
      "name": "python3"
    },
    "language_info": {
      "codemirror_mode": {
        "name": "ipython",
        "version": 3
      },
      "file_extension": ".py",
      "mimetype": "text/x-python",
      "name": "python",
      "nbconvert_exporter": "python",
      "pygments_lexer": "ipython3",
      "version": "3.8.5"
    },
    "colab": {
      "name": "tp0.ipynb",
      "provenance": [],
      "include_colab_link": true
    }
  },
  "cells": [
    {
      "cell_type": "markdown",
      "metadata": {
        "id": "view-in-github",
        "colab_type": "text"
      },
      "source": [
        "<a href=\"https://colab.research.google.com/github/AmazingBrice/4irc-cours/blob/master/4irc-data-mining/MachineLearning/fr/TP0/tp0.ipynb\" target=\"_parent\"><img src=\"https://colab.research.google.com/assets/colab-badge.svg\" alt=\"Open In Colab\"/></a>"
      ]
    },
    {
      "cell_type": "markdown",
      "metadata": {
        "id": "isViGRl9Lvtq"
      },
      "source": [
        "### 0bjectifs\n",
        "\n",
        "* Comprendre les bases de la programmation Python : \n",
        "* Variables, types de données, listes, ensembles et tuples.\n",
        "* Expressions conditionnelles et boucles\n",
        "* Trier\n",
        "* Dictionnaire\n",
        "* Fichiers et interaction avec les utilisateurs"
      ],
      "id": "isViGRl9Lvtq"
    },
    {
      "cell_type": "markdown",
      "metadata": {
        "id": "m-CUYn1ZLvtx"
      },
      "source": [
        "#### Exercice 1\n",
        "\n",
        "1\\. Commentaires\n"
      ],
      "id": "m-CUYn1ZLvtx"
    },
    {
      "cell_type": "code",
      "metadata": {
        "colab": {
          "base_uri": "https://localhost:8080/"
        },
        "id": "j38w2IgtLvty",
        "outputId": "c922e24a-32da-42d2-da51-83bb5572e8aa"
      },
      "source": [
        "# Ceci est un commentaire\n",
        "print(\"Bonjour\")"
      ],
      "id": "j38w2IgtLvty",
      "execution_count": null,
      "outputs": [
        {
          "output_type": "stream",
          "text": [
            "Bonjour\n"
          ],
          "name": "stdout"
        }
      ]
    },
    {
      "cell_type": "markdown",
      "metadata": {
        "id": "wm5wmI2BLvty"
      },
      "source": [
        "2\\. Variables\n",
        "\n"
      ],
      "id": "wm5wmI2BLvty"
    },
    {
      "cell_type": "code",
      "metadata": {
        "colab": {
          "base_uri": "https://localhost:8080/"
        },
        "id": "RIOGqhBgLvtz",
        "outputId": "ab8d8eab-17cd-44a3-fe14-6e4aaca40e2c"
      },
      "source": [
        "# une variable\n",
        "message = \"le monde!\"\n",
        "print(message)"
      ],
      "id": "RIOGqhBgLvtz",
      "execution_count": null,
      "outputs": [
        {
          "output_type": "stream",
          "text": [
            "le monde!\n"
          ],
          "name": "stdout"
        }
      ]
    },
    {
      "cell_type": "code",
      "metadata": {
        "colab": {
          "base_uri": "https://localhost:8080/"
        },
        "id": "AorHzLs_Lvtz",
        "outputId": "000e2ae8-3e15-4c2e-81fd-24c69b26a5bc"
      },
      "source": [
        "a = 10\n",
        "b = 20\n",
        "c = a + b\n",
        "print(c)"
      ],
      "id": "AorHzLs_Lvtz",
      "execution_count": null,
      "outputs": [
        {
          "output_type": "stream",
          "text": [
            "30\n"
          ],
          "name": "stdout"
        }
      ]
    },
    {
      "cell_type": "code",
      "metadata": {
        "id": "nKEbUggnLvtz"
      },
      "source": [
        "# nombres réels\n",
        "pi = 3.14\n",
        "print(pi)"
      ],
      "id": "nKEbUggnLvtz",
      "execution_count": null,
      "outputs": []
    },
    {
      "cell_type": "code",
      "metadata": {
        "id": "UTij5vY5Lvt0"
      },
      "source": [
        "# types de donnés\n",
        "message1 = \"Bonjour\"\n",
        "a = 12\n",
        "pi = 3.14\n",
        "print(type(message1))\n",
        "print(type(a))\n",
        "print(type(pi))"
      ],
      "id": "UTij5vY5Lvt0",
      "execution_count": null,
      "outputs": []
    },
    {
      "cell_type": "markdown",
      "metadata": {
        "id": "ZpmhUKk9Lvt0"
      },
      "source": [
        "3\\. Concaténation de deux chaînes de caractères\n",
        "\n"
      ],
      "id": "ZpmhUKk9Lvt0"
    },
    {
      "cell_type": "code",
      "metadata": {
        "id": "6nYMR6hPLvt0"
      },
      "source": [
        "# Concaténation de deux chaînes de caractères\n",
        "message = \"le monde!\"\n",
        "print(\"Bonjour\" + message)"
      ],
      "id": "6nYMR6hPLvt0",
      "execution_count": null,
      "outputs": []
    },
    {
      "cell_type": "code",
      "metadata": {
        "id": "qDLUtCUILvt1"
      },
      "source": [
        "# Concaténation de deux chaînes de caractères\n",
        "message1 = \"Bonjour \"\n",
        "message2 = \"le monde!\"\n",
        "print(message1 + message2)"
      ],
      "id": "qDLUtCUILvt1",
      "execution_count": null,
      "outputs": []
    },
    {
      "cell_type": "code",
      "metadata": {
        "id": "PtDBT3J3Lvt1"
      },
      "source": [
        "# concaténation de deux variables de types de données différents\n",
        "# opération + sur deux types de données différents\n",
        "\n",
        "# Supprimer le commentaire ci-dessous et lancer le code\n",
        "message1 = \"Bonjour en Python\"\n",
        "a = 3\n",
        "#print(message1 + a)"
      ],
      "id": "PtDBT3J3Lvt1",
      "execution_count": null,
      "outputs": []
    },
    {
      "cell_type": "markdown",
      "metadata": {
        "id": "mEMTFhkzLvt1"
      },
      "source": [
        "Pourquoi cette erreur ? Dans le code suivant, nous corrigeons cette erreur."
      ],
      "id": "mEMTFhkzLvt1"
    },
    {
      "cell_type": "code",
      "metadata": {
        "id": "XsqyvylnLvt2"
      },
      "source": [
        "# solution de concaténation entre deux variables de types de données différents\n",
        "message1 = \"Bonjour en Python \"\n",
        "a = 3\n",
        "print(message1 + str(a))"
      ],
      "id": "XsqyvylnLvt2",
      "execution_count": null,
      "outputs": []
    },
    {
      "cell_type": "markdown",
      "metadata": {
        "id": "P0kbBgHALvt2"
      },
      "source": [
        "4\\. Listes"
      ],
      "id": "P0kbBgHALvt2"
    },
    {
      "cell_type": "code",
      "metadata": {
        "id": "R0pqnkGZLvt2"
      },
      "source": [
        "a = [10, 20, 30, 40, 50]\n",
        "print(a)"
      ],
      "id": "R0pqnkGZLvt2",
      "execution_count": null,
      "outputs": []
    },
    {
      "cell_type": "code",
      "metadata": {
        "id": "pEqPZG9sLvt2"
      },
      "source": [
        "a = [10, 20, 30, 40, 50]\n",
        "print(a[0])\n",
        "print(a[1])\n",
        "print(a[2])\n",
        "print(a[3])\n",
        "print(a[4])"
      ],
      "id": "pEqPZG9sLvt2",
      "execution_count": null,
      "outputs": []
    },
    {
      "cell_type": "code",
      "metadata": {
        "id": "_YEt8-JrLvt3"
      },
      "source": [
        "#Supprimer le commentaire ci-dessous et lancer le code\n",
        "a = [10, 20, 30, 40, 50]\n",
        "#print(a[8])"
      ],
      "id": "_YEt8-JrLvt3",
      "execution_count": null,
      "outputs": []
    },
    {
      "cell_type": "markdown",
      "metadata": {
        "id": "_0y_-kh6Lvt3"
      },
      "source": [
        "Nous essayons d'accéder à un élément à un index qui n'existe pas"
      ],
      "id": "_0y_-kh6Lvt3"
    },
    {
      "cell_type": "code",
      "metadata": {
        "colab": {
          "base_uri": "https://localhost:8080/"
        },
        "id": "HjhfbkowLvt3",
        "outputId": "a5bd3432-8a1f-43fd-8f18-396263310ec0"
      },
      "source": [
        "message1 = \"Bonjour en Python \"\n",
        "print(message1[0])\n",
        "print(message1[1])\n",
        "print(message1[2])\n",
        "print(message1[3])\n",
        "print(message1[4])\n",
        "print(message1[5])\n",
        "print(message1[6])\n",
        "print(message1[7])"
      ],
      "id": "HjhfbkowLvt3",
      "execution_count": null,
      "outputs": [
        {
          "output_type": "stream",
          "text": [
            "B\n",
            "o\n",
            "n\n",
            "j\n",
            "o\n",
            "u\n",
            "r\n",
            " \n"
          ],
          "name": "stdout"
        }
      ]
    },
    {
      "cell_type": "markdown",
      "metadata": {
        "id": "P1ESCHvLLvt3"
      },
      "source": [
        "Le code ci-dessus affiche les différents caractères de la chaîne (ou liste de caractères).\n",
        "Nous allons maintenant obtenir la longueur de cette chaîne."
      ],
      "id": "P1ESCHvLLvt3"
    },
    {
      "cell_type": "code",
      "metadata": {
        "id": "44Nj8cV5Lvt4"
      },
      "source": [
        "message1 = \"Bonjour en Python \"\n",
        "print(len(message1))"
      ],
      "id": "44Nj8cV5Lvt4",
      "execution_count": null,
      "outputs": []
    },
    {
      "cell_type": "markdown",
      "metadata": {
        "id": "BMT4lKaULvt4"
      },
      "source": [
        "Nous allons maintenant créer une liste d'entiers"
      ],
      "id": "BMT4lKaULvt4"
    },
    {
      "cell_type": "code",
      "metadata": {
        "colab": {
          "base_uri": "https://localhost:8080/"
        },
        "id": "IDzhKxBgLvt4",
        "outputId": "a0b0886e-3afc-4165-d47c-ba4ab8db6d8d"
      },
      "source": [
        "a = [10, 20, 30, 40, 50]\n",
        "print(len(a))"
      ],
      "id": "IDzhKxBgLvt4",
      "execution_count": null,
      "outputs": [
        {
          "output_type": "stream",
          "text": [
            "5\n"
          ],
          "name": "stdout"
        }
      ]
    },
    {
      "cell_type": "code",
      "metadata": {
        "colab": {
          "base_uri": "https://localhost:8080/"
        },
        "id": "M4z382K2Lvt4",
        "outputId": "6ab72abe-4a33-45fa-f494-045c325ce587"
      },
      "source": [
        "a = [10, 20, 30, 40, 50]\n",
        "\n",
        "# ajouter un nouveau numéro à la fin de la liste\n",
        "a.append(60)\n",
        "print(a)"
      ],
      "id": "M4z382K2Lvt4",
      "execution_count": null,
      "outputs": [
        {
          "output_type": "stream",
          "text": [
            "[10, 20, 30, 40, 50, 60]\n"
          ],
          "name": "stdout"
        }
      ]
    },
    {
      "cell_type": "code",
      "metadata": {
        "colab": {
          "base_uri": "https://localhost:8080/"
        },
        "id": "w1__XN2PLvt5",
        "outputId": "d43d84c1-478f-4251-d722-74d1308736f0"
      },
      "source": [
        "a = [10, 20, 30, 40, 50]\n",
        "\n",
        "# modifier un numéro à un index donné\n",
        "a[0] = 0\n",
        "print(a)"
      ],
      "id": "w1__XN2PLvt5",
      "execution_count": null,
      "outputs": [
        {
          "output_type": "stream",
          "text": [
            "[0, 20, 30, 40, 50]\n"
          ],
          "name": "stdout"
        }
      ]
    },
    {
      "cell_type": "code",
      "metadata": {
        "colab": {
          "base_uri": "https://localhost:8080/"
        },
        "id": "Kly8TtezLvt5",
        "outputId": "1318dc81-76d7-4d14-bcfe-997ddf616c38"
      },
      "source": [
        "#Supprimer le commentaire ci-dessous et lancer le code\n",
        "a = [10, 20, 30, 40, 50]\n",
        "\n",
        "#a[6] = 20 \n",
        "print(a)"
      ],
      "id": "Kly8TtezLvt5",
      "execution_count": null,
      "outputs": [
        {
          "output_type": "stream",
          "text": [
            "[10, 20, 30, 40, 50]\n"
          ],
          "name": "stdout"
        }
      ]
    },
    {
      "cell_type": "markdown",
      "metadata": {
        "id": "Uwajc59tLvt5"
      },
      "source": [
        "Pourquoi cette erreur? Nous modifions un élément à un indice inexistant."
      ],
      "id": "Uwajc59tLvt5"
    },
    {
      "cell_type": "markdown",
      "metadata": {
        "id": "OfKtUJfmOMXY"
      },
      "source": [
        "La liste n'as que 5 éléments l'index s'arrete donc a 4 "
      ],
      "id": "OfKtUJfmOMXY"
    },
    {
      "cell_type": "code",
      "metadata": {
        "colab": {
          "base_uri": "https://localhost:8080/"
        },
        "id": "yE1vAoJJLvt6",
        "outputId": "42304f4d-d87a-4b18-ed9e-c571ccf5e816"
      },
      "source": [
        "a = [10, 20, 30, 40, 50]\n",
        "\n",
        "# l'insertion d'un élément à un index particulier modifiera la liste\n",
        "a.insert(0, 0)\n",
        "print(a)\n",
        "print(len(a))"
      ],
      "id": "yE1vAoJJLvt6",
      "execution_count": null,
      "outputs": [
        {
          "output_type": "stream",
          "text": [
            "[0, 10, 20, 30, 40, 50]\n",
            "6\n"
          ],
          "name": "stdout"
        }
      ]
    },
    {
      "cell_type": "code",
      "metadata": {
        "colab": {
          "base_uri": "https://localhost:8080/"
        },
        "id": "P40Kuq2WLvt6",
        "outputId": "50225bee-dd17-4451-d3a4-402502adaabb"
      },
      "source": [
        "a = [10, 20, 30, 40, 50]\n",
        "a.insert(6,60)\n",
        "print(a)\n",
        "print(len(a))"
      ],
      "id": "P40Kuq2WLvt6",
      "execution_count": null,
      "outputs": [
        {
          "output_type": "stream",
          "text": [
            "[10, 20, 30, 40, 50, 60]\n",
            "6\n"
          ],
          "name": "stdout"
        }
      ]
    },
    {
      "cell_type": "code",
      "metadata": {
        "colab": {
          "base_uri": "https://localhost:8080/"
        },
        "id": "tuCxEbaALvt6",
        "outputId": "24f30eed-829e-422f-dd50-faaf4bdb2331"
      },
      "source": [
        "a = [10, 20, 30, 40, 50]\n",
        "\n",
        "# Nous allons maintenant essayer d'insérer un nombre à un index plus grand que la longueur\n",
        "# de la liste. Nous veillerons à ce qu'il n'y ait pas d'erreur et le nouveau numéro\n",
        "# est ajouté à la fin de la liste\n",
        "a.insert(10,60)\n",
        "print(a)\n",
        "print(len(a))"
      ],
      "id": "tuCxEbaALvt6",
      "execution_count": null,
      "outputs": [
        {
          "output_type": "stream",
          "text": [
            "[10, 20, 30, 40, 50, 60]\n",
            "6\n"
          ],
          "name": "stdout"
        }
      ]
    },
    {
      "cell_type": "markdown",
      "metadata": {
        "id": "_MKDVrCpLvt6"
      },
      "source": [
        "5\\. Tuples (non-modifiable lists)\n",
        "\n"
      ],
      "id": "_MKDVrCpLvt6"
    },
    {
      "cell_type": "code",
      "metadata": {
        "colab": {
          "base_uri": "https://localhost:8080/"
        },
        "id": "kjXYDLRuLvt7",
        "outputId": "510a071f-0678-4e41-f108-531813eed44a"
      },
      "source": [
        "a = (10, 20, 30, 40, 50)\n",
        "print(a)"
      ],
      "id": "kjXYDLRuLvt7",
      "execution_count": null,
      "outputs": [
        {
          "output_type": "stream",
          "text": [
            "(10, 20, 30, 40, 50)\n"
          ],
          "name": "stdout"
        }
      ]
    },
    {
      "cell_type": "code",
      "metadata": {
        "colab": {
          "base_uri": "https://localhost:8080/"
        },
        "id": "4W0h6sCpLvt7",
        "outputId": "ef381832-b7a0-4dcc-8673-bed8d4af55a6"
      },
      "source": [
        "a = (10, 20, 30, 40, 50)\n",
        "print(a[0])"
      ],
      "id": "4W0h6sCpLvt7",
      "execution_count": null,
      "outputs": [
        {
          "output_type": "stream",
          "text": [
            "10\n"
          ],
          "name": "stdout"
        }
      ]
    },
    {
      "cell_type": "code",
      "metadata": {
        "colab": {
          "base_uri": "https://localhost:8080/"
        },
        "id": "3NJaMhL6Lvt7",
        "outputId": "031dc997-bb3d-4186-e2ee-21a8f1d65870"
      },
      "source": [
        "a = (10, 20, 30, 40, 50)\n",
        "\n",
        "\n",
        "# Nous essayons maintenant de modifier un tuple\n",
        "# Décommentez le code ci-dessous et lancez le code\n",
        "# Un tupe est une liste non modifiable\n",
        "\n",
        "#a[0] = 0\n",
        "print(a)"
      ],
      "id": "3NJaMhL6Lvt7",
      "execution_count": null,
      "outputs": [
        {
          "output_type": "stream",
          "text": [
            "(10, 20, 30, 40, 50)\n"
          ],
          "name": "stdout"
        }
      ]
    },
    {
      "cell_type": "markdown",
      "metadata": {
        "id": "bsXXT-LdLvt7"
      },
      "source": [
        "6\\. Sets\n",
        "\n"
      ],
      "id": "bsXXT-LdLvt7"
    },
    {
      "cell_type": "code",
      "metadata": {
        "colab": {
          "base_uri": "https://localhost:8080/"
        },
        "id": "2Uh4YzVZLvt7",
        "outputId": "07f5a5a1-bf9b-4ff0-bfe6-422dea46eafb"
      },
      "source": [
        "# Un ensemble(Set) est une collection d'éléments distincts\n",
        "\n",
        "a = {10, 20, 30, 40, 50, 10, 20, 30, 40, 50}\n",
        "print(a)"
      ],
      "id": "2Uh4YzVZLvt7",
      "execution_count": null,
      "outputs": [
        {
          "output_type": "stream",
          "text": [
            "{40, 10, 50, 20, 30}\n"
          ],
          "name": "stdout"
        }
      ]
    },
    {
      "cell_type": "code",
      "metadata": {
        "colab": {
          "base_uri": "https://localhost:8080/"
        },
        "id": "sKxQ6HyCLvt8",
        "outputId": "380f493f-de87-4392-943a-6e7631d7b316"
      },
      "source": [
        "a = {10, 20, 30, 40, 50, 10, 20, 30, 40, 50}\n",
        "a.add(10)\n",
        "print(a)"
      ],
      "id": "sKxQ6HyCLvt8",
      "execution_count": null,
      "outputs": [
        {
          "output_type": "stream",
          "text": [
            "{40, 10, 50, 20, 30}\n"
          ],
          "name": "stdout"
        }
      ]
    },
    {
      "cell_type": "code",
      "metadata": {
        "colab": {
          "base_uri": "https://localhost:8080/"
        },
        "id": "Jdf7t3jTLvt8",
        "outputId": "22faa7a2-8f33-4c1e-b09e-5b37e37d91de"
      },
      "source": [
        "a = {10, 20, 30, 40, 50, 10, 20, 30, 40, 50}\n",
        "a.add(60)\n",
        "print(a)"
      ],
      "id": "Jdf7t3jTLvt8",
      "execution_count": null,
      "outputs": [
        {
          "output_type": "stream",
          "text": [
            "{40, 10, 50, 20, 60, 30}\n"
          ],
          "name": "stdout"
        }
      ]
    },
    {
      "cell_type": "code",
      "metadata": {
        "colab": {
          "base_uri": "https://localhost:8080/"
        },
        "id": "bZUbDtG_Lvt8",
        "outputId": "f3fdbe02-a93c-410f-cecc-467c58c8dd08"
      },
      "source": [
        "a = {10, 20, 30, 40, 50, 10, 20, 30, 40, 50}\n",
        "a.remove(40)\n",
        "print(a)"
      ],
      "id": "bZUbDtG_Lvt8",
      "execution_count": null,
      "outputs": [
        {
          "output_type": "stream",
          "text": [
            "{10, 50, 20, 30}\n"
          ],
          "name": "stdout"
        }
      ]
    },
    {
      "cell_type": "markdown",
      "metadata": {
        "id": "oBczwIZZLvt8"
      },
      "source": [
        "Nous allons maintenant essayer différents types de données avec les chiffres et afficher le résultat."
      ],
      "id": "oBczwIZZLvt8"
    },
    {
      "cell_type": "code",
      "metadata": {
        "colab": {
          "base_uri": "https://localhost:8080/"
        },
        "id": "Sg3cKK8fLvt9",
        "outputId": "d8fca670-ced5-49c0-fb86-2c7a3bb3a442"
      },
      "source": [
        "# set\n",
        "a = {10, 20, 30, 40, 50, 10, 20, 30, 40, 50}\n",
        "print(a)\n",
        "print(type(a))\n",
        " \n",
        "# tuple\n",
        "b = (10, 20, 30, 40, 50, 10, 20, 30, 40, 50)\n",
        "print(b)\n",
        "print(type(b))\n",
        " \n",
        "# list\n",
        "c= [10, 20, 30, 40, 50, 10, 20, 30, 40, 50]\n",
        "print(c)\n",
        "print(type(c))\n"
      ],
      "id": "Sg3cKK8fLvt9",
      "execution_count": null,
      "outputs": [
        {
          "output_type": "stream",
          "text": [
            "{40, 10, 50, 20, 30}\n",
            "<class 'set'>\n",
            "(10, 20, 30, 40, 50, 10, 20, 30, 40, 50)\n",
            "<class 'tuple'>\n",
            "[10, 20, 30, 40, 50, 10, 20, 30, 40, 50]\n",
            "<class 'list'>\n"
          ],
          "name": "stdout"
        }
      ]
    },
    {
      "cell_type": "markdown",
      "metadata": {
        "id": "QssLHAAlLvt9"
      },
      "source": [
        "#### Exercice 2\n",
        "\n",
        "1\\. Expressions conditionnelles\n"
      ],
      "id": "QssLHAAlLvt9"
    },
    {
      "cell_type": "code",
      "metadata": {
        "colab": {
          "base_uri": "https://localhost:8080/"
        },
        "id": "kKXf-eIaLvt9",
        "outputId": "dad8cf90-7332-40a8-df0a-d04178cac815"
      },
      "source": [
        "a = 12\n",
        "if( a%2 == 0):\n",
        "    print(a, \" is divisible by 2\")\n",
        "else:\n",
        "    print(a, \" is not divisible by 2\")"
      ],
      "id": "kKXf-eIaLvt9",
      "execution_count": null,
      "outputs": [
        {
          "output_type": "stream",
          "text": [
            "12  is divisible by 2\n"
          ],
          "name": "stdout"
        }
      ]
    },
    {
      "cell_type": "code",
      "metadata": {
        "colab": {
          "base_uri": "https://localhost:8080/"
        },
        "id": "SZxdAOUVLvt9",
        "outputId": "ce2e66d6-8267-4ed4-c576-23f2554fa7a6"
      },
      "source": [
        "lang = \"Français\"\n",
        "if (lang ==\"Français\"):\n",
        "    print(\"Bonjour le monde!\")\n",
        "else:\n",
        "    print(\"Hello World!\")"
      ],
      "id": "SZxdAOUVLvt9",
      "execution_count": null,
      "outputs": [
        {
          "output_type": "stream",
          "text": [
            "Bonjour le monde!\n"
          ],
          "name": "stdout"
        }
      ]
    },
    {
      "cell_type": "markdown",
      "metadata": {
        "id": "P0h-y22YLvt-"
      },
      "source": [
        "2\\. Boucles\n",
        "\n",
        "Les boucles peuvent également être utilisées pour accéder aux éléments de différents indices."
      ],
      "id": "P0h-y22YLvt-"
    },
    {
      "cell_type": "code",
      "metadata": {
        "colab": {
          "base_uri": "https://localhost:8080/"
        },
        "id": "7Jd5KygvLvt-",
        "outputId": "877ac2af-7c9a-458f-f8de-2188877c7ba2"
      },
      "source": [
        "# liste\n",
        "for i in [10, 20, 30, 40, 50, 10, 20, 30, 40, 50]:\n",
        "    print(i)"
      ],
      "id": "7Jd5KygvLvt-",
      "execution_count": null,
      "outputs": [
        {
          "output_type": "stream",
          "text": [
            "10\n",
            "20\n",
            "30\n",
            "40\n",
            "50\n",
            "10\n",
            "20\n",
            "30\n",
            "40\n",
            "50\n"
          ],
          "name": "stdout"
        }
      ]
    },
    {
      "cell_type": "code",
      "metadata": {
        "colab": {
          "base_uri": "https://localhost:8080/"
        },
        "id": "s3SleL7kLvt-",
        "outputId": "9f7b6546-8212-4994-f12e-5189931df865"
      },
      "source": [
        "# tuples\n",
        "for i in (10, 20, 30, 40, 50, 10, 20, 30, 40, 50):\n",
        "    print(i)"
      ],
      "id": "s3SleL7kLvt-",
      "execution_count": null,
      "outputs": [
        {
          "output_type": "stream",
          "text": [
            "10\n",
            "20\n",
            "30\n",
            "40\n",
            "50\n",
            "10\n",
            "20\n",
            "30\n",
            "40\n",
            "50\n"
          ],
          "name": "stdout"
        }
      ]
    },
    {
      "cell_type": "code",
      "metadata": {
        "colab": {
          "base_uri": "https://localhost:8080/"
        },
        "id": "yVIkooArLvt_",
        "outputId": "89afe3fa-a856-4618-87ca-fa9b9b09f8ba"
      },
      "source": [
        "# set\n",
        "for i in {10, 20, 30, 40, 50, 10, 20, 30, 40, 50}:\n",
        "    print(i)"
      ],
      "id": "yVIkooArLvt_",
      "execution_count": null,
      "outputs": [
        {
          "output_type": "stream",
          "text": [
            "40\n",
            "10\n",
            "50\n",
            "20\n",
            "30\n"
          ],
          "name": "stdout"
        }
      ]
    },
    {
      "cell_type": "markdown",
      "metadata": {
        "id": "KCPiWpBTLvt_"
      },
      "source": [
        "2\\. Limites\n",
        "\n"
      ],
      "id": "KCPiWpBTLvt_"
    },
    {
      "cell_type": "code",
      "metadata": {
        "colab": {
          "base_uri": "https://localhost:8080/"
        },
        "id": "JAClkPuTLvt_",
        "outputId": "93ba9811-74d6-4e0d-8a18-9a4bb90f1c7c"
      },
      "source": [
        "for i in range(0,10):\n",
        "    print(i)"
      ],
      "id": "JAClkPuTLvt_",
      "execution_count": null,
      "outputs": [
        {
          "output_type": "stream",
          "text": [
            "0\n",
            "1\n",
            "2\n",
            "3\n",
            "4\n",
            "5\n",
            "6\n",
            "7\n",
            "8\n",
            "9\n"
          ],
          "name": "stdout"
        }
      ]
    },
    {
      "cell_type": "code",
      "metadata": {
        "colab": {
          "base_uri": "https://localhost:8080/"
        },
        "id": "q_Rsj0Z5LvuA",
        "outputId": "bf609c9d-20af-4780-d8d1-9063c836eb89"
      },
      "source": [
        "for i in range(0,10,2):\n",
        "    print(i)"
      ],
      "id": "q_Rsj0Z5LvuA",
      "execution_count": null,
      "outputs": [
        {
          "output_type": "stream",
          "text": [
            "0\n",
            "2\n",
            "4\n",
            "6\n",
            "8\n"
          ],
          "name": "stdout"
        }
      ]
    },
    {
      "cell_type": "code",
      "metadata": {
        "colab": {
          "base_uri": "https://localhost:8080/"
        },
        "id": "bWfhe3d2LvuA",
        "outputId": "682ee8c9-6e8f-468a-bbaa-73ef3ade264c"
      },
      "source": [
        "# print() par défaut affiche le message suivi d'une nouvelle ligne\n",
        "# Mais vous pouvez changer son comportement\n",
        "\n",
        "for i in range(0,10,2):\n",
        "    print(i, end=' ')"
      ],
      "id": "bWfhe3d2LvuA",
      "execution_count": null,
      "outputs": [
        {
          "output_type": "stream",
          "text": [
            "0 2 4 6 8 "
          ],
          "name": "stdout"
        }
      ]
    },
    {
      "cell_type": "code",
      "metadata": {
        "colab": {
          "base_uri": "https://localhost:8080/"
        },
        "id": "CFNAre6vLvuA",
        "outputId": "cb9d319e-c8b3-4123-9485-a603862251a4"
      },
      "source": [
        "for i in range(10,0,-2):\n",
        "    print(i)"
      ],
      "id": "CFNAre6vLvuA",
      "execution_count": null,
      "outputs": [
        {
          "output_type": "stream",
          "text": [
            "10\n",
            "8\n",
            "6\n",
            "4\n",
            "2\n"
          ],
          "name": "stdout"
        }
      ]
    },
    {
      "cell_type": "code",
      "metadata": {
        "id": "5FM2K09aLvuB"
      },
      "source": [
        "for i in range(10,0):\n",
        "    print(i)"
      ],
      "id": "5FM2K09aLvuB",
      "execution_count": null,
      "outputs": []
    },
    {
      "cell_type": "markdown",
      "metadata": {
        "id": "qZCLAKDDLvuB"
      },
      "source": [
        "split(): La fonction peut être utilisée pour séparer une chaîne de caractères en utilisant \n",
        "un délimiteur spécifié. Par défaut, le délimiteur est un espace blanc."
      ],
      "id": "qZCLAKDDLvuB"
    },
    {
      "cell_type": "code",
      "metadata": {
        "colab": {
          "base_uri": "https://localhost:8080/"
        },
        "id": "MpBF2ql8LvuB",
        "outputId": "8edc7680-5956-4c59-a75b-bc1e7089a1d5"
      },
      "source": [
        "for i in \"Bonjour,le,monde!\".split():\n",
        "    print(i)"
      ],
      "id": "MpBF2ql8LvuB",
      "execution_count": null,
      "outputs": [
        {
          "output_type": "stream",
          "text": [
            "Bonjour,le,monde!\n"
          ],
          "name": "stdout"
        }
      ]
    },
    {
      "cell_type": "code",
      "metadata": {
        "colab": {
          "base_uri": "https://localhost:8080/"
        },
        "id": "M0dD_D27LvuC",
        "outputId": "71f75903-3b9c-4085-e351-7d5a173ede0a"
      },
      "source": [
        "for i in \"Bonjour,le,monde!\".split(\",\"):\n",
        "    print(i)"
      ],
      "id": "M0dD_D27LvuC",
      "execution_count": null,
      "outputs": [
        {
          "output_type": "stream",
          "text": [
            "Bonjour\n",
            "le\n",
            "monde!\n"
          ],
          "name": "stdout"
        }
      ]
    },
    {
      "cell_type": "markdown",
      "metadata": {
        "id": "ei8JTELfLvuC"
      },
      "source": [
        "Write a program in Python to display the following output\n",
        "\n",
        "  \n",
        " 1\n",
        " \n",
        " 12\n",
        " \n",
        " 123\n",
        " \n",
        " 1234\n",
        " \n",
        " 12345\n",
        " \n",
        " 123456\n",
        " \n",
        " 1234567\n",
        " \n",
        " 12345678"
      ],
      "id": "ei8JTELfLvuC"
    },
    {
      "cell_type": "code",
      "metadata": {
        "id": "rrC5ZydqPB2E",
        "colab": {
          "base_uri": "https://localhost:8080/"
        },
        "outputId": "cc1db59b-2928-405e-d5b2-d55ea6da7082"
      },
      "source": [
        "list = \"\"\r\n",
        "for i in range (1,10):\r\n",
        "  print(list)\r\n",
        "  list += str(i)"
      ],
      "id": "rrC5ZydqPB2E",
      "execution_count": null,
      "outputs": [
        {
          "output_type": "stream",
          "text": [
            "\n",
            "1\n",
            "12\n",
            "123\n",
            "1234\n",
            "12345\n",
            "123456\n",
            "1234567\n",
            "12345678\n"
          ],
          "name": "stdout"
        }
      ]
    },
    {
      "cell_type": "markdown",
      "metadata": {
        "id": "1gd2yHyqLvuC"
      },
      "source": [
        "#### Exercice 3\n",
        "\n",
        "1\\. Tri\n",
        "\n"
      ],
      "id": "1gd2yHyqLvuC"
    },
    {
      "cell_type": "code",
      "metadata": {
        "colab": {
          "base_uri": "https://localhost:8080/"
        },
        "id": "uDFdnHADLvuD",
        "outputId": "c912e0d7-0229-427b-e17c-f719fec77a20"
      },
      "source": [
        "num = [10, 20, 30, 40, 50, 10, 20, 30, 40, 50]\n",
        "num.sort()\n",
        "print(num)"
      ],
      "id": "uDFdnHADLvuD",
      "execution_count": null,
      "outputs": [
        {
          "output_type": "stream",
          "text": [
            "[10, 10, 20, 20, 30, 30, 40, 40, 50, 50]\n"
          ],
          "name": "stdout"
        }
      ]
    },
    {
      "cell_type": "markdown",
      "metadata": {
        "id": "9OEwBK_JLvuD"
      },
      "source": [
        "2\\. Tri (ordre décroissant)\n",
        "\n"
      ],
      "id": "9OEwBK_JLvuD"
    },
    {
      "cell_type": "code",
      "metadata": {
        "colab": {
          "base_uri": "https://localhost:8080/"
        },
        "id": "VJbZo-mZLvuD",
        "outputId": "1199bceb-75f2-4ca3-a07d-5e26459f1d84"
      },
      "source": [
        "num = [10, 20, 30, 40, 50, 10, 20, 30, 40, 50]\n",
        "num.sort(reverse=True)\n",
        "print(num)"
      ],
      "id": "VJbZo-mZLvuD",
      "execution_count": null,
      "outputs": [
        {
          "output_type": "stream",
          "text": [
            "[50, 50, 40, 40, 30, 30, 20, 20, 10, 10]\n"
          ],
          "name": "stdout"
        }
      ]
    },
    {
      "cell_type": "markdown",
      "metadata": {
        "id": "k9vtw1hhLvuE"
      },
      "source": [
        "3\\. minimum\n",
        "\n"
      ],
      "id": "k9vtw1hhLvuE"
    },
    {
      "cell_type": "code",
      "metadata": {
        "colab": {
          "base_uri": "https://localhost:8080/"
        },
        "id": "bSF0D2gULvuE",
        "outputId": "ba093434-a360-4216-da8d-1b23006070f2"
      },
      "source": [
        "num = [10, 20, 30, 40, 50, 10, 20, 30, 40, 50]\n",
        "print(min(num))"
      ],
      "id": "bSF0D2gULvuE",
      "execution_count": null,
      "outputs": [
        {
          "output_type": "stream",
          "text": [
            "10\n"
          ],
          "name": "stdout"
        }
      ]
    },
    {
      "cell_type": "markdown",
      "metadata": {
        "id": "ZJAT8q4KLvuE"
      },
      "source": [
        "4\\. maximum\n",
        "\n"
      ],
      "id": "ZJAT8q4KLvuE"
    },
    {
      "cell_type": "code",
      "metadata": {
        "colab": {
          "base_uri": "https://localhost:8080/"
        },
        "id": "IKAaFLhVLvuF",
        "outputId": "8ab1b95d-3dfe-4ce0-ec9c-097e78625613"
      },
      "source": [
        "num = [10, 20, 30, 40, 50, 10, 20, 30, 40, 50]\n",
        "print(max(num))"
      ],
      "id": "IKAaFLhVLvuF",
      "execution_count": null,
      "outputs": [
        {
          "output_type": "stream",
          "text": [
            "50\n"
          ],
          "name": "stdout"
        }
      ]
    },
    {
      "cell_type": "markdown",
      "metadata": {
        "id": "52VxSiMkLvuF"
      },
      "source": [
        "5\\. sorted()\n",
        "\n",
        "Vous pouvez utiliser cette fonction si vous ne souhaitez pas modifier votre liste initiale par un tri."
      ],
      "id": "52VxSiMkLvuF"
    },
    {
      "cell_type": "code",
      "metadata": {
        "colab": {
          "base_uri": "https://localhost:8080/"
        },
        "id": "6GP4DN6bLvuG",
        "outputId": "9c4cedb1-f599-4ea5-ed6c-3e1c86e5bf9f"
      },
      "source": [
        "num = [70, 20, 30, 10, 50, 60, 20, 80, 70, 50]\n",
        "tri = sorted(num,reverse=True)\n",
        "print(num)\n",
        "print(tri)"
      ],
      "id": "6GP4DN6bLvuG",
      "execution_count": null,
      "outputs": [
        {
          "output_type": "stream",
          "text": [
            "[70, 20, 30, 10, 50, 60, 20, 80, 70, 50]\n",
            "[80, 70, 70, 60, 50, 50, 30, 20, 20, 10]\n"
          ],
          "name": "stdout"
        }
      ]
    },
    {
      "cell_type": "code",
      "metadata": {
        "colab": {
          "base_uri": "https://localhost:8080/"
        },
        "id": "poPk5glzLvuG",
        "outputId": "447d34d5-d351-4036-bb46-ff061251ca43"
      },
      "source": [
        "num = [70, 20, 30, 10, 50, 60, 20, 80, 70, 50]\n",
        "list_uniq = []\n",
        "\n",
        "set_num = set(num)\n",
        "set_sorted = sorted(set_num ,reverse=True)[:5]\n",
        "\n",
        "# sélectionner les cinq premiers numéros\n",
        "#tri = sorted(,reverse=True)[:5]\n",
        "\n",
        "print(set_sorted)"
      ],
      "id": "poPk5glzLvuG",
      "execution_count": null,
      "outputs": [
        {
          "output_type": "stream",
          "text": [
            "[80, 70, 60, 50, 30]\n"
          ],
          "name": "stdout"
        }
      ]
    },
    {
      "cell_type": "markdown",
      "metadata": {
        "id": "gGrq83pqLvuG"
      },
      "source": [
        "Modifiez le code donné ci-dessous pour afficher les cinq plus grands numéros uniques.\n"
      ],
      "id": "gGrq83pqLvuG"
    },
    {
      "cell_type": "code",
      "metadata": {
        "colab": {
          "base_uri": "https://localhost:8080/"
        },
        "id": "bpmh1b-ELvuG",
        "outputId": "06bef688-8a83-4514-a9bb-485b40ef8ed1"
      },
      "source": [
        "print(sorted(\"Bonjour le monde!\".split(), key=str.lower, \n",
        "           reverse=True))\n",
        "  \n",
        "\n",
        "\n"
      ],
      "id": "bpmh1b-ELvuG",
      "execution_count": null,
      "outputs": [
        {
          "output_type": "stream",
          "text": [
            "['monde!', 'le', 'Bonjour']\n"
          ],
          "name": "stdout"
        }
      ]
    },
    {
      "cell_type": "markdown",
      "metadata": {
        "id": "HqaeZtJULvuH"
      },
      "source": [
        "#### Exercice 4\n",
        "\n",
        "1\\. Dictionnaire\n",
        "\n"
      ],
      "id": "HqaeZtJULvuH"
    },
    {
      "cell_type": "code",
      "metadata": {
        "colab": {
          "base_uri": "https://localhost:8080/"
        },
        "id": "gwiowscQLvuH",
        "outputId": "6ad4ff23-1e11-4775-9dd7-3f85ba7adf3c"
      },
      "source": [
        "a = {\"contente\": 12, \"content\": 12, \"triste\": 2}\n",
        "print(a)\n",
        "print(type(a))"
      ],
      "id": "gwiowscQLvuH",
      "execution_count": null,
      "outputs": [
        {
          "output_type": "stream",
          "text": [
            "{'contente': 12, 'content': 12, 'triste': 2}\n",
            "<class 'dict'>\n"
          ],
          "name": "stdout"
        }
      ]
    },
    {
      "cell_type": "code",
      "metadata": {
        "colab": {
          "base_uri": "https://localhost:8080/"
        },
        "id": "5mJOGvr2LvuH",
        "outputId": "e95ab07c-27d6-43a5-c167-7bb0910d0869"
      },
      "source": [
        "a = {\"contente\": 12, \"content\": 12, \"triste\": 2}\n",
        "for key in a:\n",
        "    print(\"la phrase \", key, \" apparait \", a[key], \" fois\")\n"
      ],
      "id": "5mJOGvr2LvuH",
      "execution_count": null,
      "outputs": [
        {
          "output_type": "stream",
          "text": [
            "la phrase  contente  apparait  12  fois\n",
            "la phrase  content  apparait  12  fois\n",
            "la phrase  triste  apparait  2  fois\n"
          ],
          "name": "stdout"
        }
      ]
    },
    {
      "cell_type": "code",
      "metadata": {
        "colab": {
          "base_uri": "https://localhost:8080/"
        },
        "id": "hHurmDnpLvuI",
        "outputId": "8902e525-ae05-4ded-e6b4-7c120cc470e9"
      },
      "source": [
        "a = {\"contente\": 12, \"content\": 12, \"triste\": 2}\n",
        "for key,value in a.items():\n",
        "    print(\"la phrase \", key, \" apparait \", value, \" fois\")\n",
        "  \n",
        "\n",
        "\n"
      ],
      "id": "hHurmDnpLvuI",
      "execution_count": null,
      "outputs": [
        {
          "output_type": "stream",
          "text": [
            "la phrase  contente  apparait  12  fois\n",
            "la phrase  content  apparait  12  fois\n",
            "la phrase  triste  apparait  2  fois\n"
          ],
          "name": "stdout"
        }
      ]
    },
    {
      "cell_type": "code",
      "metadata": {
        "id": "CDdk6UqlLvuI"
      },
      "source": [
        "a = {\"contente\": 12, \"content\": 12, \"triste\": 2}\n",
        "a[\"joie\"] = 10\n",
        "print(a)\n",
        "  \n",
        "\n",
        "\n"
      ],
      "id": "CDdk6UqlLvuI",
      "execution_count": null,
      "outputs": []
    },
    {
      "cell_type": "code",
      "metadata": {
        "colab": {
          "base_uri": "https://localhost:8080/"
        },
        "id": "_3yE-XPwLvuI",
        "outputId": "c75263ac-1ab7-4bca-e5a7-dca985ce3107"
      },
      "source": [
        "a = {\"contente\": 12, \"content\": 12, \"triste\": 2}\n",
        "del a[\"triste\"]\n",
        "print(a)"
      ],
      "id": "_3yE-XPwLvuI",
      "execution_count": null,
      "outputs": [
        {
          "output_type": "stream",
          "text": [
            "{'contente': 12, 'content': 12}\n"
          ],
          "name": "stdout"
        }
      ]
    },
    {
      "cell_type": "code",
      "metadata": {
        "colab": {
          "base_uri": "https://localhost:8080/"
        },
        "id": "YGoAFp3YLvuJ",
        "outputId": "fe7422e9-edc0-4f1e-cf77-2a8e3599eecd"
      },
      "source": [
        "mots = {\"contente\": 12, \"content\": 12, \"triste\": 2, \n",
        "     \"joie\" : 10}\n",
        "print(sorted(mots))"
      ],
      "id": "YGoAFp3YLvuJ",
      "execution_count": null,
      "outputs": [
        {
          "output_type": "stream",
          "text": [
            "['content', 'contente', 'joie', 'triste']\n"
          ],
          "name": "stdout"
        }
      ]
    },
    {
      "cell_type": "code",
      "metadata": {
        "colab": {
          "base_uri": "https://localhost:8080/"
        },
        "id": "rkRQlTX_LvuJ",
        "outputId": "1e593ba5-ac20-4937-b927-a668809bd9d8"
      },
      "source": [
        "mots = {\"contente\": 12, \"content\": 12, \"triste\": 2, \n",
        "     \"joie\" : 10}\n",
        "mots_tuple = [(key, value) for key,value in mots.items()]\n",
        "print(mots_tuple)"
      ],
      "id": "rkRQlTX_LvuJ",
      "execution_count": null,
      "outputs": [
        {
          "output_type": "stream",
          "text": [
            "[('contente', 12), ('content', 12), ('triste', 2), ('joie', 10)]\n"
          ],
          "name": "stdout"
        }
      ]
    },
    {
      "cell_type": "markdown",
      "metadata": {
        "id": "t23bXm8aLvuJ"
      },
      "source": [
        "2\\. itemgetter"
      ],
      "id": "t23bXm8aLvuJ"
    },
    {
      "cell_type": "code",
      "metadata": {
        "colab": {
          "base_uri": "https://localhost:8080/"
        },
        "id": "YVAQKUOaLvuJ",
        "outputId": "012907b1-6689-43e4-d942-fbceb89089a9"
      },
      "source": [
        "from operator import itemgetter\n",
        " \n",
        "mots = {\"contente\": 12, \"content\": 12, \"triste\": 2, \n",
        "     \"joie\" : 10}\n",
        "mots_tuple = [(key, value) for key,value in mots.items()]\n",
        "print(sorted(mots_tuple, key=itemgetter(1)))"
      ],
      "id": "YVAQKUOaLvuJ",
      "execution_count": null,
      "outputs": [
        {
          "output_type": "stream",
          "text": [
            "[('triste', 2), ('joie', 10), ('contente', 12), ('content', 12)]\n"
          ],
          "name": "stdout"
        }
      ]
    },
    {
      "cell_type": "markdown",
      "metadata": {
        "id": "ZnSabZVlLvuK"
      },
      "source": [
        "3\\. Interaction with user"
      ],
      "id": "ZnSabZVlLvuK"
    },
    {
      "cell_type": "code",
      "metadata": {
        "colab": {
          "base_uri": "https://localhost:8080/"
        },
        "id": "B_pnP0R1LvuK",
        "outputId": "53cf4293-da27-449d-d9c4-50d3c599eba5"
      },
      "source": [
        "nom = input(\"Quel est votre nom?\")\n",
        "print(nom)"
      ],
      "id": "B_pnP0R1LvuK",
      "execution_count": null,
      "outputs": [
        {
          "output_type": "stream",
          "text": [
            "Quel est votre nom?ii\n",
            "ii\n"
          ],
          "name": "stdout"
        }
      ]
    },
    {
      "cell_type": "code",
      "metadata": {
        "colab": {
          "base_uri": "https://localhost:8080/"
        },
        "id": "ozIDd916LvuK",
        "outputId": "1cfcde19-1e72-4668-a56b-c2b84c17ad90"
      },
      "source": [
        "age = input(\"Quel est votre âge? \")\n",
        "print(age)\n",
        "print(type(age))"
      ],
      "id": "ozIDd916LvuK",
      "execution_count": null,
      "outputs": [
        {
          "output_type": "stream",
          "text": [
            "Quel est votre âge? 22\n",
            "22\n",
            "<class 'str'>\n"
          ],
          "name": "stdout"
        }
      ]
    },
    {
      "cell_type": "code",
      "metadata": {
        "colab": {
          "base_uri": "https://localhost:8080/"
        },
        "id": "jQikwTnYLvuK",
        "outputId": "55c68dde-2886-414c-8179-ad8efdda076e"
      },
      "source": [
        "age = input(\"Quel est votre âge? \")\n",
        "age = int(age)\n",
        "print(age)\n",
        "print(type(age))"
      ],
      "id": "jQikwTnYLvuK",
      "execution_count": null,
      "outputs": [
        {
          "output_type": "stream",
          "text": [
            "Quel est votre âge? 5\n",
            "5\n",
            "<class 'int'>\n"
          ],
          "name": "stdout"
        }
      ]
    },
    {
      "cell_type": "markdown",
      "metadata": {
        "id": "n-NOaahvLvuL"
      },
      "source": [
        "**Question:** Ecrire un programme en Python qui interagit avec l'utilisateur pour\n",
        "obtenir les informations suivantes de 5 étudiants :\n",
        "\n",
        "- Nom de l'étudiant\n",
        "- Âge\n",
        "- Grades en 5 modules\n",
        "\n",
        "Une fois les informations obtenues pour les cinq étudiants, calculez\n",
        "et afficher les valeurs suivantes pour chaque module :\n",
        "\n",
        "- note moyenne\n",
        "- note maximale\n",
        "- note minimale"
      ],
      "id": "n-NOaahvLvuL"
    },
    {
      "cell_type": "code",
      "metadata": {
        "id": "Sk_dJ2NVTVBe",
        "colab": {
          "base_uri": "https://localhost:8080/"
        },
        "outputId": "1d7d30d4-ee3a-4d76-bd30-573ff4ca0283"
      },
      "source": [
        "notes = []\r\n",
        "for i in range (1,6):\r\n",
        "  print(\"Etudiant \", i, \" : \");\r\n",
        "  age =   input(\"Age de l'etudiant : \")\r\n",
        "  note_max = input(\"Note maxiaml : \")\r\n",
        "  note_min = input(\"Note minimal : \")\r\n",
        "  notes.append(int(note_max))\r\n",
        "  notes.append(int(note_min))\r\n",
        "  print(\"\")\r\n",
        "\r\n",
        "print(\"Moyenne : \", sum(notes) / len(notes) )\r\n",
        "print(\"Max : \", max(notes))\r\n",
        "print(\"Min : \", min(notes))\r\n"
      ],
      "id": "Sk_dJ2NVTVBe",
      "execution_count": null,
      "outputs": [
        {
          "output_type": "stream",
          "text": [
            "Etudiant  1  : \n",
            "Age de l'etudiant : 2\n",
            "Note maxiaml : 5\n",
            "Note minimal : 3\n",
            "\n",
            "Etudiant  2  : \n",
            "Age de l'etudiant : 7\n",
            "Note maxiaml : 6\n",
            "Note minimal : 5\n",
            "\n",
            "Etudiant  3  : \n",
            "Age de l'etudiant : 2\n",
            "Note maxiaml : 4\n",
            "Note minimal : 3\n",
            "\n",
            "Etudiant  4  : \n",
            "Age de l'etudiant : 9\n",
            "Note maxiaml : 5\n",
            "Note minimal : 4\n",
            "\n",
            "Etudiant  5  : \n",
            "Age de l'etudiant : 1\n",
            "Note maxiaml : 5\n",
            "Note minimal : 9\n",
            "\n",
            "Moyenne :  4.9\n",
            "Max :  9\n",
            "Min :  3\n"
          ],
          "name": "stdout"
        }
      ]
    },
    {
      "cell_type": "markdown",
      "metadata": {
        "id": "0XmFkMRrLvuL"
      },
      "source": [
        "#### Exercice 5\n",
        "\n",
        "Lire et écrire dans un fichier"
      ],
      "id": "0XmFkMRrLvuL"
    },
    {
      "cell_type": "markdown",
      "metadata": {
        "id": "mxMkwJ3jLvuL"
      },
      "source": [
        "1\\. Fichiers\n"
      ],
      "id": "mxMkwJ3jLvuL"
    },
    {
      "cell_type": "code",
      "metadata": {
        "id": "-YYw3eh0LvuL"
      },
      "source": [
        "# écrire dans un fichier\n",
        "message = \"Bonjour le monde\"\n",
        "with open(\"bonjour.txt\", \"w\") as file:\n",
        "    file.write(message)\n",
        "file.close()"
      ],
      "id": "-YYw3eh0LvuL",
      "execution_count": null,
      "outputs": []
    },
    {
      "cell_type": "code",
      "metadata": {
        "id": "FJ7o-XNdLvuM"
      },
      "source": [
        "# lire un fichier\n",
        "with open(\"bonjour.txt\", \"r\") as file:\n",
        "    text = file.read()\n",
        "    print(text)\n",
        "file.close()"
      ],
      "id": "FJ7o-XNdLvuM",
      "execution_count": null,
      "outputs": []
    },
    {
      "cell_type": "code",
      "metadata": {
        "id": "C7nby-w-LvuM"
      },
      "source": [
        "# écrire dans un fichier\n",
        "message1 = \"Bonjour le monde\"\n",
        "message2 = \"Programmation en Python\"\n",
        "with open(\"bonjour.txt\", \"w\") as file:\n",
        "    file.write(message1)\n",
        "    file.write(message2)\n",
        "file.close()"
      ],
      "id": "C7nby-w-LvuM",
      "execution_count": null,
      "outputs": []
    },
    {
      "cell_type": "code",
      "metadata": {
        "id": "RxNvb58nLvuM"
      },
      "source": [
        "# lire un fichier\n",
        "with open(\"bonjour.txt\", \"r\") as file:\n",
        "    text = file.read()\n",
        "    print(text)\n",
        "file.close()"
      ],
      "id": "RxNvb58nLvuM",
      "execution_count": null,
      "outputs": []
    },
    {
      "cell_type": "code",
      "metadata": {
        "id": "1rGXUu4oLvuM"
      },
      "source": [
        "# Rédaction dans un fichier en utilisant le caractère de nouvelle ligne\n",
        "message1 = \"Bonjour le monde\\n\"\n",
        "message2 = \"Programmation en Python\"\n",
        "with open(\"bonjour.txt\", \"w\") as file:\n",
        "    file.write(message1)\n",
        "    file.write(message2)\n",
        "file.close()\n",
        " \n",
        "with open(\"bonjour.txt\", \"r\") as file:\n",
        "    text = file.read()\n",
        "    print(text)\n",
        "file.close()"
      ],
      "id": "1rGXUu4oLvuM",
      "execution_count": null,
      "outputs": []
    },
    {
      "cell_type": "markdown",
      "metadata": {
        "id": "XNsG-P7NLvuM"
      },
      "source": [
        "2\\. readline()\n",
        "\n",
        "Cette fonction peut être utilisée pour lire un fichier ligne par ligne et non le contenu complet en un seul appel comme read()"
      ],
      "id": "XNsG-P7NLvuM"
    },
    {
      "cell_type": "code",
      "metadata": {
        "id": "h8IOr87-LvuN"
      },
      "source": [
        "message1 = \"Bonjour le monde\\n\"\n",
        "message2 = \"Programmation en Python\"\n",
        "with open(\"bonjour.txt\", \"w\") as file:\n",
        "    file.write(message1)\n",
        "    file.write(message2)\n",
        "file.close()"
      ],
      "id": "h8IOr87-LvuN",
      "execution_count": null,
      "outputs": []
    },
    {
      "cell_type": "code",
      "metadata": {
        "id": "Z07nmENXLvuN"
      },
      "source": [
        "with open(\"bonjour.txt\", \"r\") as file:\n",
        "    text = file.readline()\n",
        "    print(text)\n",
        "file.close()"
      ],
      "id": "Z07nmENXLvuN",
      "execution_count": null,
      "outputs": []
    },
    {
      "cell_type": "code",
      "metadata": {
        "id": "rc28T3BnLvuN"
      },
      "source": [
        "message1 = \"Bonjour le monde\\n\"\n",
        "message2 = \"Programmation en Python\\n\"\n",
        "with open(\"bonjour.txt\", \"w\") as file:\n",
        "    file.write(message1)\n",
        "    file.write(message2)\n",
        "file.close()"
      ],
      "id": "rc28T3BnLvuN",
      "execution_count": null,
      "outputs": []
    },
    {
      "cell_type": "code",
      "metadata": {
        "id": "FjEUjbXZLvuO"
      },
      "source": [
        "with open(\"bonjour.txt\", \"r\") as file:\n",
        "    for line in file:\n",
        "        print(line)\n",
        "file.close()"
      ],
      "id": "FjEUjbXZLvuO",
      "execution_count": null,
      "outputs": []
    },
    {
      "cell_type": "markdown",
      "metadata": {
        "id": "Dfn8J5ElLvuO"
      },
      "source": [
        "**Question:** Copiez un fichier HTML dans votre répertoire. Ecrire un programme\n",
        "en Python pour obtenir les valeurs suivantes :\n",
        "\n",
        "- nombre de caractères dans le fichier HTML\n",
        "- nombre de lignes dans le fichier HTML\n",
        "- nombre de mots dans le fichier HTML\n",
        "- les vingt premiers mots du fichier HTML\n",
        "- des mots distincts dans le fichier HTML\n",
        "\n"
      ],
      "id": "Dfn8J5ElLvuO"
    },
    {
      "cell_type": "code",
      "metadata": {
        "id": "kxcS6IFuh5oC",
        "outputId": "d076278e-abe8-449c-9d56-66536c7db0b4",
        "colab": {
          "base_uri": "https://localhost:8080/",
          "height": 229
        }
      },
      "source": [
        "import re\r\n",
        "\r\n",
        "html = ''\r\n",
        "line_count = 0\r\n",
        "\r\n",
        "with open(\"sample.html\", \"r\") as file:\r\n",
        "    for line in file:\r\n",
        "    \thtml += line\r\n",
        "    \tline_count +=1\r\n",
        "file.close()\r\n",
        "\r\n",
        "soup = re.split('<.+?>|[\\s]+', html)\r\n",
        "print(soup)\r\n",
        "\r\n",
        "words = list(filter(None, soup))\r\n",
        "\r\n",
        "words_no_duplicates = list(dict.fromkeys(words))\r\n",
        "\r\n",
        "print(\"Ce fichier contient \"+str(len(html))+ \" caractères.\\n\")\r\n",
        "print(\"Ce fichier contient \"+str(line_count)+ \" lignes.\\n\")\r\n",
        "print(\"Ce fichier contient \"+str(len(words))+ \" mots.\\n\")\r\n",
        "print(\"Les 20 premiers mots de ce fichier : \\n\")\r\n",
        "print(words[:20])\r\n",
        "print(\"Les mots unique de ce fichier: \\n\")\r\n",
        "print(words_no_duplicates)\r\n"
      ],
      "id": "kxcS6IFuh5oC",
      "execution_count": 16,
      "outputs": [
        {
          "output_type": "error",
          "ename": "FileNotFoundError",
          "evalue": "ignored",
          "traceback": [
            "\u001b[0;31m---------------------------------------------------------------------------\u001b[0m",
            "\u001b[0;31mFileNotFoundError\u001b[0m                         Traceback (most recent call last)",
            "\u001b[0;32m<ipython-input-16-afd41814b6e0>\u001b[0m in \u001b[0;36m<module>\u001b[0;34m()\u001b[0m\n\u001b[1;32m      4\u001b[0m \u001b[0mline_count\u001b[0m \u001b[0;34m=\u001b[0m \u001b[0;36m0\u001b[0m\u001b[0;34m\u001b[0m\u001b[0;34m\u001b[0m\u001b[0m\n\u001b[1;32m      5\u001b[0m \u001b[0;34m\u001b[0m\u001b[0m\n\u001b[0;32m----> 6\u001b[0;31m \u001b[0;32mwith\u001b[0m \u001b[0mopen\u001b[0m\u001b[0;34m(\u001b[0m\u001b[0;34m\"sample.html\"\u001b[0m\u001b[0;34m,\u001b[0m \u001b[0;34m\"r\"\u001b[0m\u001b[0;34m)\u001b[0m \u001b[0;32mas\u001b[0m \u001b[0mfile\u001b[0m\u001b[0;34m:\u001b[0m\u001b[0;34m\u001b[0m\u001b[0;34m\u001b[0m\u001b[0m\n\u001b[0m\u001b[1;32m      7\u001b[0m     \u001b[0;32mfor\u001b[0m \u001b[0mline\u001b[0m \u001b[0;32min\u001b[0m \u001b[0mfile\u001b[0m\u001b[0;34m:\u001b[0m\u001b[0;34m\u001b[0m\u001b[0;34m\u001b[0m\u001b[0m\n\u001b[1;32m      8\u001b[0m         \u001b[0mhtml\u001b[0m \u001b[0;34m+=\u001b[0m \u001b[0mline\u001b[0m\u001b[0;34m\u001b[0m\u001b[0;34m\u001b[0m\u001b[0m\n",
            "\u001b[0;31mFileNotFoundError\u001b[0m: [Errno 2] No such file or directory: 'sample.html'"
          ]
        }
      ]
    },
    {
      "cell_type": "markdown",
      "metadata": {
        "id": "BQNxgXimLvuO"
      },
      "source": [
        "**Question:** Copier le CSV\n",
        "du fichier population.csv du dossier **data**. Le fichier contient les valeurs de population entre\n",
        "1901 et 2016. Écrivez un programme en Python pour obtenir la valeur maximale.\n",
        "\n",
        "- la valeur maximale de la population\n",
        "- la valeur minimale de la population\n"
      ],
      "id": "BQNxgXimLvuO"
    },
    {
      "cell_type": "code",
      "metadata": {
        "colab": {
          "base_uri": "https://localhost:8080/"
        },
        "id": "tcXAltwNLvuO",
        "outputId": "4e9ead9f-ce1a-4fd9-f11c-d50b6d38d49c"
      },
      "source": [
        "max_population = 0\r\n",
        "with open(\"sample_data/california_housing_test.csv\", \"r\") as file:\r\n",
        "  print(file.readline().split(',')) # remove the column header row of the csv file\r\n",
        "\r\n",
        "  for line in file:\r\n",
        "    population = float(file.readline().split(',')[5])\r\n",
        "    if ( population > max_population ):\r\n",
        "      print(\"max changed to \", population )\r\n",
        "      max_population = population\r\n",
        "\r\n",
        "file.close\r\n",
        "\r\n",
        "print(max_population)\r\n"
      ],
      "id": "tcXAltwNLvuO",
      "execution_count": null,
      "outputs": [
        {
          "output_type": "stream",
          "text": [
            "['\"longitude\"', '\"latitude\"', '\"housing_median_age\"', '\"total_rooms\"', '\"total_bedrooms\"', '\"population\"', '\"households\"', '\"median_income\"', '\"median_house_value\"\\n']\n",
            "max changed to  809.0\n",
            "max changed to  1341.0\n",
            "max changed to  2830.0\n",
            "max changed to  3450.0\n",
            "max changed to  8152.0\n",
            "max changed to  8768.0\n",
            "max changed to  8824.0\n",
            "max changed to  9419.0\n",
            "9419.0\n"
          ],
          "name": "stdout"
        }
      ]
    }
  ]
}