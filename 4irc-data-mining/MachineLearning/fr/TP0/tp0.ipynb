{
  "nbformat": 4,
  "nbformat_minor": 5,
  "metadata": {
    "kernelspec": {
      "display_name": "Python 3",
      "language": "python",
      "name": "python3"
    },
    "language_info": {
      "codemirror_mode": {
        "name": "ipython",
        "version": 3
      },
      "file_extension": ".py",
      "mimetype": "text/x-python",
      "name": "python",
      "nbconvert_exporter": "python",
      "pygments_lexer": "ipython3",
      "version": "3.8.5"
    },
    "colab": {
      "name": "tp0.ipynb",
      "provenance": []
    }
  },
  "cells": [
    {
      "cell_type": "markdown",
      "metadata": {
        "id": "isViGRl9Lvtq"
      },
      "source": [
        "### 0bjectifs\n",
        "\n",
        "* Comprendre les bases de la programmation Python : 123465\n",
        "* Variables, types de données, listes, ensembles et tuples.\n",
        "* Expressions conditionnelles et boucles\n",
        "* Trier\n",
        "* Dictionnaire\n",
        "* Fichiers et interaction avec les utilisateurs"
      ],
      "id": "isViGRl9Lvtq"
    },
    {
      "cell_type": "markdown",
      "metadata": {
        "id": "m-CUYn1ZLvtx"
      },
      "source": [
        "#### Exercice 1\n",
        "\n",
        "1\\. Commentaires\n"
      ],
      "id": "m-CUYn1ZLvtx"
    },
    {
      "cell_type": "code",
      "metadata": {
        "id": "j38w2IgtLvty"
      },
      "source": [
        "# Ceci est un commentaire\n",
        "print(\"Bonjour\")"
      ],
      "id": "j38w2IgtLvty",
      "execution_count": null,
      "outputs": []
    },
    {
      "cell_type": "markdown",
      "metadata": {
        "id": "wm5wmI2BLvty"
      },
      "source": [
        "2\\. Variables\n",
        "\n"
      ],
      "id": "wm5wmI2BLvty"
    },
    {
      "cell_type": "code",
      "metadata": {
        "id": "RIOGqhBgLvtz"
      },
      "source": [
        "# une variable\n",
        "message = \"le monde!\"\n",
        "print(message)"
      ],
      "id": "RIOGqhBgLvtz",
      "execution_count": null,
      "outputs": []
    },
    {
      "cell_type": "code",
      "metadata": {
        "id": "AorHzLs_Lvtz"
      },
      "source": [
        "a = 10\n",
        "b = 20\n",
        "c = a + b\n",
        "print(c)"
      ],
      "id": "AorHzLs_Lvtz",
      "execution_count": null,
      "outputs": []
    },
    {
      "cell_type": "code",
      "metadata": {
        "id": "nKEbUggnLvtz"
      },
      "source": [
        "# nombres réels\n",
        "pi = 3.14\n",
        "print(pi)"
      ],
      "id": "nKEbUggnLvtz",
      "execution_count": null,
      "outputs": []
    },
    {
      "cell_type": "code",
      "metadata": {
        "id": "UTij5vY5Lvt0"
      },
      "source": [
        "# types de donnés\n",
        "message1 = \"Bonjour\"\n",
        "a = 12\n",
        "pi = 3.14\n",
        "print(type(message1))\n",
        "print(type(a))\n",
        "print(type(pi))"
      ],
      "id": "UTij5vY5Lvt0",
      "execution_count": null,
      "outputs": []
    },
    {
      "cell_type": "markdown",
      "metadata": {
        "id": "ZpmhUKk9Lvt0"
      },
      "source": [
        "3\\. Concaténation de deux chaînes de caractères\n",
        "\n"
      ],
      "id": "ZpmhUKk9Lvt0"
    },
    {
      "cell_type": "code",
      "metadata": {
        "id": "6nYMR6hPLvt0"
      },
      "source": [
        "# Concaténation de deux chaînes de caractères\n",
        "message = \"le monde!\"\n",
        "print(\"Bonjour\" + message)"
      ],
      "id": "6nYMR6hPLvt0",
      "execution_count": null,
      "outputs": []
    },
    {
      "cell_type": "code",
      "metadata": {
        "id": "qDLUtCUILvt1"
      },
      "source": [
        "# Concaténation de deux chaînes de caractères\n",
        "message1 = \"Bonjour \"\n",
        "message2 = \"le monde!\"\n",
        "print(message1 + message2)"
      ],
      "id": "qDLUtCUILvt1",
      "execution_count": null,
      "outputs": []
    },
    {
      "cell_type": "code",
      "metadata": {
        "id": "PtDBT3J3Lvt1"
      },
      "source": [
        "# concaténation de deux variables de types de données différents\n",
        "# opération + sur deux types de données différents\n",
        "\n",
        "# Supprimer le commentaire ci-dessous et lancer le code\n",
        "message1 = \"Bonjour en Python\"\n",
        "a = 3\n",
        "#print(message1 + a)"
      ],
      "id": "PtDBT3J3Lvt1",
      "execution_count": null,
      "outputs": []
    },
    {
      "cell_type": "markdown",
      "metadata": {
        "id": "mEMTFhkzLvt1"
      },
      "source": [
        "Pourquoi cette erreur ? Dans le code suivant, nous corrigeons cette erreur."
      ],
      "id": "mEMTFhkzLvt1"
    },
    {
      "cell_type": "code",
      "metadata": {
        "id": "XsqyvylnLvt2"
      },
      "source": [
        "# solution de concaténation entre deux variables de types de données différents\n",
        "message1 = \"Bonjour en Python \"\n",
        "a = 3\n",
        "print(message1 + str(a))"
      ],
      "id": "XsqyvylnLvt2",
      "execution_count": null,
      "outputs": []
    },
    {
      "cell_type": "markdown",
      "metadata": {
        "id": "P0kbBgHALvt2"
      },
      "source": [
        "4\\. Listes"
      ],
      "id": "P0kbBgHALvt2"
    },
    {
      "cell_type": "code",
      "metadata": {
        "id": "R0pqnkGZLvt2"
      },
      "source": [
        "a = [10, 20, 30, 40, 50]\n",
        "print(a)"
      ],
      "id": "R0pqnkGZLvt2",
      "execution_count": null,
      "outputs": []
    },
    {
      "cell_type": "code",
      "metadata": {
        "id": "pEqPZG9sLvt2"
      },
      "source": [
        "a = [10, 20, 30, 40, 50]\n",
        "print(a[0])\n",
        "print(a[1])\n",
        "print(a[2])\n",
        "print(a[3])\n",
        "print(a[4])"
      ],
      "id": "pEqPZG9sLvt2",
      "execution_count": null,
      "outputs": []
    },
    {
      "cell_type": "code",
      "metadata": {
        "id": "_YEt8-JrLvt3"
      },
      "source": [
        "#Supprimer le commentaire ci-dessous et lancer le code\n",
        "a = [10, 20, 30, 40, 50]\n",
        "#print(a[8])"
      ],
      "id": "_YEt8-JrLvt3",
      "execution_count": null,
      "outputs": []
    },
    {
      "cell_type": "markdown",
      "metadata": {
        "id": "_0y_-kh6Lvt3"
      },
      "source": [
        "Nous essayons d'accéder à un élément à un index qui n'existe pas"
      ],
      "id": "_0y_-kh6Lvt3"
    },
    {
      "cell_type": "code",
      "metadata": {
        "id": "HjhfbkowLvt3"
      },
      "source": [
        "message1 = \"Bonjour en Python \"\n",
        "print(message1[0])\n",
        "print(message1[1])\n",
        "print(message1[2])\n",
        "print(message1[3])\n",
        "print(message1[4])\n",
        "print(message1[5])\n",
        "print(message1[6])\n",
        "print(message1[7])"
      ],
      "id": "HjhfbkowLvt3",
      "execution_count": null,
      "outputs": []
    },
    {
      "cell_type": "markdown",
      "metadata": {
        "id": "P1ESCHvLLvt3"
      },
      "source": [
        "Le code ci-dessus affiche les différents caractères de la chaîne (ou liste de caractères).\n",
        "Nous allons maintenant obtenir la longueur de cette chaîne."
      ],
      "id": "P1ESCHvLLvt3"
    },
    {
      "cell_type": "code",
      "metadata": {
        "id": "44Nj8cV5Lvt4"
      },
      "source": [
        "message1 = \"Bonjour en Python \"\n",
        "print(len(message1))"
      ],
      "id": "44Nj8cV5Lvt4",
      "execution_count": null,
      "outputs": []
    },
    {
      "cell_type": "markdown",
      "metadata": {
        "id": "BMT4lKaULvt4"
      },
      "source": [
        "Nous allons maintenant créer une liste d'entiers"
      ],
      "id": "BMT4lKaULvt4"
    },
    {
      "cell_type": "code",
      "metadata": {
        "id": "IDzhKxBgLvt4"
      },
      "source": [
        "a = [10, 20, 30, 40, 50]\n",
        "print(len(a))"
      ],
      "id": "IDzhKxBgLvt4",
      "execution_count": null,
      "outputs": []
    },
    {
      "cell_type": "code",
      "metadata": {
        "id": "M4z382K2Lvt4"
      },
      "source": [
        "a = [10, 20, 30, 40, 50]\n",
        "\n",
        "# ajouter un nouveau numéro à la fin de la liste\n",
        "a.append(60)\n",
        "print(a)"
      ],
      "id": "M4z382K2Lvt4",
      "execution_count": null,
      "outputs": []
    },
    {
      "cell_type": "code",
      "metadata": {
        "id": "w1__XN2PLvt5"
      },
      "source": [
        "a = [10, 20, 30, 40, 50]\n",
        "\n",
        "# modifier un numéro à un index donné\n",
        "a[0] = 0\n",
        "print(a)"
      ],
      "id": "w1__XN2PLvt5",
      "execution_count": null,
      "outputs": []
    },
    {
      "cell_type": "code",
      "metadata": {
        "id": "Kly8TtezLvt5"
      },
      "source": [
        "#Supprimer le commentaire ci-dessous et lancer le code\n",
        "a = [10, 20, 30, 40, 50]\n",
        "\n",
        "#a[6] = 20\n",
        "print(a)"
      ],
      "id": "Kly8TtezLvt5",
      "execution_count": null,
      "outputs": []
    },
    {
      "cell_type": "markdown",
      "metadata": {
        "id": "Uwajc59tLvt5"
      },
      "source": [
        "Pourquoi cette erreur? Nous modifions un élément à un indice inexistant."
      ],
      "id": "Uwajc59tLvt5"
    },
    {
      "cell_type": "code",
      "metadata": {
        "id": "yE1vAoJJLvt6"
      },
      "source": [
        "a = [10, 20, 30, 40, 50]\n",
        "\n",
        "# l'insertion d'un élément à un index particulier modifiera la liste\n",
        "a.insert(0, 0)\n",
        "print(a)\n",
        "print(len(a))"
      ],
      "id": "yE1vAoJJLvt6",
      "execution_count": null,
      "outputs": []
    },
    {
      "cell_type": "code",
      "metadata": {
        "id": "P40Kuq2WLvt6"
      },
      "source": [
        "a = [10, 20, 30, 40, 50]\n",
        "a.insert(6,60)\n",
        "print(a)\n",
        "print(len(a))"
      ],
      "id": "P40Kuq2WLvt6",
      "execution_count": null,
      "outputs": []
    },
    {
      "cell_type": "code",
      "metadata": {
        "id": "tuCxEbaALvt6"
      },
      "source": [
        "a = [10, 20, 30, 40, 50]\n",
        "\n",
        "# Nous allons maintenant essayer d'insérer un nombre à un index plus grand que la longueur\n",
        "# de la liste. Nous veillerons à ce qu'il n'y ait pas d'erreur et le nouveau numéro\n",
        "# est ajouté à la fin de la liste\n",
        "a.insert(10,60)\n",
        "print(a)\n",
        "print(len(a))"
      ],
      "id": "tuCxEbaALvt6",
      "execution_count": null,
      "outputs": []
    },
    {
      "cell_type": "markdown",
      "metadata": {
        "id": "_MKDVrCpLvt6"
      },
      "source": [
        "5\\. Tuples (non-modifiable lists)\n",
        "\n"
      ],
      "id": "_MKDVrCpLvt6"
    },
    {
      "cell_type": "code",
      "metadata": {
        "id": "kjXYDLRuLvt7"
      },
      "source": [
        "a = (10, 20, 30, 40, 50)\n",
        "print(a)"
      ],
      "id": "kjXYDLRuLvt7",
      "execution_count": null,
      "outputs": []
    },
    {
      "cell_type": "code",
      "metadata": {
        "id": "4W0h6sCpLvt7"
      },
      "source": [
        "a = (10, 20, 30, 40, 50)\n",
        "print(a[0])"
      ],
      "id": "4W0h6sCpLvt7",
      "execution_count": null,
      "outputs": []
    },
    {
      "cell_type": "code",
      "metadata": {
        "id": "3NJaMhL6Lvt7"
      },
      "source": [
        "a = (10, 20, 30, 40, 50)\n",
        "\n",
        "\n",
        "# Nous essayons maintenant de modifier un tuple\n",
        "# Décommentez le code ci-dessous et lancez le code\n",
        "# Un tupe est une liste non modifiable\n",
        "\n",
        "#a[0] = 0\n",
        "print(a)"
      ],
      "id": "3NJaMhL6Lvt7",
      "execution_count": null,
      "outputs": []
    },
    {
      "cell_type": "markdown",
      "metadata": {
        "id": "bsXXT-LdLvt7"
      },
      "source": [
        "6\\. Sets\n",
        "\n"
      ],
      "id": "bsXXT-LdLvt7"
    },
    {
      "cell_type": "code",
      "metadata": {
        "id": "2Uh4YzVZLvt7"
      },
      "source": [
        "# Un ensemble(Set) est une collection d'éléments distincts\n",
        "\n",
        "a = {10, 20, 30, 40, 50, 10, 20, 30, 40, 50}\n",
        "print(a)"
      ],
      "id": "2Uh4YzVZLvt7",
      "execution_count": null,
      "outputs": []
    },
    {
      "cell_type": "code",
      "metadata": {
        "id": "sKxQ6HyCLvt8"
      },
      "source": [
        "a = {10, 20, 30, 40, 50, 10, 20, 30, 40, 50}\n",
        "a.add(10)\n",
        "print(a)"
      ],
      "id": "sKxQ6HyCLvt8",
      "execution_count": null,
      "outputs": []
    },
    {
      "cell_type": "code",
      "metadata": {
        "id": "Jdf7t3jTLvt8"
      },
      "source": [
        "a = {10, 20, 30, 40, 50, 10, 20, 30, 40, 50}\n",
        "a.add(60)\n",
        "print(a)"
      ],
      "id": "Jdf7t3jTLvt8",
      "execution_count": null,
      "outputs": []
    },
    {
      "cell_type": "code",
      "metadata": {
        "id": "bZUbDtG_Lvt8"
      },
      "source": [
        "a = {10, 20, 30, 40, 50, 10, 20, 30, 40, 50}\n",
        "a.remove(40)\n",
        "print(a)"
      ],
      "id": "bZUbDtG_Lvt8",
      "execution_count": null,
      "outputs": []
    },
    {
      "cell_type": "markdown",
      "metadata": {
        "id": "oBczwIZZLvt8"
      },
      "source": [
        "Nous allons maintenant essayer différents types de données avec les chiffres et afficher le résultat."
      ],
      "id": "oBczwIZZLvt8"
    },
    {
      "cell_type": "code",
      "metadata": {
        "id": "Sg3cKK8fLvt9"
      },
      "source": [
        "# set\n",
        "a = {10, 20, 30, 40, 50, 10, 20, 30, 40, 50}\n",
        "print(a)\n",
        "print(type(a))\n",
        " \n",
        "# tuple\n",
        "b = (10, 20, 30, 40, 50, 10, 20, 30, 40, 50)\n",
        "print(b)\n",
        "print(type(b))\n",
        " \n",
        "# list\n",
        "c= [10, 20, 30, 40, 50, 10, 20, 30, 40, 50]\n",
        "print(c)\n",
        "print(type(c))\n"
      ],
      "id": "Sg3cKK8fLvt9",
      "execution_count": null,
      "outputs": []
    },
    {
      "cell_type": "markdown",
      "metadata": {
        "id": "QssLHAAlLvt9"
      },
      "source": [
        "#### Exercice 2\n",
        "\n",
        "1\\. Expressions conditionnelles\n"
      ],
      "id": "QssLHAAlLvt9"
    },
    {
      "cell_type": "code",
      "metadata": {
        "id": "kKXf-eIaLvt9"
      },
      "source": [
        "a = 12\n",
        "if( a%2 == 0):\n",
        "    print(a, \" is divisible by 2\")\n",
        "else:\n",
        "    print(a, \" is not divisible by 2\")"
      ],
      "id": "kKXf-eIaLvt9",
      "execution_count": null,
      "outputs": []
    },
    {
      "cell_type": "code",
      "metadata": {
        "id": "SZxdAOUVLvt9"
      },
      "source": [
        "lang = \"Français\"\n",
        "if (lang ==\"Français\"):\n",
        "    print(\"Bonjour le monde!\")\n",
        "else:\n",
        "    print(\"Hello World!\")"
      ],
      "id": "SZxdAOUVLvt9",
      "execution_count": null,
      "outputs": []
    },
    {
      "cell_type": "markdown",
      "metadata": {
        "id": "P0h-y22YLvt-"
      },
      "source": [
        "2\\. Boucles\n",
        "\n",
        "Les boucles peuvent également être utilisées pour accéder aux éléments de différents indices."
      ],
      "id": "P0h-y22YLvt-"
    },
    {
      "cell_type": "code",
      "metadata": {
        "id": "7Jd5KygvLvt-"
      },
      "source": [
        "# liste\n",
        "for i in [10, 20, 30, 40, 50, 10, 20, 30, 40, 50]:\n",
        "    print(i)"
      ],
      "id": "7Jd5KygvLvt-",
      "execution_count": null,
      "outputs": []
    },
    {
      "cell_type": "code",
      "metadata": {
        "id": "s3SleL7kLvt-"
      },
      "source": [
        "# tuples\n",
        "for i in (10, 20, 30, 40, 50, 10, 20, 30, 40, 50):\n",
        "    print(i)"
      ],
      "id": "s3SleL7kLvt-",
      "execution_count": null,
      "outputs": []
    },
    {
      "cell_type": "code",
      "metadata": {
        "id": "yVIkooArLvt_"
      },
      "source": [
        "# set\n",
        "for i in {10, 20, 30, 40, 50, 10, 20, 30, 40, 50}:\n",
        "    print(i)"
      ],
      "id": "yVIkooArLvt_",
      "execution_count": null,
      "outputs": []
    },
    {
      "cell_type": "markdown",
      "metadata": {
        "id": "KCPiWpBTLvt_"
      },
      "source": [
        "2\\. Limites\n",
        "\n"
      ],
      "id": "KCPiWpBTLvt_"
    },
    {
      "cell_type": "code",
      "metadata": {
        "id": "JAClkPuTLvt_"
      },
      "source": [
        "for i in range(0,10):\n",
        "    print(i)"
      ],
      "id": "JAClkPuTLvt_",
      "execution_count": null,
      "outputs": []
    },
    {
      "cell_type": "code",
      "metadata": {
        "id": "q_Rsj0Z5LvuA"
      },
      "source": [
        "for i in range(0,10,2):\n",
        "    print(i)"
      ],
      "id": "q_Rsj0Z5LvuA",
      "execution_count": null,
      "outputs": []
    },
    {
      "cell_type": "code",
      "metadata": {
        "id": "bWfhe3d2LvuA"
      },
      "source": [
        "# print() par défaut affiche le message suivi d'une nouvelle ligne\n",
        "# Mais vous pouvez changer son comportement\n",
        "\n",
        "for i in range(0,10,2):\n",
        "    print(i, end=' ')"
      ],
      "id": "bWfhe3d2LvuA",
      "execution_count": null,
      "outputs": []
    },
    {
      "cell_type": "code",
      "metadata": {
        "id": "CFNAre6vLvuA"
      },
      "source": [
        "for i in range(10,0,-2):\n",
        "    print(i)"
      ],
      "id": "CFNAre6vLvuA",
      "execution_count": null,
      "outputs": []
    },
    {
      "cell_type": "code",
      "metadata": {
        "id": "5FM2K09aLvuB"
      },
      "source": [
        "for i in range(10,0):\n",
        "    print(i)"
      ],
      "id": "5FM2K09aLvuB",
      "execution_count": null,
      "outputs": []
    },
    {
      "cell_type": "markdown",
      "metadata": {
        "id": "qZCLAKDDLvuB"
      },
      "source": [
        "split(): La fonction peut être utilisée pour séparer une chaîne de caractères en utilisant \n",
        "un délimiteur spécifié. Par défaut, le délimiteur est un espace blanc."
      ],
      "id": "qZCLAKDDLvuB"
    },
    {
      "cell_type": "code",
      "metadata": {
        "id": "MpBF2ql8LvuB"
      },
      "source": [
        "for i in \"Bonjour,le,monde!\".split():\n",
        "    print(i)"
      ],
      "id": "MpBF2ql8LvuB",
      "execution_count": null,
      "outputs": []
    },
    {
      "cell_type": "code",
      "metadata": {
        "id": "M0dD_D27LvuC"
      },
      "source": [
        "for i in \"Bonjour,le,monde!\".split(\",\"):\n",
        "    print(i)"
      ],
      "id": "M0dD_D27LvuC",
      "execution_count": null,
      "outputs": []
    },
    {
      "cell_type": "markdown",
      "metadata": {
        "id": "ei8JTELfLvuC"
      },
      "source": [
        "Write a program in Python to display the following output\n",
        "\n",
        "  \n",
        " 1\n",
        " \n",
        " 12\n",
        " \n",
        " 123\n",
        " \n",
        " 1234\n",
        " \n",
        " 12345\n",
        " \n",
        " 123456\n",
        " \n",
        " 1234567\n",
        " \n",
        " 12345678"
      ],
      "id": "ei8JTELfLvuC"
    },
    {
      "cell_type": "markdown",
      "metadata": {
        "id": "1gd2yHyqLvuC"
      },
      "source": [
        "#### Exercice 3\n",
        "\n",
        "1\\. Tri\n",
        "\n"
      ],
      "id": "1gd2yHyqLvuC"
    },
    {
      "cell_type": "code",
      "metadata": {
        "id": "uDFdnHADLvuD"
      },
      "source": [
        "num = [10, 20, 30, 40, 50, 10, 20, 30, 40, 50]\n",
        "num.sort()\n",
        "print(num)"
      ],
      "id": "uDFdnHADLvuD",
      "execution_count": null,
      "outputs": []
    },
    {
      "cell_type": "markdown",
      "metadata": {
        "id": "9OEwBK_JLvuD"
      },
      "source": [
        "2\\. Tri (ordre décroissant)\n",
        "\n"
      ],
      "id": "9OEwBK_JLvuD"
    },
    {
      "cell_type": "code",
      "metadata": {
        "id": "VJbZo-mZLvuD"
      },
      "source": [
        "num = [10, 20, 30, 40, 50, 10, 20, 30, 40, 50]\n",
        "num.sort(reverse=True)\n",
        "print(num)"
      ],
      "id": "VJbZo-mZLvuD",
      "execution_count": null,
      "outputs": []
    },
    {
      "cell_type": "markdown",
      "metadata": {
        "id": "k9vtw1hhLvuE"
      },
      "source": [
        "3\\. minimum\n",
        "\n"
      ],
      "id": "k9vtw1hhLvuE"
    },
    {
      "cell_type": "code",
      "metadata": {
        "id": "bSF0D2gULvuE"
      },
      "source": [
        "num = [10, 20, 30, 40, 50, 10, 20, 30, 40, 50]\n",
        "print(min(num))"
      ],
      "id": "bSF0D2gULvuE",
      "execution_count": null,
      "outputs": []
    },
    {
      "cell_type": "markdown",
      "metadata": {
        "id": "ZJAT8q4KLvuE"
      },
      "source": [
        "4\\. maximum\n",
        "\n"
      ],
      "id": "ZJAT8q4KLvuE"
    },
    {
      "cell_type": "code",
      "metadata": {
        "id": "IKAaFLhVLvuF"
      },
      "source": [
        "num = [10, 20, 30, 40, 50, 10, 20, 30, 40, 50]\n",
        "print(max(num))"
      ],
      "id": "IKAaFLhVLvuF",
      "execution_count": null,
      "outputs": []
    },
    {
      "cell_type": "markdown",
      "metadata": {
        "id": "52VxSiMkLvuF"
      },
      "source": [
        "5\\. sorted()\n",
        "\n",
        "Vous pouvez utiliser cette fonction si vous ne souhaitez pas modifier votre liste initiale par un tri."
      ],
      "id": "52VxSiMkLvuF"
    },
    {
      "cell_type": "code",
      "metadata": {
        "id": "6GP4DN6bLvuG"
      },
      "source": [
        "num = [70, 20, 30, 10, 50, 60, 20, 80, 70, 50]\n",
        "tri = sorted(num,reverse=True)\n",
        "print(num)\n",
        "print(tri)"
      ],
      "id": "6GP4DN6bLvuG",
      "execution_count": null,
      "outputs": []
    },
    {
      "cell_type": "code",
      "metadata": {
        "id": "poPk5glzLvuG"
      },
      "source": [
        "num = [70, 20, 30, 10, 50, 60, 20, 80, 70, 50]\n",
        "\n",
        "# sélectionner les cinq premiers numéros\n",
        "tri = sorted(num,reverse=True)[:5]\n",
        "print(tri)"
      ],
      "id": "poPk5glzLvuG",
      "execution_count": null,
      "outputs": []
    },
    {
      "cell_type": "markdown",
      "metadata": {
        "id": "gGrq83pqLvuG"
      },
      "source": [
        "Modifiez le code donné ci-dessous pour afficher les cinq plus grands numéros uniques.\n"
      ],
      "id": "gGrq83pqLvuG"
    },
    {
      "cell_type": "code",
      "metadata": {
        "id": "bpmh1b-ELvuG"
      },
      "source": [
        "print(sorted(\"Bonjour le monde!\".split(), key=str.lower, \n",
        "           reverse=True))\n",
        "  \n",
        "\n",
        "\n"
      ],
      "id": "bpmh1b-ELvuG",
      "execution_count": null,
      "outputs": []
    },
    {
      "cell_type": "markdown",
      "metadata": {
        "id": "HqaeZtJULvuH"
      },
      "source": [
        "#### Exercice 4\n",
        "\n",
        "1\\. Dictionnaire\n",
        "\n"
      ],
      "id": "HqaeZtJULvuH"
    },
    {
      "cell_type": "code",
      "metadata": {
        "id": "gwiowscQLvuH"
      },
      "source": [
        "a = {\"contente\": 12, \"content\": 12, \"triste\": 2}\n",
        "print(a)\n",
        "print(type(a))"
      ],
      "id": "gwiowscQLvuH",
      "execution_count": null,
      "outputs": []
    },
    {
      "cell_type": "code",
      "metadata": {
        "id": "5mJOGvr2LvuH"
      },
      "source": [
        "a = {\"contente\": 12, \"content\": 12, \"triste\": 2}\n",
        "for key in a:\n",
        "    print(\"la phrase \", key, \" apparait \", a[key], \" fois\")\n"
      ],
      "id": "5mJOGvr2LvuH",
      "execution_count": null,
      "outputs": []
    },
    {
      "cell_type": "code",
      "metadata": {
        "id": "hHurmDnpLvuI"
      },
      "source": [
        "a = {\"contente\": 12, \"content\": 12, \"triste\": 2}\n",
        "for key,value in a.items():\n",
        "    print(\"la phrase \", key, \" apparait \", value, \" fois\")\n",
        "  \n",
        "\n",
        "\n"
      ],
      "id": "hHurmDnpLvuI",
      "execution_count": null,
      "outputs": []
    },
    {
      "cell_type": "code",
      "metadata": {
        "id": "CDdk6UqlLvuI"
      },
      "source": [
        "a = {\"contente\": 12, \"content\": 12, \"triste\": 2}\n",
        "a[\"joie\"] = 10\n",
        "print(a)\n",
        "  \n",
        "\n",
        "\n"
      ],
      "id": "CDdk6UqlLvuI",
      "execution_count": null,
      "outputs": []
    },
    {
      "cell_type": "code",
      "metadata": {
        "id": "_3yE-XPwLvuI"
      },
      "source": [
        "a = {\"contente\": 12, \"content\": 12, \"triste\": 2}\n",
        "del a[\"triste\"]\n",
        "print(a)"
      ],
      "id": "_3yE-XPwLvuI",
      "execution_count": null,
      "outputs": []
    },
    {
      "cell_type": "code",
      "metadata": {
        "id": "YGoAFp3YLvuJ"
      },
      "source": [
        "mots = {\"contente\": 12, \"content\": 12, \"triste\": 2, \n",
        "     \"joie\" : 10}\n",
        "print(sorted(mots))"
      ],
      "id": "YGoAFp3YLvuJ",
      "execution_count": null,
      "outputs": []
    },
    {
      "cell_type": "code",
      "metadata": {
        "id": "rkRQlTX_LvuJ"
      },
      "source": [
        "mots = {\"contente\": 12, \"content\": 12, \"triste\": 2, \n",
        "     \"joie\" : 10}\n",
        "mots_tuple = [(key, value) for key,value in mots.items()]\n",
        "print(mots_tuple)"
      ],
      "id": "rkRQlTX_LvuJ",
      "execution_count": null,
      "outputs": []
    },
    {
      "cell_type": "markdown",
      "metadata": {
        "id": "t23bXm8aLvuJ"
      },
      "source": [
        "2\\. itemgetter"
      ],
      "id": "t23bXm8aLvuJ"
    },
    {
      "cell_type": "code",
      "metadata": {
        "id": "YVAQKUOaLvuJ"
      },
      "source": [
        "from operator import itemgetter\n",
        " \n",
        "mots = {\"contente\": 12, \"content\": 12, \"triste\": 2, \n",
        "     \"joie\" : 10}\n",
        "mots_tuple = [(key, value) for key,value in mots.items()]\n",
        "print(sorted(mots_tuple, key=itemgetter(1)))"
      ],
      "id": "YVAQKUOaLvuJ",
      "execution_count": null,
      "outputs": []
    },
    {
      "cell_type": "markdown",
      "metadata": {
        "id": "ZnSabZVlLvuK"
      },
      "source": [
        "3\\. Interaction with user"
      ],
      "id": "ZnSabZVlLvuK"
    },
    {
      "cell_type": "code",
      "metadata": {
        "id": "B_pnP0R1LvuK"
      },
      "source": [
        "nom = input(\"Quel est votre nom?\")\n",
        "print(nom)"
      ],
      "id": "B_pnP0R1LvuK",
      "execution_count": null,
      "outputs": []
    },
    {
      "cell_type": "code",
      "metadata": {
        "id": "ozIDd916LvuK"
      },
      "source": [
        "age = input(\"Quel est votre âge? \")\n",
        "print(age)\n",
        "print(type(age))"
      ],
      "id": "ozIDd916LvuK",
      "execution_count": null,
      "outputs": []
    },
    {
      "cell_type": "code",
      "metadata": {
        "id": "jQikwTnYLvuK"
      },
      "source": [
        "age = input(\"Quel est votre âge? \")\n",
        "age = int(age)\n",
        "print(age)\n",
        "print(type(age))"
      ],
      "id": "jQikwTnYLvuK",
      "execution_count": null,
      "outputs": []
    },
    {
      "cell_type": "markdown",
      "metadata": {
        "id": "n-NOaahvLvuL"
      },
      "source": [
        "**Question:** Ecrire un programme en Python qui interagit avec l'utilisateur pour\n",
        "obtenir les informations suivantes de 5 étudiants :\n",
        "\n",
        "- Nom de l'étudiant\n",
        "- Âge\n",
        "- Grades en 5 modules\n",
        "\n",
        "Une fois les informations obtenues pour les cinq étudiants, calculez\n",
        "et afficher les valeurs suivantes pour chaque module :\n",
        "\n",
        "- note moyenne\n",
        "- note maximale\n",
        "- note minimale"
      ],
      "id": "n-NOaahvLvuL"
    },
    {
      "cell_type": "markdown",
      "metadata": {
        "id": "0XmFkMRrLvuL"
      },
      "source": [
        "#### Exercice 5\n",
        "\n",
        "Lire et écrire dans un fichier"
      ],
      "id": "0XmFkMRrLvuL"
    },
    {
      "cell_type": "markdown",
      "metadata": {
        "id": "mxMkwJ3jLvuL"
      },
      "source": [
        "1\\. Fichiers\n"
      ],
      "id": "mxMkwJ3jLvuL"
    },
    {
      "cell_type": "code",
      "metadata": {
        "id": "-YYw3eh0LvuL"
      },
      "source": [
        "# écrire dans un fichier\n",
        "message = \"Bonjour le monde\"\n",
        "with open(\"bonjour.txt\", \"w\") as file:\n",
        "    file.write(message)\n",
        "file.close()"
      ],
      "id": "-YYw3eh0LvuL",
      "execution_count": null,
      "outputs": []
    },
    {
      "cell_type": "code",
      "metadata": {
        "id": "FJ7o-XNdLvuM"
      },
      "source": [
        "# lire un fichier\n",
        "with open(\"bonjour.txt\", \"r\") as file:\n",
        "    text = file.read()\n",
        "    print(text)\n",
        "file.close()"
      ],
      "id": "FJ7o-XNdLvuM",
      "execution_count": null,
      "outputs": []
    },
    {
      "cell_type": "code",
      "metadata": {
        "id": "C7nby-w-LvuM"
      },
      "source": [
        "# écrire dans un fichier\n",
        "message1 = \"Bonjour le monde\"\n",
        "message2 = \"Programmation en Python\"\n",
        "with open(\"bonjour.txt\", \"w\") as file:\n",
        "    file.write(message1)\n",
        "    file.write(message2)\n",
        "file.close()"
      ],
      "id": "C7nby-w-LvuM",
      "execution_count": null,
      "outputs": []
    },
    {
      "cell_type": "code",
      "metadata": {
        "id": "RxNvb58nLvuM"
      },
      "source": [
        "# lire un fichier\n",
        "with open(\"bonjour.txt\", \"r\") as file:\n",
        "    text = file.read()\n",
        "    print(text)\n",
        "file.close()"
      ],
      "id": "RxNvb58nLvuM",
      "execution_count": null,
      "outputs": []
    },
    {
      "cell_type": "code",
      "metadata": {
        "id": "1rGXUu4oLvuM"
      },
      "source": [
        "# Rédaction dans un fichier en utilisant le caractère de nouvelle ligne\n",
        "message1 = \"Bonjour le monde\\n\"\n",
        "message2 = \"Programmation en Python\"\n",
        "with open(\"bonjour.txt\", \"w\") as file:\n",
        "    file.write(message1)\n",
        "    file.write(message2)\n",
        "file.close()\n",
        " \n",
        "with open(\"bonjour.txt\", \"r\") as file:\n",
        "    text = file.read()\n",
        "    print(text)\n",
        "file.close()"
      ],
      "id": "1rGXUu4oLvuM",
      "execution_count": null,
      "outputs": []
    },
    {
      "cell_type": "markdown",
      "metadata": {
        "id": "XNsG-P7NLvuM"
      },
      "source": [
        "2\\. readline()\n",
        "\n",
        "Cette fonction peut être utilisée pour lire un fichier ligne par ligne et non le contenu complet en un seul appel comme read()"
      ],
      "id": "XNsG-P7NLvuM"
    },
    {
      "cell_type": "code",
      "metadata": {
        "id": "h8IOr87-LvuN"
      },
      "source": [
        "message1 = \"Bonjour le monde\\n\"\n",
        "message2 = \"Programmation en Python\"\n",
        "with open(\"bonjour.txt\", \"w\") as file:\n",
        "    file.write(message1)\n",
        "    file.write(message2)\n",
        "file.close()"
      ],
      "id": "h8IOr87-LvuN",
      "execution_count": null,
      "outputs": []
    },
    {
      "cell_type": "code",
      "metadata": {
        "id": "Z07nmENXLvuN"
      },
      "source": [
        "with open(\"bonjour.txt\", \"r\") as file:\n",
        "    text = file.readline()\n",
        "    print(text)\n",
        "file.close()"
      ],
      "id": "Z07nmENXLvuN",
      "execution_count": null,
      "outputs": []
    },
    {
      "cell_type": "code",
      "metadata": {
        "id": "rc28T3BnLvuN"
      },
      "source": [
        "message1 = \"Bonjour le monde\\n\"\n",
        "message2 = \"Programmation en Python\\n\"\n",
        "with open(\"bonjour.txt\", \"w\") as file:\n",
        "    file.write(message1)\n",
        "    file.write(message2)\n",
        "file.close()"
      ],
      "id": "rc28T3BnLvuN",
      "execution_count": null,
      "outputs": []
    },
    {
      "cell_type": "code",
      "metadata": {
        "id": "FjEUjbXZLvuO"
      },
      "source": [
        "with open(\"bonjour.txt\", \"r\") as file:\n",
        "    for line in file:\n",
        "        print(line)\n",
        "file.close()"
      ],
      "id": "FjEUjbXZLvuO",
      "execution_count": null,
      "outputs": []
    },
    {
      "cell_type": "markdown",
      "metadata": {
        "id": "Dfn8J5ElLvuO"
      },
      "source": [
        "**Question:** Copiez un fichier HTML dans votre répertoire. Ecrire un programme\n",
        "en Python pour obtenir les valeurs suivantes :\n",
        "\n",
        "- nombre de caractères dans le fichier HTML\n",
        "- nombre de lignes dans le fichier HTML\n",
        "- nombre de mots dans le fichier HTML\n",
        "- les vingt premiers mots du fichier HTML\n",
        "- des mots distincts dans le fichier HTML\n",
        "\n"
      ],
      "id": "Dfn8J5ElLvuO"
    },
    {
      "cell_type": "markdown",
      "metadata": {
        "id": "BQNxgXimLvuO"
      },
      "source": [
        "**Question:** Copier le CSV\n",
        "du fichier population.csv du dossier **data**. Le fichier contient les valeurs de population entre\n",
        "1901 et 2016. Écrivez un programme en Python pour obtenir la valeur maximale.\n",
        "\n",
        "- la valeur maximale de la population\n",
        "- la valeur minimale de la population\n"
      ],
      "id": "BQNxgXimLvuO"
    },
    {
      "cell_type": "code",
      "metadata": {
        "id": "tcXAltwNLvuO"
      },
      "source": [
        ""
      ],
      "id": "tcXAltwNLvuO",
      "execution_count": null,
      "outputs": []
    }
  ]
}